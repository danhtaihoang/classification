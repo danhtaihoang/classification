{
 "cells": [
  {
   "cell_type": "markdown",
   "metadata": {},
   "source": [
    "## Prediction with Random Forest"
   ]
  },
  {
   "cell_type": "code",
   "execution_count": 1,
   "metadata": {},
   "outputs": [],
   "source": [
    "import numpy as np\n",
    "import pandas as pd\n",
    "\n",
    "from sklearn.model_selection import train_test_split,KFold\n",
    "from sklearn.utils import shuffle\n",
    "from sklearn.metrics import confusion_matrix,accuracy_score,precision_score,\\\n",
    "recall_score,roc_curve,auc\n",
    "\n",
    "#import expectation_reflection as ER\n",
    "#from sklearn.linear_model import LogisticRegression\n",
    "\n",
    "from sklearn.ensemble import RandomForestClassifier\n",
    "from sklearn.model_selection import RandomizedSearchCV\n",
    "\n",
    "import matplotlib.pyplot as plt\n",
    "import seaborn as sns\n",
    "\n",
    "from sklearn.preprocessing import MinMaxScaler\n",
    "from function import split_train_test,make_data_balance"
   ]
  },
  {
   "cell_type": "code",
   "execution_count": 2,
   "metadata": {},
   "outputs": [],
   "source": [
    "np.random.seed(1)"
   ]
  },
  {
   "cell_type": "markdown",
   "metadata": {},
   "source": [
    "Import data containing features and target."
   ]
  },
  {
   "cell_type": "code",
   "execution_count": 3,
   "metadata": {},
   "outputs": [],
   "source": [
    "Xy = np.loadtxt('data_processed.dat') \n",
    "X = Xy[:,:-1]\n",
    "y = Xy[:,-1]"
   ]
  },
  {
   "cell_type": "code",
   "execution_count": 4,
   "metadata": {},
   "outputs": [],
   "source": [
    "X,y = make_data_balance(X,y)"
   ]
  },
  {
   "cell_type": "markdown",
   "metadata": {},
   "source": [
    "Shuffle the data."
   ]
  },
  {
   "cell_type": "code",
   "execution_count": 5,
   "metadata": {},
   "outputs": [],
   "source": [
    "X, y = shuffle(X, y, random_state=1)"
   ]
  },
  {
   "cell_type": "markdown",
   "metadata": {},
   "source": [
    "We split data into training and test sets, then we use the training to train our model, use the test set to evaluate the performance of our method. The size of test set can be changed by `test_size`."
   ]
  },
  {
   "cell_type": "code",
   "execution_count": 6,
   "metadata": {},
   "outputs": [],
   "source": [
    "X_train,X_test,y_train,y_test = train_test_split(X,y,test_size=0.5,random_state = 1)"
   ]
  },
  {
   "cell_type": "markdown",
   "metadata": {},
   "source": [
    "We rescale the data."
   ]
  },
  {
   "cell_type": "code",
   "execution_count": 7,
   "metadata": {},
   "outputs": [],
   "source": [
    "sc = MinMaxScaler()\n",
    "X_train = sc.fit_transform(X_train)\n",
    "X_test = sc.transform(X_test)"
   ]
  },
  {
   "cell_type": "markdown",
   "metadata": {},
   "source": [
    "We now train model with the `X_train` and `y_train`. Please note that our model has one hyper parameter `l2`. We will use cross validation to find the optimal value of `l2`. This process will also split the training set again into `X_train1` and `X_val`. The test set is assumed to be unknown."
   ]
  },
  {
   "cell_type": "code",
   "execution_count": 8,
   "metadata": {},
   "outputs": [],
   "source": [
    "model = RandomForestClassifier(random_state = 1)"
   ]
  },
  {
   "cell_type": "code",
   "execution_count": 9,
   "metadata": {},
   "outputs": [],
   "source": [
    "# Number of trees in random forest\n",
    "n_estimators = [int(x) for x in np.linspace(start = 10, stop = 100, num = 10)]\n",
    "\n",
    "# Number of features to consider at every split\n",
    "max_features = ['auto']\n",
    "\n",
    "# Maximum number of levels in tree\n",
    "max_depth = [int(x) for x in np.linspace(1, 10, num = 10)]\n",
    "#max_depth.append(None)\n",
    "\n",
    "# Minimum number of samples required to split a node\n",
    "min_samples_split = [5, 10, 15, 20]\n",
    "\n",
    "# Minimum number of samples required at each leaf node\n",
    "min_samples_leaf = [int(x) for x in np.linspace(start = 1, stop = 5, num = 5)]\n",
    "\n",
    "# Method of selecting samples for training each tree\n",
    "bootstrap = [True, False]"
   ]
  },
  {
   "cell_type": "code",
   "execution_count": 10,
   "metadata": {},
   "outputs": [],
   "source": [
    "# Create the random grid\n",
    "random_grid = {'n_estimators': n_estimators,\n",
    "               'max_features': max_features,\n",
    "               'max_depth': max_depth,\n",
    "               'min_samples_split': min_samples_split,\n",
    "               'min_samples_leaf': min_samples_leaf,\n",
    "               'bootstrap': bootstrap}"
   ]
  },
  {
   "cell_type": "code",
   "execution_count": 11,
   "metadata": {},
   "outputs": [
    {
     "name": "stdout",
     "output_type": "stream",
     "text": [
      "Fitting 4 folds for each of 100 candidates, totalling 400 fits\n"
     ]
    },
    {
     "name": "stderr",
     "output_type": "stream",
     "text": [
      "[Parallel(n_jobs=-1)]: Using backend LokyBackend with 32 concurrent workers.\n",
      "[Parallel(n_jobs=-1)]: Done  98 tasks      | elapsed:    1.4s\n",
      "[Parallel(n_jobs=-1)]: Done 400 out of 400 | elapsed:    2.1s finished\n",
      "/home/tai/anaconda3/lib/python3.7/site-packages/sklearn/model_selection/_search.py:841: DeprecationWarning: The default of the `iid` parameter will change from True to False in version 0.22 and will be removed in 0.24. This will change numeric results when test-set sizes are unequal.\n",
      "  DeprecationWarning)\n"
     ]
    },
    {
     "data": {
      "text/plain": [
       "RandomizedSearchCV(cv=4, error_score='raise-deprecating',\n",
       "          estimator=RandomForestClassifier(bootstrap=True, class_weight=None, criterion='gini',\n",
       "            max_depth=None, max_features='auto', max_leaf_nodes=None,\n",
       "            min_impurity_decrease=0.0, min_impurity_split=None,\n",
       "            min_samples_leaf=1, min_samples_split=2,\n",
       "            min_weight_fraction_leaf=0.0, n_estimators='warn', n_jobs=None,\n",
       "            oob_score=False, random_state=1, verbose=0, warm_start=False),\n",
       "          fit_params=None, iid='warn', n_iter=100, n_jobs=-1,\n",
       "          param_distributions={'n_estimators': [10, 20, 30, 40, 50, 60, 70, 80, 90, 100], 'max_features': ['auto'], 'max_depth': [1, 2, 3, 4, 5, 6, 7, 8, 9, 10], 'min_samples_split': [5, 10, 15, 20], 'min_samples_leaf': [1, 2, 3, 4, 5], 'bootstrap': [True, False]},\n",
       "          pre_dispatch='2*n_jobs', random_state=1, refit=True,\n",
       "          return_train_score='warn', scoring=None, verbose=2)"
      ]
     },
     "execution_count": 11,
     "metadata": {},
     "output_type": "execute_result"
    }
   ],
   "source": [
    "random_search = RandomizedSearchCV(estimator = model, param_distributions = random_grid, n_iter = 100, \n",
    "                               cv = 4, verbose=2, random_state=1, n_jobs = -1)\n",
    "\n",
    "random_search.fit(X_train, y_train)"
   ]
  },
  {
   "cell_type": "code",
   "execution_count": 12,
   "metadata": {},
   "outputs": [
    {
     "data": {
      "text/plain": [
       "{'n_estimators': 100,\n",
       " 'min_samples_split': 10,\n",
       " 'min_samples_leaf': 1,\n",
       " 'max_features': 'auto',\n",
       " 'max_depth': 8,\n",
       " 'bootstrap': True}"
      ]
     },
     "execution_count": 12,
     "metadata": {},
     "output_type": "execute_result"
    }
   ],
   "source": [
    "# best hyper parameters\n",
    "random_search.best_params_"
   ]
  },
  {
   "cell_type": "code",
   "execution_count": 13,
   "metadata": {},
   "outputs": [
    {
     "name": "stdout",
     "output_type": "stream",
     "text": [
      "1.0\n"
     ]
    }
   ],
   "source": [
    "y_pred = random_search.best_estimator_.predict(X_test)\n",
    "accuracy = accuracy_score(y_test,y_pred)\n",
    "print(accuracy)"
   ]
  },
  {
   "cell_type": "code",
   "execution_count": 14,
   "metadata": {},
   "outputs": [],
   "source": [
    "p_test_pred = random_search.best_estimator_.predict_proba(X_test)"
   ]
  },
  {
   "cell_type": "code",
   "execution_count": 15,
   "metadata": {},
   "outputs": [
    {
     "ename": "ValueError",
     "evalue": "bad input shape (149, 2)",
     "output_type": "error",
     "traceback": [
      "\u001b[0;31m---------------------------------------------------------------------------\u001b[0m",
      "\u001b[0;31mValueError\u001b[0m                                Traceback (most recent call last)",
      "\u001b[0;32m<ipython-input-15-5f20cebfff28>\u001b[0m in \u001b[0;36m<module>\u001b[0;34m\u001b[0m\n\u001b[0;32m----> 1\u001b[0;31m \u001b[0mfp\u001b[0m\u001b[0;34m,\u001b[0m\u001b[0mtp\u001b[0m\u001b[0;34m,\u001b[0m\u001b[0mthresholds\u001b[0m \u001b[0;34m=\u001b[0m \u001b[0mroc_curve\u001b[0m\u001b[0;34m(\u001b[0m\u001b[0my_test\u001b[0m\u001b[0;34m,\u001b[0m \u001b[0mp_test_pred\u001b[0m\u001b[0;34m,\u001b[0m \u001b[0mdrop_intermediate\u001b[0m\u001b[0;34m=\u001b[0m\u001b[0;32mFalse\u001b[0m\u001b[0;34m)\u001b[0m\u001b[0;34m\u001b[0m\u001b[0;34m\u001b[0m\u001b[0m\n\u001b[0m",
      "\u001b[0;32m~/anaconda3/lib/python3.7/site-packages/sklearn/metrics/ranking.py\u001b[0m in \u001b[0;36mroc_curve\u001b[0;34m(y_true, y_score, pos_label, sample_weight, drop_intermediate)\u001b[0m\n\u001b[1;32m    616\u001b[0m     \"\"\"\n\u001b[1;32m    617\u001b[0m     fps, tps, thresholds = _binary_clf_curve(\n\u001b[0;32m--> 618\u001b[0;31m         y_true, y_score, pos_label=pos_label, sample_weight=sample_weight)\n\u001b[0m\u001b[1;32m    619\u001b[0m \u001b[0;34m\u001b[0m\u001b[0m\n\u001b[1;32m    620\u001b[0m     \u001b[0;31m# Attempt to drop thresholds corresponding to points in between and\u001b[0m\u001b[0;34m\u001b[0m\u001b[0;34m\u001b[0m\u001b[0;34m\u001b[0m\u001b[0m\n",
      "\u001b[0;32m~/anaconda3/lib/python3.7/site-packages/sklearn/metrics/ranking.py\u001b[0m in \u001b[0;36m_binary_clf_curve\u001b[0;34m(y_true, y_score, pos_label, sample_weight)\u001b[0m\n\u001b[1;32m    399\u001b[0m     \u001b[0mcheck_consistent_length\u001b[0m\u001b[0;34m(\u001b[0m\u001b[0my_true\u001b[0m\u001b[0;34m,\u001b[0m \u001b[0my_score\u001b[0m\u001b[0;34m,\u001b[0m \u001b[0msample_weight\u001b[0m\u001b[0;34m)\u001b[0m\u001b[0;34m\u001b[0m\u001b[0;34m\u001b[0m\u001b[0m\n\u001b[1;32m    400\u001b[0m     \u001b[0my_true\u001b[0m \u001b[0;34m=\u001b[0m \u001b[0mcolumn_or_1d\u001b[0m\u001b[0;34m(\u001b[0m\u001b[0my_true\u001b[0m\u001b[0;34m)\u001b[0m\u001b[0;34m\u001b[0m\u001b[0;34m\u001b[0m\u001b[0m\n\u001b[0;32m--> 401\u001b[0;31m     \u001b[0my_score\u001b[0m \u001b[0;34m=\u001b[0m \u001b[0mcolumn_or_1d\u001b[0m\u001b[0;34m(\u001b[0m\u001b[0my_score\u001b[0m\u001b[0;34m)\u001b[0m\u001b[0;34m\u001b[0m\u001b[0;34m\u001b[0m\u001b[0m\n\u001b[0m\u001b[1;32m    402\u001b[0m     \u001b[0massert_all_finite\u001b[0m\u001b[0;34m(\u001b[0m\u001b[0my_true\u001b[0m\u001b[0;34m)\u001b[0m\u001b[0;34m\u001b[0m\u001b[0;34m\u001b[0m\u001b[0m\n\u001b[1;32m    403\u001b[0m     \u001b[0massert_all_finite\u001b[0m\u001b[0;34m(\u001b[0m\u001b[0my_score\u001b[0m\u001b[0;34m)\u001b[0m\u001b[0;34m\u001b[0m\u001b[0;34m\u001b[0m\u001b[0m\n",
      "\u001b[0;32m~/anaconda3/lib/python3.7/site-packages/sklearn/utils/validation.py\u001b[0m in \u001b[0;36mcolumn_or_1d\u001b[0;34m(y, warn)\u001b[0m\n\u001b[1;32m    795\u001b[0m         \u001b[0;32mreturn\u001b[0m \u001b[0mnp\u001b[0m\u001b[0;34m.\u001b[0m\u001b[0mravel\u001b[0m\u001b[0;34m(\u001b[0m\u001b[0my\u001b[0m\u001b[0;34m)\u001b[0m\u001b[0;34m\u001b[0m\u001b[0;34m\u001b[0m\u001b[0m\n\u001b[1;32m    796\u001b[0m \u001b[0;34m\u001b[0m\u001b[0m\n\u001b[0;32m--> 797\u001b[0;31m     \u001b[0;32mraise\u001b[0m \u001b[0mValueError\u001b[0m\u001b[0;34m(\u001b[0m\u001b[0;34m\"bad input shape {0}\"\u001b[0m\u001b[0;34m.\u001b[0m\u001b[0mformat\u001b[0m\u001b[0;34m(\u001b[0m\u001b[0mshape\u001b[0m\u001b[0;34m)\u001b[0m\u001b[0;34m)\u001b[0m\u001b[0;34m\u001b[0m\u001b[0;34m\u001b[0m\u001b[0m\n\u001b[0m\u001b[1;32m    798\u001b[0m \u001b[0;34m\u001b[0m\u001b[0m\n\u001b[1;32m    799\u001b[0m \u001b[0;34m\u001b[0m\u001b[0m\n",
      "\u001b[0;31mValueError\u001b[0m: bad input shape (149, 2)"
     ]
    }
   ],
   "source": [
    "fp,tp,thresholds = roc_curve(y_test, p_test_pred, drop_intermediate=False)"
   ]
  },
  {
   "cell_type": "code",
   "execution_count": 16,
   "metadata": {},
   "outputs": [
    {
     "data": {
      "text/plain": [
       "array([[9.20122683e-01, 7.98773167e-02],\n",
       "       [2.70000000e-01, 7.30000000e-01],\n",
       "       [9.99718310e-01, 2.81690141e-04],\n",
       "       [9.96575453e-01, 3.42454728e-03],\n",
       "       [9.97423687e-02, 9.00257631e-01],\n",
       "       [9.93670691e-01, 6.32930919e-03],\n",
       "       [0.00000000e+00, 1.00000000e+00],\n",
       "       [1.06013986e-02, 9.89398601e-01],\n",
       "       [2.60439560e-02, 9.73956044e-01],\n",
       "       [9.94384977e-01, 5.61502347e-03],\n",
       "       [4.62676768e-02, 9.53732323e-01],\n",
       "       [9.99718310e-01, 2.81690141e-04],\n",
       "       [9.99718310e-01, 2.81690141e-04],\n",
       "       [9.93884977e-01, 6.11502347e-03],\n",
       "       [9.93289738e-01, 6.71026157e-03],\n",
       "       [9.97039738e-01, 2.96026157e-03],\n",
       "       [9.85075453e-01, 1.49245473e-02],\n",
       "       [8.91557596e-01, 1.08442404e-01],\n",
       "       [9.93242119e-01, 6.75788062e-03],\n",
       "       [0.00000000e+00, 1.00000000e+00],\n",
       "       [9.99718310e-01, 2.81690141e-04],\n",
       "       [6.93351968e-01, 3.06648032e-01],\n",
       "       [9.94384977e-01, 5.61502347e-03],\n",
       "       [0.00000000e+00, 1.00000000e+00],\n",
       "       [9.98884977e-01, 1.11502347e-03],\n",
       "       [2.05757576e-02, 9.79424242e-01],\n",
       "       [1.00000000e-03, 9.99000000e-01],\n",
       "       [1.48907240e-01, 8.51092760e-01],\n",
       "       [9.99718310e-01, 2.81690141e-04],\n",
       "       [6.00000000e-03, 9.94000000e-01],\n",
       "       [9.61140160e-01, 3.88598401e-02],\n",
       "       [0.00000000e+00, 1.00000000e+00],\n",
       "       [0.00000000e+00, 1.00000000e+00],\n",
       "       [2.98194653e-01, 7.01805347e-01],\n",
       "       [9.89551643e-01, 1.04483568e-02],\n",
       "       [9.93670691e-01, 6.32930919e-03],\n",
       "       [0.00000000e+00, 1.00000000e+00],\n",
       "       [9.88057909e-01, 1.19420911e-02],\n",
       "       [9.94718310e-01, 5.28169014e-03],\n",
       "       [1.71687923e-01, 8.28312077e-01],\n",
       "       [0.00000000e+00, 1.00000000e+00],\n",
       "       [0.00000000e+00, 1.00000000e+00],\n",
       "       [5.00000000e-03, 9.95000000e-01],\n",
       "       [9.97956405e-01, 2.04359490e-03],\n",
       "       [9.96384977e-01, 3.61502347e-03],\n",
       "       [9.25503636e-01, 7.44963644e-02],\n",
       "       [1.15486785e-01, 8.84513215e-01],\n",
       "       [2.29166667e-02, 9.77083333e-01],\n",
       "       [9.57575758e-03, 9.90424242e-01],\n",
       "       [5.00000000e-03, 9.95000000e-01],\n",
       "       [9.91504024e-01, 8.49597586e-03],\n",
       "       [0.00000000e+00, 1.00000000e+00],\n",
       "       [9.83617433e-01, 1.63825673e-02],\n",
       "       [5.78036416e-01, 4.21963584e-01],\n",
       "       [9.96027834e-01, 3.97216633e-03],\n",
       "       [9.91289738e-01, 8.71026157e-03],\n",
       "       [9.68796004e-01, 3.12039959e-02],\n",
       "       [9.99718310e-01, 2.81690141e-04],\n",
       "       [9.93884977e-01, 6.11502347e-03],\n",
       "       [9.93051643e-01, 6.94835681e-03],\n",
       "       [9.99718310e-01, 2.81690141e-04],\n",
       "       [9.86265929e-01, 1.37340711e-02],\n",
       "       [9.76224576e-01, 2.37754245e-02],\n",
       "       [0.00000000e+00, 1.00000000e+00],\n",
       "       [5.66453546e-02, 9.43354645e-01],\n",
       "       [9.04404818e-01, 9.55951822e-02],\n",
       "       [9.99718310e-01, 2.81690141e-04],\n",
       "       [9.99384977e-01, 6.15023474e-04],\n",
       "       [0.00000000e+00, 1.00000000e+00],\n",
       "       [9.90075453e-01, 9.92454728e-03],\n",
       "       [9.99718310e-01, 2.81690141e-04],\n",
       "       [0.00000000e+00, 1.00000000e+00],\n",
       "       [9.99718310e-01, 2.81690141e-04],\n",
       "       [4.20000000e-02, 9.58000000e-01],\n",
       "       [9.98289738e-01, 1.71026157e-03],\n",
       "       [9.96242119e-01, 3.75788062e-03],\n",
       "       [3.97423687e-02, 9.60257631e-01],\n",
       "       [9.90551643e-01, 9.44835681e-03],\n",
       "       [6.00000000e-03, 9.94000000e-01],\n",
       "       [9.99718310e-01, 2.81690141e-04],\n",
       "       [3.16013986e-02, 9.68398601e-01],\n",
       "       [9.97456405e-01, 2.54359490e-03],\n",
       "       [9.99384977e-01, 6.15023474e-04],\n",
       "       [1.42857143e-03, 9.98571429e-01],\n",
       "       [1.29166667e-02, 9.87083333e-01],\n",
       "       [6.95367410e-02, 9.30463259e-01],\n",
       "       [0.00000000e+00, 1.00000000e+00],\n",
       "       [9.99718310e-01, 2.81690141e-04],\n",
       "       [2.00000000e-02, 9.80000000e-01],\n",
       "       [6.66666667e-03, 9.93333333e-01],\n",
       "       [9.98289738e-01, 1.71026157e-03],\n",
       "       [9.76724576e-01, 2.32754245e-02],\n",
       "       [1.25333333e-01, 8.74666667e-01],\n",
       "       [8.39119048e-01, 1.60880952e-01],\n",
       "       [0.00000000e+00, 1.00000000e+00],\n",
       "       [9.63367433e-01, 3.66325673e-02],\n",
       "       [9.96027834e-01, 3.97216633e-03],\n",
       "       [6.00000000e-03, 9.94000000e-01],\n",
       "       [8.46666667e-02, 9.15333333e-01],\n",
       "       [6.04395604e-03, 9.93956044e-01],\n",
       "       [9.63367433e-01, 3.66325673e-02],\n",
       "       [9.92456405e-01, 7.54359490e-03],\n",
       "       [5.97727273e-03, 9.94022727e-01],\n",
       "       [0.00000000e+00, 1.00000000e+00],\n",
       "       [9.79915052e-01, 2.00849483e-02],\n",
       "       [0.00000000e+00, 1.00000000e+00],\n",
       "       [9.83617433e-01, 1.63825673e-02],\n",
       "       [5.48357845e-01, 4.51642155e-01],\n",
       "       [2.50000000e-03, 9.97500000e-01],\n",
       "       [9.77420691e-01, 2.25793092e-02],\n",
       "       [9.99384977e-01, 6.15023474e-04],\n",
       "       [8.47000000e-01, 1.53000000e-01],\n",
       "       [6.66666667e-03, 9.93333333e-01],\n",
       "       [9.71742119e-01, 2.82578806e-02],\n",
       "       [9.99384977e-01, 6.15023474e-04],\n",
       "       [2.20416667e-02, 9.77958333e-01],\n",
       "       [9.96384977e-01, 3.61502347e-03],\n",
       "       [0.00000000e+00, 1.00000000e+00],\n",
       "       [2.08571429e-01, 7.91428571e-01],\n",
       "       [9.92956405e-01, 7.04359490e-03],\n",
       "       [9.92575453e-01, 7.42454728e-03],\n",
       "       [2.08246754e-01, 7.91753246e-01],\n",
       "       [4.31709957e-02, 9.56829004e-01],\n",
       "       [9.94075453e-01, 5.92454728e-03],\n",
       "       [1.60000000e-02, 9.84000000e-01],\n",
       "       [9.98051643e-01, 1.94835681e-03],\n",
       "       [1.66666667e-02, 9.83333333e-01],\n",
       "       [1.00000000e-02, 9.90000000e-01],\n",
       "       [9.96575453e-01, 3.42454728e-03],\n",
       "       [8.29899123e-01, 1.70100877e-01],\n",
       "       [8.61269841e-02, 9.13873016e-01],\n",
       "       [0.00000000e+00, 1.00000000e+00],\n",
       "       [0.00000000e+00, 1.00000000e+00],\n",
       "       [1.51666667e-02, 9.84833333e-01],\n",
       "       [2.10000000e-02, 9.79000000e-01],\n",
       "       [9.12087912e-03, 9.90879121e-01],\n",
       "       [9.96242119e-01, 3.75788062e-03],\n",
       "       [9.21093623e-01, 7.89063769e-02],\n",
       "       [9.96242119e-01, 3.75788062e-03],\n",
       "       [9.22170302e-01, 7.78296977e-02],\n",
       "       [9.76391242e-01, 2.36087578e-02],\n",
       "       [0.00000000e+00, 1.00000000e+00],\n",
       "       [9.98289738e-01, 1.71026157e-03],\n",
       "       [9.61926956e-01, 3.80730435e-02],\n",
       "       [1.48484793e-01, 8.51515207e-01],\n",
       "       [1.49500000e-01, 8.50500000e-01],\n",
       "       [4.65409452e-02, 9.53459055e-01],\n",
       "       [0.00000000e+00, 1.00000000e+00],\n",
       "       [4.21461608e-01, 5.78538392e-01]])"
      ]
     },
     "execution_count": 16,
     "metadata": {},
     "output_type": "execute_result"
    }
   ],
   "source": [
    "p_test_pred"
   ]
  },
  {
   "cell_type": "code",
   "execution_count": null,
   "metadata": {},
   "outputs": [],
   "source": []
  }
 ],
 "metadata": {
  "kernelspec": {
   "display_name": "Python 3",
   "language": "python",
   "name": "python3"
  },
  "language_info": {
   "codemirror_mode": {
    "name": "ipython",
    "version": 3
   },
   "file_extension": ".py",
   "mimetype": "text/x-python",
   "name": "python",
   "nbconvert_exporter": "python",
   "pygments_lexer": "ipython3",
   "version": "3.7.3"
  }
 },
 "nbformat": 4,
 "nbformat_minor": 2
}
