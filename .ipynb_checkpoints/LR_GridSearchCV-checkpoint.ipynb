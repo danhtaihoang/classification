{
 "cells": [
  {
   "cell_type": "markdown",
   "metadata": {},
   "source": [
    "## Logistic Regression"
   ]
  },
  {
   "cell_type": "code",
   "execution_count": 1,
   "metadata": {},
   "outputs": [],
   "source": [
    "import numpy as np\n",
    "import pandas as pd\n",
    "\n",
    "from sklearn.model_selection import train_test_split,KFold\n",
    "from sklearn.utils import shuffle\n",
    "from sklearn.metrics import confusion_matrix,accuracy_score,precision_score,\\\n",
    "recall_score,roc_curve,auc\n",
    "\n",
    "import expectation_reflection as ER\n",
    "from sklearn.linear_model import LogisticRegression\n",
    "from sklearn.model_selection import GridSearchCV\n",
    "\n",
    "import matplotlib.pyplot as plt\n",
    "import seaborn as sns\n",
    "\n",
    "from sklearn.preprocessing import MinMaxScaler\n",
    "from function import split_train_test,make_data_balance"
   ]
  },
  {
   "cell_type": "code",
   "execution_count": 2,
   "metadata": {},
   "outputs": [],
   "source": [
    "np.random.seed(1)"
   ]
  },
  {
   "cell_type": "markdown",
   "metadata": {},
   "source": [
    "First of all, the processed data are imported."
   ]
  },
  {
   "cell_type": "code",
   "execution_count": 3,
   "metadata": {},
   "outputs": [
    {
     "name": "stdout",
     "output_type": "stream",
     "text": [
      "['1paradox' '2peptide' '3stigma' '4nki' '5mental' '6smoking' '7anemia'\n",
      " '8language' '9coag' '10tazamia' '11hepato' '12heat' '13ef' '14cervix'\n",
      " '15heart' '16liver' '17nwosu' '18school' '19ibs' '21survival' '101kidney'\n",
      " '102breast_cancer' '103diabetes_niddk' '104diabetic_retinopathy'\n",
      " '29parkinson' '30paradox2' '31renal' '33svr' '35pcos']\n"
     ]
    }
   ],
   "source": [
    "#data_list = ['1paradox','2peptide','3stigma']\n",
    "data_list = np.loadtxt('data_list.txt',dtype='str')\n",
    "#data_list = ['29parkinson','30paradox2','31renal','32patientcare','33svr','34newt','35pcos']\n",
    "\n",
    "print(data_list)"
   ]
  },
  {
   "cell_type": "code",
   "execution_count": 4,
   "metadata": {},
   "outputs": [],
   "source": [
    "def read_data(data_id):    \n",
    "    data_name = data_list[data_id]\n",
    "    print('data_name:',data_name)\n",
    "    Xy = np.loadtxt('../data/%s/data_processed.dat'%data_name) \n",
    "    X = Xy[:,:-1]\n",
    "    y = Xy[:,-1]\n",
    "\n",
    "    #print(np.unique(y,return_counts=True))\n",
    "\n",
    "    X,y = make_data_balance(X,y)\n",
    "\n",
    "    print(np.unique(y,return_counts=True))\n",
    "\n",
    "    X, y = shuffle(X, y, random_state=1)\n",
    "\n",
    "    X_train,X_test,y_train,y_test = train_test_split(X,y,test_size=0.5,random_state = 1)\n",
    "    \n",
    "    sc = MinMaxScaler()\n",
    "    X_train = sc.fit_transform(X_train)\n",
    "    X_test = sc.transform(X_test)\n",
    "    \n",
    "    return X_train,X_test,y_train,y_test"
   ]
  },
  {
   "cell_type": "code",
   "execution_count": 5,
   "metadata": {},
   "outputs": [],
   "source": [
    "def measure_performance(X_train,X_test,y_train,y_test):\n",
    "    \n",
    "    model = LogisticRegression(max_iter=100)\n",
    "\n",
    "    # regularization penalty space\n",
    "    penalty = ['l1','l2']\n",
    "    #penalty = ['elasticnet']\n",
    "\n",
    "    # solver\n",
    "    #solver=['saga']\n",
    "    solver=['liblinear']\n",
    "\n",
    "    # regularization hyperparameter space\n",
    "    #C = np.logspace(0, 4, 10)\n",
    "    C = [0.001,0.1,1.0,10.0,100.0]\n",
    "\n",
    "    # l1_ratio\n",
    "    #l1_ratio = [0.1,0.5,0.9]\n",
    "\n",
    "    # Create hyperparameter options\n",
    "    #hyperparameters = dict(penalty=penalty,solver=solver,C=C,l1_ratio=l1_ratio)\n",
    "    hyper_parameters = dict(penalty=penalty,solver=solver,C=C)\n",
    "    \n",
    "    # Create grid search using cross validation\n",
    "    clf = GridSearchCV(model, hyper_parameters, cv=4, iid='deprecated')\n",
    "    \n",
    "    # Fit grid search\n",
    "    best_model = clf.fit(X_train, y_train)\n",
    "    \n",
    "    # View best hyperparameters\n",
    "    #print('Best Penalty:', best_model.best_estimator_.get_params()['penalty'])\n",
    "    #print('Best C:', best_model.best_estimator_.get_params()['C'])\n",
    "    \n",
    "    # best hyper parameters\n",
    "    print('best_hyper_parameters:',best_model.best_params_)\n",
    "\n",
    "    # performance:\n",
    "    y_test_pred = best_model.best_estimator_.predict(X_test)\n",
    "    acc = accuracy_score(y_test,y_test_pred)\n",
    "    #print('Accuracy:', acc)\n",
    "\n",
    "    p_test_pred = best_model.best_estimator_.predict_proba(X_test) # prob of [0,1]\n",
    "    p_test_pred = p_test_pred[:,1] # prob of 1    \n",
    "    fp,tp,thresholds = roc_curve(y_test, p_test_pred, drop_intermediate=False)\n",
    "    roc_auc = auc(fp,tp)\n",
    "    #print('AUC:', roc_auc)\n",
    "\n",
    "    precision = precision_score(y_test,y_test_pred)\n",
    "    #print('Precision:',precision)\n",
    "\n",
    "    recall = recall_score(y_test,y_test_pred)\n",
    "    #print('Recall:',recall)\n",
    "    \n",
    "    return acc,roc_auc,precision,recall"
   ]
  },
  {
   "cell_type": "code",
   "execution_count": 6,
   "metadata": {},
   "outputs": [
    {
     "name": "stdout",
     "output_type": "stream",
     "text": [
      "data_name: 1paradox\n",
      "(array([0., 1.]), array([169,  60]))\n",
      "(array([0., 1.]), array([60, 60]))\n",
      "best_hyper_parameters: {'C': 100.0, 'penalty': 'l1', 'solver': 'liblinear'}\n",
      "0 0.8166666666666667 0.880728554641598\n",
      "data_name: 2peptide\n",
      "(array([0., 1.]), array([675,  23]))\n",
      "(array([0., 1.]), array([23, 23]))\n",
      "best_hyper_parameters: {'C': 1.0, 'penalty': 'l1', 'solver': 'liblinear'}\n",
      "1 1.0 1.0\n",
      "data_name: 3stigma\n",
      "(array([0., 1.]), array([2725, 7940]))\n",
      "(array([0., 1.]), array([2725, 2725]))\n",
      "best_hyper_parameters: {'C': 10.0, 'penalty': 'l1', 'solver': 'liblinear'}\n",
      "2 1.0 1.0\n",
      "data_name: 4nki\n",
      "(array([0., 1.]), array([195,  77]))\n",
      "(array([0., 1.]), array([77, 77]))\n",
      "best_hyper_parameters: {'C': 100.0, 'penalty': 'l1', 'solver': 'liblinear'}\n",
      "3 0.7532467532467533 0.8319838056680161\n",
      "data_name: 5mental\n",
      "(array([0., 1.]), array([616, 147]))\n",
      "(array([0., 1.]), array([147, 147]))\n",
      "best_hyper_parameters: {'C': 0.1, 'penalty': 'l2', 'solver': 'liblinear'}\n",
      "4 0.6938775510204082 0.7645316549426139\n",
      "data_name: 6smoking\n",
      "(array([0., 1.]), array([852, 722]))\n",
      "(array([0., 1.]), array([722, 722]))\n",
      "best_hyper_parameters: {'C': 0.1, 'penalty': 'l1', 'solver': 'liblinear'}\n",
      "5 1.0 1.0\n",
      "data_name: 7anemia\n",
      "(array([0., 1.]), array([193,  43]))\n",
      "(array([0., 1.]), array([43, 43]))\n",
      "best_hyper_parameters: {'C': 0.1, 'penalty': 'l2', 'solver': 'liblinear'}\n",
      "6 0.7209302325581395 0.7900432900432901\n",
      "data_name: 8language\n",
      "(array([0., 1.]), array([896, 267]))\n",
      "(array([0., 1.]), array([267, 267]))\n",
      "best_hyper_parameters: {'C': 1.0, 'penalty': 'l1', 'solver': 'liblinear'}\n",
      "7 0.7153558052434457 0.7826478873239437\n",
      "data_name: 9coag\n",
      "(array([0., 1.]), array([504, 994]))\n",
      "(array([0., 1.]), array([504, 504]))\n",
      "best_hyper_parameters: {'C': 10.0, 'penalty': 'l1', 'solver': 'liblinear'}\n",
      "8 0.6408730158730159 0.6775636180398086\n",
      "data_name: 10tazamia\n",
      "(array([0., 1.]), array([547, 124]))\n",
      "(array([0., 1.]), array([124, 124]))\n",
      "best_hyper_parameters: {'C': 1.0, 'penalty': 'l1', 'solver': 'liblinear'}\n",
      "9 0.7338709677419355 0.8170699973978662\n",
      "data_name: 11hepato\n",
      "(array([0., 1.]), array([63, 99]))\n",
      "(array([0., 1.]), array([63, 63]))\n",
      "best_hyper_parameters: {'C': 0.1, 'penalty': 'l2', 'solver': 'liblinear'}\n",
      "10 0.7142857142857143 0.807070707070707\n",
      "data_name: 12heat\n",
      "(array([0., 1.]), array([2492,   83]))\n",
      "(array([0., 1.]), array([83, 83]))\n",
      "best_hyper_parameters: {'C': 0.1, 'penalty': 'l2', 'solver': 'liblinear'}\n",
      "11 0.6144578313253012 0.7078977932636469\n",
      "data_name: 13ef\n",
      "(array([0., 1.]), array([ 93, 572]))\n",
      "(array([0., 1.]), array([93, 93]))\n",
      "best_hyper_parameters: {'C': 0.1, 'penalty': 'l2', 'solver': 'liblinear'}\n",
      "12 1.0 1.0\n",
      "data_name: 14cervix\n",
      "(array([0., 1.]), array([834,  24]))\n",
      "(array([0., 1.]), array([24, 24]))\n",
      "best_hyper_parameters: {'C': 1.0, 'penalty': 'l1', 'solver': 'liblinear'}\n",
      "13 1.0 1.0\n",
      "data_name: 15heart\n",
      "(array([0., 1.]), array([138, 165]))\n",
      "(array([0., 1.]), array([138, 138]))\n",
      "best_hyper_parameters: {'C': 0.001, 'penalty': 'l2', 'solver': 'liblinear'}\n",
      "14 0.7608695652173914 0.8996009241755933\n",
      "data_name: 16liver\n",
      "(array([0., 1.]), array([167, 416]))\n",
      "(array([0., 1.]), array([167, 167]))\n",
      "best_hyper_parameters: {'C': 10.0, 'penalty': 'l1', 'solver': 'liblinear'}\n",
      "15 0.688622754491018 0.8108457997698503\n",
      "data_name: 17nwosu\n",
      "(array([0., 1.]), array([59, 92]))\n",
      "(array([0., 1.]), array([59, 59]))\n",
      "best_hyper_parameters: {'C': 1.0, 'penalty': 'l1', 'solver': 'liblinear'}\n",
      "16 1.0 1.0\n",
      "data_name: 18school\n",
      "(array([0., 1.]), array([  68, 3879]))\n",
      "(array([0., 1.]), array([68, 68]))\n",
      "best_hyper_parameters: {'C': 0.001, 'penalty': 'l2', 'solver': 'liblinear'}\n",
      "17 0.8529411764705882 0.8387096774193549\n",
      "data_name: 19ibs\n",
      "(array([0., 1.]), array([ 33, 138]))\n",
      "(array([0., 1.]), array([33, 33]))\n",
      "best_hyper_parameters: {'C': 10.0, 'penalty': 'l1', 'solver': 'liblinear'}\n",
      "18 0.9393939393939394 0.9807692307692308\n",
      "data_name: 21survival\n",
      "(array([0., 1.]), array([1945,  123]))\n",
      "(array([0., 1.]), array([123, 123]))\n",
      "best_hyper_parameters: {'C': 1.0, 'penalty': 'l1', 'solver': 'liblinear'}\n",
      "19 0.7642276422764228 0.8939714436805921\n",
      "data_name: 101kidney\n",
      "(array([0., 1.]), array([149, 223]))\n",
      "(array([0., 1.]), array([149, 149]))\n",
      "best_hyper_parameters: {'C': 100.0, 'penalty': 'l2', 'solver': 'liblinear'}\n",
      "20 0.9731543624161074 1.0\n",
      "data_name: 102breast_cancer\n",
      "(array([0., 1.]), array([357, 212]))\n",
      "(array([0., 1.]), array([212, 212]))\n",
      "best_hyper_parameters: {'C': 10.0, 'penalty': 'l2', 'solver': 'liblinear'}\n",
      "21 0.9858490566037735 0.9952825990209168\n",
      "data_name: 103diabetes_niddk\n",
      "(array([0., 1.]), array([481, 252]))\n",
      "(array([0., 1.]), array([252, 252]))\n",
      "best_hyper_parameters: {'C': 1.0, 'penalty': 'l2', 'solver': 'liblinear'}\n",
      "22 0.7658730158730159 0.8348484848484848\n",
      "data_name: 104diabetic_retinopathy\n",
      "(array([0., 1.]), array([536, 611]))\n",
      "(array([0., 1.]), array([536, 536]))\n"
     ]
    },
    {
     "name": "stderr",
     "output_type": "stream",
     "text": [
      "/home/tai/anaconda3/lib/python3.7/site-packages/sklearn/svm/base.py:931: ConvergenceWarning: Liblinear failed to converge, increase the number of iterations.\n",
      "  \"the number of iterations.\", ConvergenceWarning)\n",
      "/home/tai/anaconda3/lib/python3.7/site-packages/sklearn/svm/base.py:931: ConvergenceWarning: Liblinear failed to converge, increase the number of iterations.\n",
      "  \"the number of iterations.\", ConvergenceWarning)\n"
     ]
    },
    {
     "name": "stdout",
     "output_type": "stream",
     "text": [
      "best_hyper_parameters: {'C': 10.0, 'penalty': 'l1', 'solver': 'liblinear'}\n",
      "23 0.7313432835820896 0.8141003303458176\n",
      "data_name: 29parkinson\n",
      "(array([0., 1.]), array([ 48, 147]))\n",
      "(array([0., 1.]), array([48, 48]))\n",
      "best_hyper_parameters: {'C': 0.1, 'penalty': 'l2', 'solver': 'liblinear'}\n",
      "24 0.6875 0.8620689655172414\n",
      "data_name: 30paradox2\n",
      "(array([0., 1.]), array([184,  52]))\n",
      "(array([0., 1.]), array([52, 52]))\n",
      "best_hyper_parameters: {'C': 1.0, 'penalty': 'l1', 'solver': 'liblinear'}\n",
      "25 1.0 1.0\n",
      "data_name: 31renal\n",
      "(array([0., 1.]), array([197,  47]))\n",
      "(array([0., 1.]), array([47, 47]))\n",
      "best_hyper_parameters: {'C': 1.0, 'penalty': 'l2', 'solver': 'liblinear'}\n",
      "26 0.7021276595744681 0.7454212454212454\n",
      "data_name: 33svr\n",
      "(array([0., 1.]), array([ 41, 186]))\n",
      "(array([0., 1.]), array([41, 41]))\n",
      "best_hyper_parameters: {'C': 1.0, 'penalty': 'l1', 'solver': 'liblinear'}\n",
      "27 1.0 1.0\n",
      "data_name: 35pcos\n",
      "(array([0., 1.]), array([364, 177]))\n",
      "(array([0., 1.]), array([177, 177]))\n",
      "best_hyper_parameters: {'C': 1.0, 'penalty': 'l2', 'solver': 'liblinear'}\n",
      "28 0.8248587570621468 0.9138151174668028\n"
     ]
    }
   ],
   "source": [
    "n_data = len(data_list)\n",
    "roc_auc = np.zeros(n_data)   ; acc = np.zeros(n_data)\n",
    "precision = np.zeros(n_data) ; recall = np.zeros(n_data)\n",
    "\n",
    "#data_id = 0\n",
    "for data_id in range(n_data):\n",
    "    X_train,X_test,y_train,y_test = read_data(data_id)\n",
    "    acc[data_id],roc_auc[data_id],precision[data_id],recall[data_id] =\\\n",
    "           measure_performance(X_train,X_test,y_train,y_test)\n",
    "    print(data_id,acc[data_id],roc_auc[data_id])      "
   ]
  },
  {
   "cell_type": "code",
   "execution_count": 7,
   "metadata": {
    "scrolled": false
   },
   "outputs": [
    {
     "name": "stdout",
     "output_type": "stream",
     "text": [
      "acc_mean: 0.8303560603766325\n",
      "roc_mean: 0.8844472802354008\n"
     ]
    }
   ],
   "source": [
    "print('acc_mean:',acc.mean())\n",
    "print('roc_mean:',roc_auc.mean())"
   ]
  },
  {
   "cell_type": "code",
   "execution_count": 9,
   "metadata": {},
   "outputs": [
    {
     "name": "stdout",
     "output_type": "stream",
     "text": [
      "precision: 0.8643504488881772\n",
      "recall: 0.7927957232246221\n"
     ]
    }
   ],
   "source": [
    "print('precision:',precision.mean())\n",
    "print('recall:',recall.mean())"
   ]
  },
  {
   "cell_type": "code",
   "execution_count": 10,
   "metadata": {},
   "outputs": [],
   "source": [
    "np.savetxt('LR_result.dat',(roc_auc,acc,precision,recall),fmt='%f')"
   ]
  },
  {
   "cell_type": "code",
   "execution_count": null,
   "metadata": {},
   "outputs": [],
   "source": []
  }
 ],
 "metadata": {
  "kernelspec": {
   "display_name": "Python 3",
   "language": "python",
   "name": "python3"
  },
  "language_info": {
   "codemirror_mode": {
    "name": "ipython",
    "version": 3
   },
   "file_extension": ".py",
   "mimetype": "text/x-python",
   "name": "python",
   "nbconvert_exporter": "python",
   "pygments_lexer": "ipython3",
   "version": "3.7.3"
  }
 },
 "nbformat": 4,
 "nbformat_minor": 2
}
