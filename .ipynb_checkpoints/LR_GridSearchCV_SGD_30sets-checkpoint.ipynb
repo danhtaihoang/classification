{
 "cells": [
  {
   "cell_type": "markdown",
   "metadata": {},
   "source": [
    "## Logistic Regression"
   ]
  },
  {
   "cell_type": "code",
   "execution_count": 1,
   "metadata": {},
   "outputs": [],
   "source": [
    "import numpy as np\n",
    "import pandas as pd\n",
    "\n",
    "from sklearn.model_selection import train_test_split,KFold\n",
    "from sklearn.utils import shuffle\n",
    "from sklearn.metrics import confusion_matrix,accuracy_score,precision_score,\\\n",
    "recall_score,roc_curve,auc\n",
    "\n",
    "import expectation_reflection as ER\n",
    "from sklearn.linear_model import LogisticRegression\n",
    "from sklearn.linear_model import SGDClassifier\n",
    "from sklearn.model_selection import GridSearchCV\n",
    "\n",
    "import matplotlib.pyplot as plt\n",
    "import seaborn as sns\n",
    "\n",
    "from sklearn.preprocessing import MinMaxScaler\n",
    "from function import split_train_test,make_data_balance"
   ]
  },
  {
   "cell_type": "code",
   "execution_count": 2,
   "metadata": {},
   "outputs": [],
   "source": [
    "np.random.seed(1)"
   ]
  },
  {
   "cell_type": "markdown",
   "metadata": {},
   "source": [
    "First of all, the processed data are imported."
   ]
  },
  {
   "cell_type": "code",
   "execution_count": 3,
   "metadata": {},
   "outputs": [
    {
     "name": "stdout",
     "output_type": "stream",
     "text": [
      "['1paradox' '2peptide' '3stigma' '4nki' '5mental' '6smoking' '7anemia'\n",
      " '8language' '9coag' '10tazamia' '11hepato' '12heat' '13ef' '14cervix'\n",
      " '15heart' '16liver' '17nwosu' '18school' '19ibs' '21survival' '101kidney'\n",
      " '102breast_cancer' '103diabetes_niddk' '104diabetic_retinopathy'\n",
      " '29parkinson' '30paradox2' '31renal' '33svr' '35pcos' '36probiotic']\n"
     ]
    }
   ],
   "source": [
    "#data_list = ['1paradox','2peptide','3stigma']\n",
    "data_list = np.loadtxt('data_list.txt',dtype='str')\n",
    "#data_list = ['36probiotic']\n",
    "\n",
    "print(data_list)"
   ]
  },
  {
   "cell_type": "code",
   "execution_count": 4,
   "metadata": {},
   "outputs": [],
   "source": [
    "def read_data(data_id):    \n",
    "    data_name = data_list[data_id]\n",
    "    print('data_name:',data_name)\n",
    "    Xy = np.loadtxt('../data/%s/data_processed.dat'%data_name) \n",
    "    X = Xy[:,:-1]\n",
    "    y = Xy[:,-1]\n",
    "\n",
    "    #print(np.unique(y,return_counts=True))\n",
    "\n",
    "    X,y = make_data_balance(X,y)\n",
    "\n",
    "    print(np.unique(y,return_counts=True))\n",
    "\n",
    "    X, y = shuffle(X, y, random_state=1)\n",
    "\n",
    "    X_train,X_test,y_train,y_test = train_test_split(X,y,test_size=0.5,random_state = 1)\n",
    "    \n",
    "    sc = MinMaxScaler()\n",
    "    X_train = sc.fit_transform(X_train)\n",
    "    X_test = sc.transform(X_test)\n",
    "    \n",
    "    return X_train,X_test,y_train,y_test"
   ]
  },
  {
   "cell_type": "code",
   "execution_count": 5,
   "metadata": {},
   "outputs": [],
   "source": [
    "def measure_performance(X_train,X_test,y_train,y_test):\n",
    "    \n",
    "    #model = LogisticRegression(max_iter=100)\n",
    "    model = SGDClassifier(loss='log',max_iter=1000,tol=0.001)  # 'log' for logistic regression, 'hinge' for SVM\n",
    "\n",
    "    # regularization penalty space\n",
    "    #penalty = ['l1','l2']\n",
    "    penalty = ['elasticnet']\n",
    "\n",
    "    # solver\n",
    "    #solver=['saga']\n",
    "    #solver=['liblinear']\n",
    "\n",
    "    # regularization hyperparameter space\n",
    "    #C = np.logspace(0, 4, 10)\n",
    "    #C = [0.001,0.1,1.0,10.0,100.0]\n",
    "    alpha = [0.001,0.01,0.1,1.0,10.,100.]\n",
    "\n",
    "    # l1_ratio\n",
    "    #l1_ratio = [0.1,0.5,0.9]\n",
    "    l1_ratio = [0.,0.2,0.4,0.6,0.8,1.0]\n",
    "\n",
    "    # Create hyperparameter options\n",
    "    #hyperparameters = dict(penalty=penalty,solver=solver,C=C,l1_ratio=l1_ratio)\n",
    "    #hyper_parameters = dict(penalty=penalty,solver=solver,C=C)\n",
    "    hyper_parameters = dict(penalty=penalty,alpha=alpha,l1_ratio=l1_ratio)\n",
    "    \n",
    "    # Create grid search using cross validation\n",
    "    clf = GridSearchCV(model, hyper_parameters, cv=4, iid='deprecated')\n",
    "    \n",
    "    # Fit grid search\n",
    "    best_model = clf.fit(X_train, y_train)\n",
    "    \n",
    "    # View best hyperparameters\n",
    "    #print('Best Penalty:', best_model.best_estimator_.get_params()['penalty'])\n",
    "    #print('Best C:', best_model.best_estimator_.get_params()['C'])\n",
    "    #print('Best alpha:', best_model.best_estimator_.get_params()['alpha'])\n",
    "    #print('Best l1_ratio:', best_model.best_estimator_.get_params()['l1_ratio'])\n",
    "    \n",
    "    # best hyper parameters\n",
    "    print('best_hyper_parameters:',best_model.best_params_)\n",
    "\n",
    "    # performance:\n",
    "    y_test_pred = best_model.best_estimator_.predict(X_test)\n",
    "    acc = accuracy_score(y_test,y_test_pred)\n",
    "    #print('Accuracy:', acc)\n",
    "\n",
    "    p_test_pred = best_model.best_estimator_.predict_proba(X_test) # prob of [0,1]\n",
    "    p_test_pred = p_test_pred[:,1] # prob of 1    \n",
    "    fp,tp,thresholds = roc_curve(y_test, p_test_pred, drop_intermediate=False)\n",
    "    roc_auc = auc(fp,tp)\n",
    "    #print('AUC:', roc_auc)\n",
    "\n",
    "    precision = precision_score(y_test,y_test_pred)\n",
    "    #print('Precision:',precision)\n",
    "\n",
    "    recall = recall_score(y_test,y_test_pred)\n",
    "    #print('Recall:',recall)\n",
    "    \n",
    "    return acc,roc_auc,precision,recall"
   ]
  },
  {
   "cell_type": "code",
   "execution_count": 6,
   "metadata": {},
   "outputs": [
    {
     "name": "stdout",
     "output_type": "stream",
     "text": [
      "data_name: 1paradox\n",
      "(array([0., 1.]), array([60, 60]))\n",
      "best_hyper_parameters: {'alpha': 0.01, 'l1_ratio': 0.6, 'penalty': 'elasticnet'}\n",
      "0 0.8833333333333333 0.9142185663924793\n",
      "data_name: 2peptide\n",
      "(array([0., 1.]), array([23, 23]))\n",
      "best_hyper_parameters: {'alpha': 0.001, 'l1_ratio': 0.8, 'penalty': 'elasticnet'}\n",
      "1 0.9565217391304348 1.0\n",
      "data_name: 3stigma\n",
      "(array([0., 1.]), array([2725, 2725]))\n",
      "best_hyper_parameters: {'alpha': 0.001, 'l1_ratio': 0.2, 'penalty': 'elasticnet'}\n",
      "2 0.996697247706422 0.9999859864715552\n",
      "data_name: 4nki\n",
      "(array([0., 1.]), array([77, 77]))\n",
      "best_hyper_parameters: {'alpha': 0.1, 'l1_ratio': 0.2, 'penalty': 'elasticnet'}\n",
      "3 0.7142857142857143 0.8418918918918918\n",
      "data_name: 5mental\n",
      "(array([0., 1.]), array([147, 147]))\n",
      "best_hyper_parameters: {'alpha': 0.1, 'l1_ratio': 0.2, 'penalty': 'elasticnet'}\n",
      "4 0.5986394557823129 0.6676241660489253\n",
      "data_name: 6smoking\n",
      "(array([0., 1.]), array([722, 722]))\n",
      "best_hyper_parameters: {'alpha': 0.001, 'l1_ratio': 0.4, 'penalty': 'elasticnet'}\n",
      "5 0.9958448753462604 1.0\n",
      "data_name: 7anemia\n",
      "(array([0., 1.]), array([43, 43]))\n",
      "best_hyper_parameters: {'alpha': 0.01, 'l1_ratio': 0.2, 'penalty': 'elasticnet'}\n",
      "6 0.8372093023255814 0.8826086956521738\n",
      "data_name: 8language\n",
      "(array([0., 1.]), array([267, 267]))\n",
      "best_hyper_parameters: {'alpha': 0.01, 'l1_ratio': 0.2, 'penalty': 'elasticnet'}\n",
      "7 0.7415730337078652 0.8600044888340254\n",
      "data_name: 9coag\n",
      "(array([0., 1.]), array([504, 504]))\n",
      "best_hyper_parameters: {'alpha': 0.001, 'l1_ratio': 1.0, 'penalty': 'elasticnet'}\n",
      "8 0.625 0.679655997983871\n",
      "data_name: 10tazamia\n",
      "(array([0., 1.]), array([124, 124]))\n",
      "best_hyper_parameters: {'alpha': 0.01, 'l1_ratio': 0.0, 'penalty': 'elasticnet'}\n",
      "9 0.75 0.8672750977835724\n",
      "data_name: 11hepato\n",
      "(array([0., 1.]), array([63, 63]))\n",
      "best_hyper_parameters: {'alpha': 0.01, 'l1_ratio': 0.4, 'penalty': 'elasticnet'}\n",
      "10 0.7142857142857143 0.7661290322580647\n",
      "data_name: 12heat\n",
      "(array([0., 1.]), array([83, 83]))\n",
      "best_hyper_parameters: {'alpha': 0.1, 'l1_ratio': 0.0, 'penalty': 'elasticnet'}\n",
      "11 0.7349397590361446 0.7538011695906432\n",
      "data_name: 13ef\n",
      "(array([0., 1.]), array([93, 93]))\n",
      "best_hyper_parameters: {'alpha': 0.001, 'l1_ratio': 0.0, 'penalty': 'elasticnet'}\n",
      "12 0.978494623655914 0.9576388888888886\n",
      "data_name: 14cervix\n",
      "(array([0., 1.]), array([24, 24]))\n",
      "best_hyper_parameters: {'alpha': 0.001, 'l1_ratio': 0.8, 'penalty': 'elasticnet'}\n",
      "13 0.9583333333333334 1.0\n",
      "data_name: 15heart\n",
      "(array([0., 1.]), array([138, 138]))\n",
      "best_hyper_parameters: {'alpha': 0.01, 'l1_ratio': 0.4, 'penalty': 'elasticnet'}\n",
      "14 0.8260869565217391 0.8980152027027026\n",
      "data_name: 16liver\n",
      "(array([0., 1.]), array([167, 167]))\n",
      "best_hyper_parameters: {'alpha': 0.001, 'l1_ratio': 0.6, 'penalty': 'elasticnet'}\n",
      "15 0.6407185628742516 0.6836206896551724\n",
      "data_name: 17nwosu\n",
      "(array([0., 1.]), array([59, 59]))\n",
      "best_hyper_parameters: {'alpha': 0.001, 'l1_ratio': 0.4, 'penalty': 'elasticnet'}\n",
      "16 1.0 1.0\n",
      "data_name: 18school\n",
      "(array([0., 1.]), array([68, 68]))\n",
      "best_hyper_parameters: {'alpha': 0.001, 'l1_ratio': 0.2, 'penalty': 'elasticnet'}\n",
      "17 0.8088235294117647 0.8576388888888888\n",
      "data_name: 19ibs\n",
      "(array([0., 1.]), array([33, 33]))\n",
      "best_hyper_parameters: {'alpha': 0.001, 'l1_ratio': 0.0, 'penalty': 'elasticnet'}\n",
      "18 0.8787878787878788 0.9592592592592593\n",
      "data_name: 21survival\n",
      "(array([0., 1.]), array([123, 123]))\n",
      "best_hyper_parameters: {'alpha': 0.01, 'l1_ratio': 1.0, 'penalty': 'elasticnet'}\n",
      "19 0.7154471544715447 0.8513227513227513\n",
      "data_name: 101kidney\n",
      "(array([0., 1.]), array([149, 149]))\n",
      "best_hyper_parameters: {'alpha': 0.001, 'l1_ratio': 1.0, 'penalty': 'elasticnet'}\n",
      "20 0.9932885906040269 0.999819429396894\n",
      "data_name: 102breast_cancer\n",
      "(array([0., 1.]), array([212, 212]))\n",
      "best_hyper_parameters: {'alpha': 0.001, 'l1_ratio': 0.0, 'penalty': 'elasticnet'}\n",
      "21 0.9669811320754716 0.9981228211316706\n",
      "data_name: 103diabetes_niddk\n",
      "(array([0., 1.]), array([252, 252]))\n",
      "best_hyper_parameters: {'alpha': 0.1, 'l1_ratio': 0.0, 'penalty': 'elasticnet'}\n",
      "22 0.7579365079365079 0.8246798309254937\n",
      "data_name: 104diabetic_retinopathy\n",
      "(array([0., 1.]), array([536, 536]))\n",
      "best_hyper_parameters: {'alpha': 0.001, 'l1_ratio': 0.6, 'penalty': 'elasticnet'}\n",
      "23 0.6940298507462687 0.7738991081382386\n",
      "data_name: 29parkinson\n",
      "(array([0., 1.]), array([48, 48]))\n",
      "best_hyper_parameters: {'alpha': 0.01, 'l1_ratio': 0.2, 'penalty': 'elasticnet'}\n",
      "24 0.7708333333333334 0.8881118881118881\n",
      "data_name: 30paradox2\n",
      "(array([0., 1.]), array([52, 52]))\n",
      "best_hyper_parameters: {'alpha': 0.01, 'l1_ratio': 1.0, 'penalty': 'elasticnet'}\n",
      "25 1.0 1.0\n",
      "data_name: 31renal\n",
      "(array([0., 1.]), array([47, 47]))\n",
      "best_hyper_parameters: {'alpha': 1.0, 'l1_ratio': 0.0, 'penalty': 'elasticnet'}\n",
      "26 0.7446808510638298 0.8242753623188406\n",
      "data_name: 33svr\n",
      "(array([0., 1.]), array([41, 41]))\n",
      "best_hyper_parameters: {'alpha': 0.01, 'l1_ratio': 0.0, 'penalty': 'elasticnet'}\n",
      "27 0.9512195121951219 0.9830917874396135\n",
      "data_name: 35pcos\n",
      "(array([0., 1.]), array([177, 177]))\n",
      "best_hyper_parameters: {'alpha': 0.01, 'l1_ratio': 0.2, 'penalty': 'elasticnet'}\n",
      "28 0.8926553672316384 0.9625736990515253\n",
      "data_name: 36probiotic\n",
      "(array([0., 1.]), array([10, 10]))\n",
      "best_hyper_parameters: {'alpha': 0.001, 'l1_ratio': 0.6, 'penalty': 'elasticnet'}\n",
      "29 0.4 0.5238095238095238\n"
     ]
    },
    {
     "name": "stderr",
     "output_type": "stream",
     "text": [
      "/home/tai/anaconda3/lib/python3.7/site-packages/sklearn/model_selection/_split.py:652: Warning: The least populated class in y has only 3 members, which is too few. The minimum number of members in any class cannot be less than n_splits=4.\n",
      "  % (min_groups, self.n_splits)), Warning)\n"
     ]
    }
   ],
   "source": [
    "n_data = len(data_list)\n",
    "roc_auc = np.zeros(n_data)   ; acc = np.zeros(n_data)\n",
    "precision = np.zeros(n_data) ; recall = np.zeros(n_data)\n",
    "\n",
    "#data_id = 0\n",
    "for data_id in range(n_data):\n",
    "    X_train,X_test,y_train,y_test = read_data(data_id)\n",
    "    acc[data_id],roc_auc[data_id],precision[data_id],recall[data_id] =\\\n",
    "           measure_performance(X_train,X_test,y_train,y_test)\n",
    "    print(data_id,acc[data_id],roc_auc[data_id])      "
   ]
  },
  {
   "cell_type": "code",
   "execution_count": 7,
   "metadata": {
    "scrolled": false
   },
   "outputs": [
    {
     "name": "stdout",
     "output_type": "stream",
     "text": [
      "acc_mean: 0.8175549119727469\n",
      "roc_mean: 0.8739691407982851\n",
      "precision: 0.8419025686321749\n",
      "recall: 0.8002128430089841\n"
     ]
    }
   ],
   "source": [
    "print('acc_mean:',acc.mean())\n",
    "print('roc_mean:',roc_auc.mean())\n",
    "\n",
    "print('precision:',precision.mean())\n",
    "print('recall:',recall.mean())"
   ]
  },
  {
   "cell_type": "code",
   "execution_count": 8,
   "metadata": {},
   "outputs": [],
   "source": [
    "np.savetxt('LR_SGD_result_30sets.dat',(roc_auc,acc,precision,recall),fmt='%f')"
   ]
  }
 ],
 "metadata": {
  "kernelspec": {
   "display_name": "Python 3",
   "language": "python",
   "name": "python3"
  },
  "language_info": {
   "codemirror_mode": {
    "name": "ipython",
    "version": 3
   },
   "file_extension": ".py",
   "mimetype": "text/x-python",
   "name": "python",
   "nbconvert_exporter": "python",
   "pygments_lexer": "ipython3",
   "version": "3.7.3"
  }
 },
 "nbformat": 4,
 "nbformat_minor": 2
}
