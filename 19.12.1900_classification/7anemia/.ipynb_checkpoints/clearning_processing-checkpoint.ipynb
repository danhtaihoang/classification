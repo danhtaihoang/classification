{
 "cells": [
  {
   "cell_type": "code",
   "execution_count": 1,
   "metadata": {},
   "outputs": [],
   "source": [
    "import numpy as np\n",
    "import pandas as pd\n",
    "from sklearn.preprocessing import OneHotEncoder"
   ]
  },
  {
   "cell_type": "code",
   "execution_count": 2,
   "metadata": {},
   "outputs": [],
   "source": [
    "np.random.seed(1)"
   ]
  },
  {
   "cell_type": "code",
   "execution_count": 3,
   "metadata": {
    "scrolled": true
   },
   "outputs": [
    {
     "data": {
      "text/html": [
       "<div>\n",
       "<style scoped>\n",
       "    .dataframe tbody tr th:only-of-type {\n",
       "        vertical-align: middle;\n",
       "    }\n",
       "\n",
       "    .dataframe tbody tr th {\n",
       "        vertical-align: top;\n",
       "    }\n",
       "\n",
       "    .dataframe thead th {\n",
       "        text-align: right;\n",
       "    }\n",
       "</style>\n",
       "<table border=\"1\" class=\"dataframe\">\n",
       "  <thead>\n",
       "    <tr style=\"text-align: right;\">\n",
       "      <th></th>\n",
       "      <th>ID</th>\n",
       "      <th>center</th>\n",
       "      <th>age</th>\n",
       "      <th>sex</th>\n",
       "      <th>BMI</th>\n",
       "      <th>type2</th>\n",
       "      <th>duration</th>\n",
       "      <th>HTN</th>\n",
       "      <th>HLP</th>\n",
       "      <th>vascinc</th>\n",
       "      <th>...</th>\n",
       "      <th>days_dialysis</th>\n",
       "      <th>RRT</th>\n",
       "      <th>KTx</th>\n",
       "      <th>SCr_fup</th>\n",
       "      <th>days_SCr_fup</th>\n",
       "      <th>crea</th>\n",
       "      <th>SCr_diff</th>\n",
       "      <th>SCr_double</th>\n",
       "      <th>progression</th>\n",
       "      <th>days_progression</th>\n",
       "    </tr>\n",
       "  </thead>\n",
       "  <tbody>\n",
       "    <tr>\n",
       "      <th>0</th>\n",
       "      <td>M003</td>\n",
       "      <td>1</td>\n",
       "      <td>56.065753</td>\n",
       "      <td>1</td>\n",
       "      <td>26.297578</td>\n",
       "      <td>1</td>\n",
       "      <td>1.0</td>\n",
       "      <td>0</td>\n",
       "      <td>0</td>\n",
       "      <td>0</td>\n",
       "      <td>...</td>\n",
       "      <td>1545</td>\n",
       "      <td>0</td>\n",
       "      <td>0</td>\n",
       "      <td>0.84</td>\n",
       "      <td>2204.0</td>\n",
       "      <td>0.87</td>\n",
       "      <td>-0.03</td>\n",
       "      <td>0.0</td>\n",
       "      <td>0.0</td>\n",
       "      <td>2204.0</td>\n",
       "    </tr>\n",
       "    <tr>\n",
       "      <th>1</th>\n",
       "      <td>M008</td>\n",
       "      <td>1</td>\n",
       "      <td>55.339726</td>\n",
       "      <td>1</td>\n",
       "      <td>33.208550</td>\n",
       "      <td>1</td>\n",
       "      <td>0.5</td>\n",
       "      <td>1</td>\n",
       "      <td>1</td>\n",
       "      <td>0</td>\n",
       "      <td>...</td>\n",
       "      <td>1506</td>\n",
       "      <td>0</td>\n",
       "      <td>0</td>\n",
       "      <td>1.00</td>\n",
       "      <td>2.0</td>\n",
       "      <td>0.98</td>\n",
       "      <td>0.02</td>\n",
       "      <td>0.0</td>\n",
       "      <td>0.0</td>\n",
       "      <td>2.0</td>\n",
       "    </tr>\n",
       "    <tr>\n",
       "      <th>2</th>\n",
       "      <td>M009</td>\n",
       "      <td>1</td>\n",
       "      <td>75.786301</td>\n",
       "      <td>0</td>\n",
       "      <td>27.688778</td>\n",
       "      <td>1</td>\n",
       "      <td>6.0</td>\n",
       "      <td>1</td>\n",
       "      <td>0</td>\n",
       "      <td>1</td>\n",
       "      <td>...</td>\n",
       "      <td>1539</td>\n",
       "      <td>0</td>\n",
       "      <td>0</td>\n",
       "      <td>0.82</td>\n",
       "      <td>1.0</td>\n",
       "      <td>0.81</td>\n",
       "      <td>0.01</td>\n",
       "      <td>0.0</td>\n",
       "      <td>0.0</td>\n",
       "      <td>1.0</td>\n",
       "    </tr>\n",
       "    <tr>\n",
       "      <th>3</th>\n",
       "      <td>M015</td>\n",
       "      <td>1</td>\n",
       "      <td>43.213699</td>\n",
       "      <td>0</td>\n",
       "      <td>NaN</td>\n",
       "      <td>1</td>\n",
       "      <td>1.0</td>\n",
       "      <td>0</td>\n",
       "      <td>0</td>\n",
       "      <td>0</td>\n",
       "      <td>...</td>\n",
       "      <td>2197</td>\n",
       "      <td>0</td>\n",
       "      <td>0</td>\n",
       "      <td>0.73</td>\n",
       "      <td>1981.0</td>\n",
       "      <td>0.83</td>\n",
       "      <td>-0.10</td>\n",
       "      <td>0.0</td>\n",
       "      <td>0.0</td>\n",
       "      <td>1981.0</td>\n",
       "    </tr>\n",
       "    <tr>\n",
       "      <th>4</th>\n",
       "      <td>M033</td>\n",
       "      <td>1</td>\n",
       "      <td>60.060274</td>\n",
       "      <td>0</td>\n",
       "      <td>26.927438</td>\n",
       "      <td>1</td>\n",
       "      <td>4.0</td>\n",
       "      <td>1</td>\n",
       "      <td>1</td>\n",
       "      <td>1</td>\n",
       "      <td>...</td>\n",
       "      <td>1696</td>\n",
       "      <td>0</td>\n",
       "      <td>0</td>\n",
       "      <td>0.94</td>\n",
       "      <td>1558.0</td>\n",
       "      <td>0.90</td>\n",
       "      <td>0.04</td>\n",
       "      <td>0.0</td>\n",
       "      <td>0.0</td>\n",
       "      <td>1558.0</td>\n",
       "    </tr>\n",
       "  </tbody>\n",
       "</table>\n",
       "<p>5 rows × 43 columns</p>\n",
       "</div>"
      ],
      "text/plain": [
       "     ID  center        age  sex        BMI  type2  duration  HTN  HLP  \\\n",
       "0  M003       1  56.065753    1  26.297578      1       1.0    0    0   \n",
       "1  M008       1  55.339726    1  33.208550      1       0.5    1    1   \n",
       "2  M009       1  75.786301    0  27.688778      1       6.0    1    0   \n",
       "3  M015       1  43.213699    0        NaN      1       1.0    0    0   \n",
       "4  M033       1  60.060274    0  26.927438      1       4.0    1    1   \n",
       "\n",
       "   vascinc  ...  days_dialysis  RRT  KTx  SCr_fup  days_SCr_fup  crea  \\\n",
       "0        0  ...           1545    0    0     0.84        2204.0  0.87   \n",
       "1        0  ...           1506    0    0     1.00           2.0  0.98   \n",
       "2        1  ...           1539    0    0     0.82           1.0  0.81   \n",
       "3        0  ...           2197    0    0     0.73        1981.0  0.83   \n",
       "4        1  ...           1696    0    0     0.94        1558.0  0.90   \n",
       "\n",
       "   SCr_diff  SCr_double  progression  days_progression  \n",
       "0     -0.03         0.0          0.0            2204.0  \n",
       "1      0.02         0.0          0.0               2.0  \n",
       "2      0.01         0.0          0.0               1.0  \n",
       "3     -0.10         0.0          0.0            1981.0  \n",
       "4      0.04         0.0          0.0            1558.0  \n",
       "\n",
       "[5 rows x 43 columns]"
      ]
     },
     "execution_count": 3,
     "metadata": {},
     "output_type": "execute_result"
    }
   ],
   "source": [
    "df = pd.read_csv(\"anemia.csv\")\n",
    "df.head()"
   ]
  },
  {
   "cell_type": "code",
   "execution_count": 4,
   "metadata": {
    "scrolled": true
   },
   "outputs": [
    {
     "name": "stdout",
     "output_type": "stream",
     "text": [
      "<class 'pandas.core.frame.DataFrame'>\n",
      "RangeIndex: 249 entries, 0 to 248\n",
      "Data columns (total 43 columns):\n",
      "ID                  249 non-null object\n",
      "center              249 non-null int64\n",
      "age                 249 non-null float64\n",
      "sex                 249 non-null int64\n",
      "BMI                 246 non-null float64\n",
      "type2               249 non-null int64\n",
      "duration            240 non-null float64\n",
      "HTN                 249 non-null int64\n",
      "HLP                 249 non-null int64\n",
      "vascinc             249 non-null int64\n",
      "ACE                 248 non-null float64\n",
      "ARB                 248 non-null float64\n",
      "statin              248 non-null float64\n",
      "hb                  240 non-null float64\n",
      "CRP                 232 non-null float64\n",
      "alb                 235 non-null float64\n",
      "HbA1c               238 non-null float64\n",
      "ferritin            235 non-null float64\n",
      "EPO                 242 non-null float64\n",
      "chol                230 non-null float64\n",
      "LDL                 228 non-null float64\n",
      "HDL                 229 non-null float64\n",
      "hepcidin_ngml       249 non-null float64\n",
      "GFR                 184 non-null float64\n",
      "protein             189 non-null float64\n",
      "CKDEPI              248 non-null float64\n",
      "MDRD                248 non-null float64\n",
      "GFRc                248 non-null float64\n",
      "GFRm                248 non-null float64\n",
      "death               249 non-null int64\n",
      "days_death          249 non-null int64\n",
      "cause_of_death      249 non-null object\n",
      "dialysis            249 non-null int64\n",
      "days_dialysis       249 non-null int64\n",
      "RRT                 249 non-null int64\n",
      "KTx                 249 non-null int64\n",
      "SCr_fup             212 non-null float64\n",
      "days_SCr_fup        212 non-null float64\n",
      "crea                248 non-null float64\n",
      "SCr_diff            211 non-null float64\n",
      "SCr_double          211 non-null float64\n",
      "progression         246 non-null float64\n",
      "days_progression    246 non-null float64\n",
      "dtypes: float64(29), int64(12), object(2)\n",
      "memory usage: 83.7+ KB\n"
     ]
    }
   ],
   "source": [
    "df.info()"
   ]
  },
  {
   "cell_type": "markdown",
   "metadata": {},
   "source": [
    "## Data Cleaning"
   ]
  },
  {
   "cell_type": "code",
   "execution_count": 5,
   "metadata": {},
   "outputs": [],
   "source": [
    "target = 'death'"
   ]
  },
  {
   "cell_type": "markdown",
   "metadata": {},
   "source": [
    "### Replace empty or errors by np.nan"
   ]
  },
  {
   "cell_type": "code",
   "execution_count": 6,
   "metadata": {},
   "outputs": [],
   "source": [
    "# replace empty/erros by np.nan\n",
    "df = df.replace(r'^\\s+$', np.nan, regex=True)\n",
    "df = df.replace('\\t','',regex=True)\n",
    "df = df.replace(' ','',regex=True)\n",
    "df = df.replace('\\?',np.nan,regex=True)\n",
    "df = df.replace('\\<',np.nan,regex=True)\n",
    "df = df.replace('#NULL!',np.nan,regex=True)\n",
    "#df = df.replace('99',np.nan,regex=True)\n",
    "#df = df.replace(99,np.nan,regex=True)\n",
    "#df"
   ]
  },
  {
   "cell_type": "markdown",
   "metadata": {},
   "source": [
    "### Remove outliers"
   ]
  },
  {
   "cell_type": "code",
   "execution_count": 7,
   "metadata": {
    "scrolled": true
   },
   "outputs": [
    {
     "data": {
      "text/html": [
       "<div>\n",
       "<style scoped>\n",
       "    .dataframe tbody tr th:only-of-type {\n",
       "        vertical-align: middle;\n",
       "    }\n",
       "\n",
       "    .dataframe tbody tr th {\n",
       "        vertical-align: top;\n",
       "    }\n",
       "\n",
       "    .dataframe thead th {\n",
       "        text-align: right;\n",
       "    }\n",
       "</style>\n",
       "<table border=\"1\" class=\"dataframe\">\n",
       "  <thead>\n",
       "    <tr style=\"text-align: right;\">\n",
       "      <th></th>\n",
       "      <th>center</th>\n",
       "      <th>age</th>\n",
       "      <th>sex</th>\n",
       "      <th>BMI</th>\n",
       "      <th>type2</th>\n",
       "      <th>duration</th>\n",
       "      <th>HTN</th>\n",
       "      <th>HLP</th>\n",
       "      <th>vascinc</th>\n",
       "      <th>ACE</th>\n",
       "      <th>...</th>\n",
       "      <th>days_dialysis</th>\n",
       "      <th>RRT</th>\n",
       "      <th>KTx</th>\n",
       "      <th>SCr_fup</th>\n",
       "      <th>days_SCr_fup</th>\n",
       "      <th>crea</th>\n",
       "      <th>SCr_diff</th>\n",
       "      <th>SCr_double</th>\n",
       "      <th>progression</th>\n",
       "      <th>days_progression</th>\n",
       "    </tr>\n",
       "  </thead>\n",
       "  <tbody>\n",
       "    <tr>\n",
       "      <th>0</th>\n",
       "      <td>1</td>\n",
       "      <td>56.065753</td>\n",
       "      <td>1</td>\n",
       "      <td>26.297578</td>\n",
       "      <td>1</td>\n",
       "      <td>1.0</td>\n",
       "      <td>0</td>\n",
       "      <td>0</td>\n",
       "      <td>0</td>\n",
       "      <td>0.0</td>\n",
       "      <td>...</td>\n",
       "      <td>1545</td>\n",
       "      <td>0</td>\n",
       "      <td>0</td>\n",
       "      <td>0.84</td>\n",
       "      <td>2204.0</td>\n",
       "      <td>0.87</td>\n",
       "      <td>-0.03</td>\n",
       "      <td>0.0</td>\n",
       "      <td>0.0</td>\n",
       "      <td>2204.0</td>\n",
       "    </tr>\n",
       "    <tr>\n",
       "      <th>1</th>\n",
       "      <td>1</td>\n",
       "      <td>55.339726</td>\n",
       "      <td>1</td>\n",
       "      <td>33.208550</td>\n",
       "      <td>1</td>\n",
       "      <td>0.5</td>\n",
       "      <td>1</td>\n",
       "      <td>1</td>\n",
       "      <td>0</td>\n",
       "      <td>1.0</td>\n",
       "      <td>...</td>\n",
       "      <td>1506</td>\n",
       "      <td>0</td>\n",
       "      <td>0</td>\n",
       "      <td>1.00</td>\n",
       "      <td>2.0</td>\n",
       "      <td>0.98</td>\n",
       "      <td>0.02</td>\n",
       "      <td>0.0</td>\n",
       "      <td>0.0</td>\n",
       "      <td>2.0</td>\n",
       "    </tr>\n",
       "    <tr>\n",
       "      <th>2</th>\n",
       "      <td>1</td>\n",
       "      <td>75.786301</td>\n",
       "      <td>0</td>\n",
       "      <td>27.688778</td>\n",
       "      <td>1</td>\n",
       "      <td>6.0</td>\n",
       "      <td>1</td>\n",
       "      <td>0</td>\n",
       "      <td>1</td>\n",
       "      <td>1.0</td>\n",
       "      <td>...</td>\n",
       "      <td>1539</td>\n",
       "      <td>0</td>\n",
       "      <td>0</td>\n",
       "      <td>0.82</td>\n",
       "      <td>1.0</td>\n",
       "      <td>0.81</td>\n",
       "      <td>0.01</td>\n",
       "      <td>0.0</td>\n",
       "      <td>0.0</td>\n",
       "      <td>1.0</td>\n",
       "    </tr>\n",
       "    <tr>\n",
       "      <th>3</th>\n",
       "      <td>1</td>\n",
       "      <td>43.213699</td>\n",
       "      <td>0</td>\n",
       "      <td>NaN</td>\n",
       "      <td>1</td>\n",
       "      <td>1.0</td>\n",
       "      <td>0</td>\n",
       "      <td>0</td>\n",
       "      <td>0</td>\n",
       "      <td>NaN</td>\n",
       "      <td>...</td>\n",
       "      <td>2197</td>\n",
       "      <td>0</td>\n",
       "      <td>0</td>\n",
       "      <td>0.73</td>\n",
       "      <td>1981.0</td>\n",
       "      <td>0.83</td>\n",
       "      <td>-0.10</td>\n",
       "      <td>0.0</td>\n",
       "      <td>0.0</td>\n",
       "      <td>1981.0</td>\n",
       "    </tr>\n",
       "    <tr>\n",
       "      <th>4</th>\n",
       "      <td>1</td>\n",
       "      <td>60.060274</td>\n",
       "      <td>0</td>\n",
       "      <td>26.927438</td>\n",
       "      <td>1</td>\n",
       "      <td>4.0</td>\n",
       "      <td>1</td>\n",
       "      <td>1</td>\n",
       "      <td>1</td>\n",
       "      <td>0.0</td>\n",
       "      <td>...</td>\n",
       "      <td>1696</td>\n",
       "      <td>0</td>\n",
       "      <td>0</td>\n",
       "      <td>0.94</td>\n",
       "      <td>1558.0</td>\n",
       "      <td>0.90</td>\n",
       "      <td>0.04</td>\n",
       "      <td>0.0</td>\n",
       "      <td>0.0</td>\n",
       "      <td>1558.0</td>\n",
       "    </tr>\n",
       "  </tbody>\n",
       "</table>\n",
       "<p>5 rows × 41 columns</p>\n",
       "</div>"
      ],
      "text/plain": [
       "   center        age  sex        BMI  type2  duration  HTN  HLP  vascinc  ACE  \\\n",
       "0       1  56.065753    1  26.297578      1       1.0    0    0        0  0.0   \n",
       "1       1  55.339726    1  33.208550      1       0.5    1    1        0  1.0   \n",
       "2       1  75.786301    0  27.688778      1       6.0    1    0        1  1.0   \n",
       "3       1  43.213699    0        NaN      1       1.0    0    0        0  NaN   \n",
       "4       1  60.060274    0  26.927438      1       4.0    1    1        1  0.0   \n",
       "\n",
       "   ...  days_dialysis  RRT  KTx  SCr_fup  days_SCr_fup  crea  SCr_diff  \\\n",
       "0  ...           1545    0    0     0.84        2204.0  0.87     -0.03   \n",
       "1  ...           1506    0    0     1.00           2.0  0.98      0.02   \n",
       "2  ...           1539    0    0     0.82           1.0  0.81      0.01   \n",
       "3  ...           2197    0    0     0.73        1981.0  0.83     -0.10   \n",
       "4  ...           1696    0    0     0.94        1558.0  0.90      0.04   \n",
       "\n",
       "   SCr_double  progression  days_progression  \n",
       "0         0.0          0.0            2204.0  \n",
       "1         0.0          0.0               2.0  \n",
       "2         0.0          0.0               1.0  \n",
       "3         0.0          0.0            1981.0  \n",
       "4         0.0          0.0            1558.0  \n",
       "\n",
       "[5 rows x 41 columns]"
      ]
     },
     "execution_count": 7,
     "metadata": {},
     "output_type": "execute_result"
    }
   ],
   "source": [
    "# Drop the column outliers as it is unrelated to the dependent variable\n",
    "outliers = ['ID','cause_of_death']\n",
    "df = df.drop(outliers,axis=1)\n",
    "df.head()"
   ]
  },
  {
   "cell_type": "markdown",
   "metadata": {},
   "source": [
    "### Remove bad columns"
   ]
  },
  {
   "cell_type": "code",
   "execution_count": 8,
   "metadata": {},
   "outputs": [],
   "source": [
    "def remove_bad_columns(df,bad_column_threshold):\n",
    "    # find bad columns having too many missing values\n",
    "    n_null = np.array(df.isnull().sum(axis=0))\n",
    "    bad_col = np.array([]).astype(int)\n",
    "    for i in range(len(n_null)):\n",
    "        if n_null[i] >= bad_column_threshold:\n",
    "            bad_col = np.append(bad_col,i)\n",
    "\n",
    "    #print(bad_col)\n",
    "    print('number of bad columns:',len(bad_col))\n",
    "\n",
    "    # delete bad columns\n",
    "    df = df.drop(df.columns[bad_col],axis=1)\n",
    "    #df.info()\n",
    "    return df  "
   ]
  },
  {
   "cell_type": "code",
   "execution_count": 9,
   "metadata": {},
   "outputs": [
    {
     "name": "stdout",
     "output_type": "stream",
     "text": [
      "number of bad columns: 2\n",
      "<class 'pandas.core.frame.DataFrame'>\n",
      "RangeIndex: 249 entries, 0 to 248\n",
      "Data columns (total 39 columns):\n",
      "center              249 non-null int64\n",
      "age                 249 non-null float64\n",
      "sex                 249 non-null int64\n",
      "BMI                 246 non-null float64\n",
      "type2               249 non-null int64\n",
      "duration            240 non-null float64\n",
      "HTN                 249 non-null int64\n",
      "HLP                 249 non-null int64\n",
      "vascinc             249 non-null int64\n",
      "ACE                 248 non-null float64\n",
      "ARB                 248 non-null float64\n",
      "statin              248 non-null float64\n",
      "hb                  240 non-null float64\n",
      "CRP                 232 non-null float64\n",
      "alb                 235 non-null float64\n",
      "HbA1c               238 non-null float64\n",
      "ferritin            235 non-null float64\n",
      "EPO                 242 non-null float64\n",
      "chol                230 non-null float64\n",
      "LDL                 228 non-null float64\n",
      "HDL                 229 non-null float64\n",
      "hepcidin_ngml       249 non-null float64\n",
      "CKDEPI              248 non-null float64\n",
      "MDRD                248 non-null float64\n",
      "GFRc                248 non-null float64\n",
      "GFRm                248 non-null float64\n",
      "death               249 non-null int64\n",
      "days_death          249 non-null int64\n",
      "dialysis            249 non-null int64\n",
      "days_dialysis       249 non-null int64\n",
      "RRT                 249 non-null int64\n",
      "KTx                 249 non-null int64\n",
      "SCr_fup             212 non-null float64\n",
      "days_SCr_fup        212 non-null float64\n",
      "crea                248 non-null float64\n",
      "SCr_diff            211 non-null float64\n",
      "SCr_double          211 non-null float64\n",
      "progression         246 non-null float64\n",
      "days_progression    246 non-null float64\n",
      "dtypes: float64(27), int64(12)\n",
      "memory usage: 75.9 KB\n"
     ]
    }
   ],
   "source": [
    "df = remove_bad_columns(df,41)\n",
    "df.info()"
   ]
  },
  {
   "cell_type": "markdown",
   "metadata": {},
   "source": [
    "### Remove bad rows"
   ]
  },
  {
   "cell_type": "code",
   "execution_count": 10,
   "metadata": {},
   "outputs": [],
   "source": [
    " # Find rows where target is missing\n",
    "def find_missing_target_rows(df,target):\n",
    "    # find rows where target is missing\n",
    "    missing_row = df[target].isnull()\n",
    "    print('Number of rows where target are missing:')\n",
    "    print(sum(missing_row))\n",
    "\n",
    "    #df = df[~missing_row]\n",
    "    missing_row_indices = np.array([t for t in range(df.shape[0]) if missing_row[t]])\n",
    "    \n",
    "    return missing_row_indices"
   ]
  },
  {
   "cell_type": "code",
   "execution_count": 11,
   "metadata": {},
   "outputs": [
    {
     "name": "stdout",
     "output_type": "stream",
     "text": [
      "Number of rows where target are missing:\n",
      "0\n"
     ]
    }
   ],
   "source": [
    "missing_target_rows = find_missing_target_rows(df,target)"
   ]
  },
  {
   "cell_type": "markdown",
   "metadata": {},
   "source": [
    "We find bad rows which contain too many missing values, then remove them."
   ]
  },
  {
   "cell_type": "code",
   "execution_count": 12,
   "metadata": {},
   "outputs": [],
   "source": [
    "def find_bad_rows(df,bad_row_threshold):   \n",
    "    # find bad rows having too many missing values\n",
    "    n_null = np.array(df.isnull().sum(axis=1))\n",
    "    bad_row = np.array([]).astype(int)\n",
    "    for t in range(len(n_null)):\n",
    "        if n_null[t] >= bad_row_threshold:\n",
    "            bad_row = np.append(bad_row,t)\n",
    "\n",
    "    #print(bad_row)\n",
    "    print('number of bad rows:',len(bad_row))\n",
    "\n",
    "    # delete bad rows\n",
    "    #df = df.drop(bad_row)\n",
    "    #df.info()\n",
    "    return bad_row"
   ]
  },
  {
   "cell_type": "code",
   "execution_count": 13,
   "metadata": {},
   "outputs": [
    {
     "name": "stdout",
     "output_type": "stream",
     "text": [
      "number of bad rows: 13\n",
      "<class 'pandas.core.frame.DataFrame'>\n",
      "RangeIndex: 249 entries, 0 to 248\n",
      "Data columns (total 39 columns):\n",
      "center              249 non-null int64\n",
      "age                 249 non-null float64\n",
      "sex                 249 non-null int64\n",
      "BMI                 246 non-null float64\n",
      "type2               249 non-null int64\n",
      "duration            240 non-null float64\n",
      "HTN                 249 non-null int64\n",
      "HLP                 249 non-null int64\n",
      "vascinc             249 non-null int64\n",
      "ACE                 248 non-null float64\n",
      "ARB                 248 non-null float64\n",
      "statin              248 non-null float64\n",
      "hb                  240 non-null float64\n",
      "CRP                 232 non-null float64\n",
      "alb                 235 non-null float64\n",
      "HbA1c               238 non-null float64\n",
      "ferritin            235 non-null float64\n",
      "EPO                 242 non-null float64\n",
      "chol                230 non-null float64\n",
      "LDL                 228 non-null float64\n",
      "HDL                 229 non-null float64\n",
      "hepcidin_ngml       249 non-null float64\n",
      "CKDEPI              248 non-null float64\n",
      "MDRD                248 non-null float64\n",
      "GFRc                248 non-null float64\n",
      "GFRm                248 non-null float64\n",
      "death               249 non-null int64\n",
      "days_death          249 non-null int64\n",
      "dialysis            249 non-null int64\n",
      "days_dialysis       249 non-null int64\n",
      "RRT                 249 non-null int64\n",
      "KTx                 249 non-null int64\n",
      "SCr_fup             212 non-null float64\n",
      "days_SCr_fup        212 non-null float64\n",
      "crea                248 non-null float64\n",
      "SCr_diff            211 non-null float64\n",
      "SCr_double          211 non-null float64\n",
      "progression         246 non-null float64\n",
      "days_progression    246 non-null float64\n",
      "dtypes: float64(27), int64(12)\n",
      "memory usage: 75.9 KB\n"
     ]
    }
   ],
   "source": [
    "bad_rows = find_bad_rows(df,6)\n",
    "df.info()"
   ]
  },
  {
   "cell_type": "code",
   "execution_count": 14,
   "metadata": {},
   "outputs": [
    {
     "name": "stdout",
     "output_type": "stream",
     "text": [
      "number of rows need to delete: 13\n"
     ]
    }
   ],
   "source": [
    "del_rows = np.union1d(missing_target_rows,bad_rows)\n",
    "print('number of rows need to delete:',len(del_rows))\n",
    "\n",
    "df = df.drop(del_rows)"
   ]
  },
  {
   "cell_type": "markdown",
   "metadata": {},
   "source": [
    "### Separate target and attributes"
   ]
  },
  {
   "cell_type": "code",
   "execution_count": 15,
   "metadata": {},
   "outputs": [],
   "source": [
    "dfx = df.drop(target,axis=1)\n",
    "dfy = df[target]"
   ]
  },
  {
   "cell_type": "markdown",
   "metadata": {},
   "source": [
    "### Find variable type"
   ]
  },
  {
   "cell_type": "code",
   "execution_count": 16,
   "metadata": {
    "scrolled": false
   },
   "outputs": [
    {
     "name": "stdout",
     "output_type": "stream",
     "text": [
      "number of uniques of each variable:\n",
      "[  4 231   2 226   2  42   2   2   2   2   2   2  79 116 122  55 175 153\n",
      " 124 110  59 124 236 236 184  98 210   2 206   3   2 114 195 111  99   2\n",
      "   2 214]\n"
     ]
    }
   ],
   "source": [
    "# number of uniques of each column (excluding NaN)\n",
    "nu = np.array([len(pd.unique(dfx[col].dropna())) for col in dfx.columns])\n",
    "print('number of uniques of each variable:')\n",
    "print(nu)"
   ]
  },
  {
   "cell_type": "code",
   "execution_count": 17,
   "metadata": {
    "scrolled": true
   },
   "outputs": [],
   "source": [
    "def define_variable_type(df,nu):\n",
    "    i_binary = [] ; i_category = [] ; i_continuous = []\n",
    "    for i in range(len(nu)):\n",
    "        if nu[i] == 2: # binary \n",
    "            i_binary.append(i)\n",
    "        elif nu[i] < 5: # !!!! NOTE: this is not always correct, depending on data\n",
    "            i_category.append(i)\n",
    "        else:\n",
    "            i_continuous.append(i)\n",
    "\n",
    "    print('i_binary:',i_binary)\n",
    "    print('i_category:',i_category)   \n",
    "    #i_binary, i_category, i_continuous\n",
    "    \n",
    "    variable_type  = np.ones(len(nu))  # binary\n",
    "    variable_type[i_category] = 2   # categorical\n",
    "    variable_type[i_continuous] = 3 # continuous\n",
    "\n",
    "    return variable_type #,i_binary,i_category,i_continuous"
   ]
  },
  {
   "cell_type": "code",
   "execution_count": 18,
   "metadata": {
    "scrolled": true
   },
   "outputs": [
    {
     "name": "stdout",
     "output_type": "stream",
     "text": [
      "i_binary: [2, 4, 6, 7, 8, 9, 10, 11, 27, 30, 35, 36]\n",
      "i_category: [0, 29]\n",
      "variable type: [2. 3. 1. 3. 1. 3. 1. 1. 1. 1. 1. 1. 3. 3. 3. 3. 3. 3. 3. 3. 3. 3. 3. 3.\n",
      " 3. 3. 3. 1. 3. 2. 1. 3. 3. 3. 3. 1. 1. 3.]\n"
     ]
    }
   ],
   "source": [
    "variable_type = define_variable_type(dfx,nu)\n",
    "print('variable type:',variable_type)"
   ]
  },
  {
   "cell_type": "markdown",
   "metadata": {},
   "source": [
    "### Impute missing values of attributes"
   ]
  },
  {
   "cell_type": "code",
   "execution_count": 19,
   "metadata": {},
   "outputs": [],
   "source": [
    "def impute_missing(df,variable_type):\n",
    "    # impute binary and categorical variables by the most frequency (in each column)\n",
    "    # continuous variable by median\n",
    "    # input: df: pandas data frame, variable_type: list\n",
    "    # output: df2: pandas data frame\n",
    "    df2 = df.copy()\n",
    "    for i,col in enumerate(df.columns):\n",
    "        if variable_type[i] < 3: # binary or caterogy\n",
    "            df2[col] = df[col].fillna(df[col].mode().iloc[0])\n",
    "        else: # continuous\n",
    "            df2[col] = df[col].fillna(df[col].median())    \n",
    "    return df2       "
   ]
  },
  {
   "cell_type": "code",
   "execution_count": 20,
   "metadata": {
    "scrolled": false
   },
   "outputs": [
    {
     "name": "stdout",
     "output_type": "stream",
     "text": [
      "<class 'pandas.core.frame.DataFrame'>\n",
      "Int64Index: 236 entries, 0 to 248\n",
      "Data columns (total 38 columns):\n",
      "center              236 non-null int64\n",
      "age                 236 non-null float64\n",
      "sex                 236 non-null int64\n",
      "BMI                 236 non-null float64\n",
      "type2               236 non-null int64\n",
      "duration            236 non-null float64\n",
      "HTN                 236 non-null int64\n",
      "HLP                 236 non-null int64\n",
      "vascinc             236 non-null int64\n",
      "ACE                 236 non-null float64\n",
      "ARB                 236 non-null float64\n",
      "statin              236 non-null float64\n",
      "hb                  236 non-null float64\n",
      "CRP                 236 non-null float64\n",
      "alb                 236 non-null float64\n",
      "HbA1c               236 non-null float64\n",
      "ferritin            236 non-null float64\n",
      "EPO                 236 non-null float64\n",
      "chol                236 non-null float64\n",
      "LDL                 236 non-null float64\n",
      "HDL                 236 non-null float64\n",
      "hepcidin_ngml       236 non-null float64\n",
      "CKDEPI              236 non-null float64\n",
      "MDRD                236 non-null float64\n",
      "GFRc                236 non-null float64\n",
      "GFRm                236 non-null float64\n",
      "days_death          236 non-null int64\n",
      "dialysis            236 non-null int64\n",
      "days_dialysis       236 non-null int64\n",
      "RRT                 236 non-null int64\n",
      "KTx                 236 non-null int64\n",
      "SCr_fup             236 non-null float64\n",
      "days_SCr_fup        236 non-null float64\n",
      "crea                236 non-null float64\n",
      "SCr_diff            236 non-null float64\n",
      "SCr_double          236 non-null float64\n",
      "progression         236 non-null float64\n",
      "days_progression    236 non-null float64\n",
      "dtypes: float64(27), int64(11)\n",
      "memory usage: 71.9 KB\n"
     ]
    }
   ],
   "source": [
    "dfx_imputed = impute_missing(dfx,variable_type)\n",
    "dfx_imputed.info()"
   ]
  },
  {
   "cell_type": "markdown",
   "metadata": {},
   "source": [
    "## Data Processing"
   ]
  },
  {
   "cell_type": "markdown",
   "metadata": {},
   "source": [
    "### Attributes"
   ]
  },
  {
   "cell_type": "code",
   "execution_count": 21,
   "metadata": {},
   "outputs": [],
   "source": [
    "def convert_binary_and_category(x,variable_type):\n",
    "    \"\"\"\n",
    "    convert binary to +-1, category to one hot; remain continuous.\n",
    "    \"\"\"    \n",
    "    onehot_encoder = OneHotEncoder(sparse=False,categories='auto')\n",
    "\n",
    "    # create 2 initial columns\n",
    "    x_new = np.zeros((x.shape[0],2))\n",
    "\n",
    "    for i,i_type in enumerate(variable_type):\n",
    "        if i_type == 1: # binary\n",
    "            unique_value = np.unique(x[:,i])\n",
    "            x1 = np.array([-1. if value == unique_value[0] else 1. for value in x[:,i]])        \n",
    "            x_new = np.hstack((x_new,x1[:,np.newaxis]))\n",
    "\n",
    "        elif i_type == 2: # category\n",
    "            x1 = onehot_encoder.fit_transform(x[:,i].reshape(-1,1))\n",
    "            x_new = np.hstack((x_new,x1))\n",
    "            \n",
    "        else: # continuous      \n",
    "            x_new = np.hstack((x_new,x[:,i][:,np.newaxis]))      \n",
    "\n",
    "    # drop the 2 initial column\n",
    "    x_new = x_new[:,2:]\n",
    "    \n",
    "    return x_new.astype(float)"
   ]
  },
  {
   "cell_type": "code",
   "execution_count": 22,
   "metadata": {},
   "outputs": [
    {
     "name": "stdout",
     "output_type": "stream",
     "text": [
      "(236, 43)\n",
      "[[ 1.000e+00  0.000e+00  0.000e+00 ... -1.000e+00 -1.000e+00  2.204e+03]\n",
      " [ 1.000e+00  0.000e+00  0.000e+00 ... -1.000e+00 -1.000e+00  2.000e+00]\n",
      " [ 1.000e+00  0.000e+00  0.000e+00 ... -1.000e+00 -1.000e+00  1.000e+00]\n",
      " ...\n",
      " [ 1.000e+00  0.000e+00  0.000e+00 ... -1.000e+00  1.000e+00  7.600e+01]\n",
      " [ 1.000e+00  0.000e+00  0.000e+00 ... -1.000e+00  1.000e+00  4.660e+02]\n",
      " [ 0.000e+00  1.000e+00  0.000e+00 ... -1.000e+00 -1.000e+00  1.694e+03]]\n"
     ]
    }
   ],
   "source": [
    "# convert x\n",
    "x = np.array(dfx_imputed)\n",
    "x_new = convert_binary_and_category(x,variable_type)\n",
    "\n",
    "print(x_new.shape)\n",
    "print(x_new)"
   ]
  },
  {
   "cell_type": "markdown",
   "metadata": {},
   "source": [
    "### Target"
   ]
  },
  {
   "cell_type": "code",
   "execution_count": 23,
   "metadata": {},
   "outputs": [
    {
     "name": "stdout",
     "output_type": "stream",
     "text": [
      "(array([0, 1]), array([193,  43]))\n"
     ]
    }
   ],
   "source": [
    "y = np.array(dfy)\n",
    "#print(np.unique(y,return_counts=True))\n",
    "\n",
    "# convert taget to 0 and 1\n",
    "y_new = y\n",
    "#y_new = np.ones(y.shape[0])\n",
    "#y_new[y =='No'] = 0\n",
    "\n",
    "print(np.unique(y_new,return_counts=True))"
   ]
  },
  {
   "cell_type": "code",
   "execution_count": 24,
   "metadata": {},
   "outputs": [],
   "source": [
    "# combine X and y and save to a file\n",
    "xy_new = np.hstack((x_new,y_new[:,np.newaxis]))\n",
    "np.savetxt('data_processed.dat',xy_new,fmt='%f')"
   ]
  },
  {
   "cell_type": "code",
   "execution_count": null,
   "metadata": {},
   "outputs": [],
   "source": []
  }
 ],
 "metadata": {
  "kernelspec": {
   "display_name": "Python 3",
   "language": "python",
   "name": "python3"
  },
  "language_info": {
   "codemirror_mode": {
    "name": "ipython",
    "version": 3
   },
   "file_extension": ".py",
   "mimetype": "text/x-python",
   "name": "python",
   "nbconvert_exporter": "python",
   "pygments_lexer": "ipython3",
   "version": "3.7.3"
  }
 },
 "nbformat": 4,
 "nbformat_minor": 2
}
