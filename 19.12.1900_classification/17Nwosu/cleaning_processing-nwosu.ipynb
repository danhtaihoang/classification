{
 "cells": [
  {
   "cell_type": "code",
   "execution_count": 1,
   "metadata": {},
   "outputs": [],
   "source": [
    "import numpy as np\n",
    "import pandas as pd\n",
    "from sklearn.preprocessing import OneHotEncoder"
   ]
  },
  {
   "cell_type": "code",
   "execution_count": 2,
   "metadata": {},
   "outputs": [],
   "source": [
    "np.random.seed(1)"
   ]
  },
  {
   "cell_type": "code",
   "execution_count": 3,
   "metadata": {
    "scrolled": true
   },
   "outputs": [
    {
     "data": {
      "text/html": [
       "<div>\n",
       "<style scoped>\n",
       "    .dataframe tbody tr th:only-of-type {\n",
       "        vertical-align: middle;\n",
       "    }\n",
       "\n",
       "    .dataframe tbody tr th {\n",
       "        vertical-align: top;\n",
       "    }\n",
       "\n",
       "    .dataframe thead th {\n",
       "        text-align: right;\n",
       "    }\n",
       "</style>\n",
       "<table border=\"1\" class=\"dataframe\">\n",
       "  <thead>\n",
       "    <tr style=\"text-align: right;\">\n",
       "      <th></th>\n",
       "      <th>Sex</th>\n",
       "      <th>Age (yrs)</th>\n",
       "      <th>Age&lt;5 Code</th>\n",
       "      <th>Age&lt;3 Code</th>\n",
       "      <th>Age&lt;10 Code</th>\n",
       "      <th>Ht(cm )at Dx</th>\n",
       "      <th>Ht SDS at Dx</th>\n",
       "      <th>Wt (kg) at Dx</th>\n",
       "      <th>Wt SDS at Dx</th>\n",
       "      <th>BMI (kg/m2)at Dx</th>\n",
       "      <th>...</th>\n",
       "      <th># of Positive Antibodies</th>\n",
       "      <th>Antibodies Code</th>\n",
       "      <th>pH (7.35-7.45)</th>\n",
       "      <th>PhCODE</th>\n",
       "      <th>HCO3 (23-28 mmol/L)</th>\n",
       "      <th>ln(HCo3)</th>\n",
       "      <th>HCO3 &lt;15 Code</th>\n",
       "      <th>Ketonemia or ketonuria</th>\n",
       "      <th>DKA code</th>\n",
       "      <th>Polyuria&amp;Polydipsia</th>\n",
       "    </tr>\n",
       "  </thead>\n",
       "  <tbody>\n",
       "    <tr>\n",
       "      <th>0</th>\n",
       "      <td>1</td>\n",
       "      <td>10.74</td>\n",
       "      <td>0</td>\n",
       "      <td>0</td>\n",
       "      <td>0</td>\n",
       "      <td>152.9</td>\n",
       "      <td>1.608</td>\n",
       "      <td>58.1</td>\n",
       "      <td>2.213</td>\n",
       "      <td>24.80</td>\n",
       "      <td>...</td>\n",
       "      <td>3</td>\n",
       "      <td>2</td>\n",
       "      <td>7.43</td>\n",
       "      <td>0.0</td>\n",
       "      <td>26.2</td>\n",
       "      <td>3.27</td>\n",
       "      <td>0.0</td>\n",
       "      <td>0.0</td>\n",
       "      <td>0.0</td>\n",
       "      <td>1.0</td>\n",
       "    </tr>\n",
       "    <tr>\n",
       "      <th>1</th>\n",
       "      <td>0</td>\n",
       "      <td>6.32</td>\n",
       "      <td>0</td>\n",
       "      <td>0</td>\n",
       "      <td>1</td>\n",
       "      <td>119.9</td>\n",
       "      <td>0.700</td>\n",
       "      <td>23.8</td>\n",
       "      <td>0.833</td>\n",
       "      <td>16.53</td>\n",
       "      <td>...</td>\n",
       "      <td>2</td>\n",
       "      <td>1</td>\n",
       "      <td>NaN</td>\n",
       "      <td>NaN</td>\n",
       "      <td>NaN</td>\n",
       "      <td>NaN</td>\n",
       "      <td>NaN</td>\n",
       "      <td>NaN</td>\n",
       "      <td>NaN</td>\n",
       "      <td>NaN</td>\n",
       "    </tr>\n",
       "    <tr>\n",
       "      <th>2</th>\n",
       "      <td>1</td>\n",
       "      <td>14.07</td>\n",
       "      <td>0</td>\n",
       "      <td>0</td>\n",
       "      <td>0</td>\n",
       "      <td>156.4</td>\n",
       "      <td>-0.876</td>\n",
       "      <td>53.6</td>\n",
       "      <td>0.278</td>\n",
       "      <td>21.80</td>\n",
       "      <td>...</td>\n",
       "      <td>1</td>\n",
       "      <td>1</td>\n",
       "      <td>7.36</td>\n",
       "      <td>0.0</td>\n",
       "      <td>27.1</td>\n",
       "      <td>3.30</td>\n",
       "      <td>0.0</td>\n",
       "      <td>0.0</td>\n",
       "      <td>0.0</td>\n",
       "      <td>1.0</td>\n",
       "    </tr>\n",
       "    <tr>\n",
       "      <th>3</th>\n",
       "      <td>0</td>\n",
       "      <td>9.24</td>\n",
       "      <td>0</td>\n",
       "      <td>0</td>\n",
       "      <td>1</td>\n",
       "      <td>126.9</td>\n",
       "      <td>-1.084</td>\n",
       "      <td>24.5</td>\n",
       "      <td>-1.080</td>\n",
       "      <td>15.20</td>\n",
       "      <td>...</td>\n",
       "      <td>2</td>\n",
       "      <td>1</td>\n",
       "      <td>NaN</td>\n",
       "      <td>NaN</td>\n",
       "      <td>NaN</td>\n",
       "      <td>NaN</td>\n",
       "      <td>NaN</td>\n",
       "      <td>NaN</td>\n",
       "      <td>NaN</td>\n",
       "      <td>NaN</td>\n",
       "    </tr>\n",
       "    <tr>\n",
       "      <th>4</th>\n",
       "      <td>0</td>\n",
       "      <td>5.57</td>\n",
       "      <td>0</td>\n",
       "      <td>0</td>\n",
       "      <td>1</td>\n",
       "      <td>115.4</td>\n",
       "      <td>0.890</td>\n",
       "      <td>21.1</td>\n",
       "      <td>0.716</td>\n",
       "      <td>15.95</td>\n",
       "      <td>...</td>\n",
       "      <td>1</td>\n",
       "      <td>1</td>\n",
       "      <td>7.12</td>\n",
       "      <td>1.0</td>\n",
       "      <td>6.2</td>\n",
       "      <td>1.82</td>\n",
       "      <td>1.0</td>\n",
       "      <td>1.0</td>\n",
       "      <td>1.0</td>\n",
       "      <td>1.0</td>\n",
       "    </tr>\n",
       "  </tbody>\n",
       "</table>\n",
       "<p>5 rows × 92 columns</p>\n",
       "</div>"
      ],
      "text/plain": [
       "   Sex  Age (yrs)  Age<5 Code  Age<3 Code  Age<10 Code  Ht(cm )at Dx  \\\n",
       "0    1      10.74           0           0            0         152.9   \n",
       "1    0       6.32           0           0            1         119.9   \n",
       "2    1      14.07           0           0            0         156.4   \n",
       "3    0       9.24           0           0            1         126.9   \n",
       "4    0       5.57           0           0            1         115.4   \n",
       "\n",
       "   Ht SDS at Dx  Wt (kg) at Dx  Wt SDS at Dx  BMI (kg/m2)at Dx  ...  \\\n",
       "0         1.608           58.1         2.213             24.80  ...   \n",
       "1         0.700           23.8         0.833             16.53  ...   \n",
       "2        -0.876           53.6         0.278             21.80  ...   \n",
       "3        -1.084           24.5        -1.080             15.20  ...   \n",
       "4         0.890           21.1         0.716             15.95  ...   \n",
       "\n",
       "   # of Positive Antibodies  Antibodies Code  pH (7.35-7.45)  PhCODE  \\\n",
       "0                         3                2            7.43     0.0   \n",
       "1                         2                1             NaN     NaN   \n",
       "2                         1                1            7.36     0.0   \n",
       "3                         2                1             NaN     NaN   \n",
       "4                         1                1            7.12     1.0   \n",
       "\n",
       "   HCO3 (23-28 mmol/L) ln(HCo3) HCO3 <15 Code  Ketonemia or ketonuria  \\\n",
       "0                 26.2     3.27           0.0                     0.0   \n",
       "1                  NaN      NaN           NaN                     NaN   \n",
       "2                 27.1     3.30           0.0                     0.0   \n",
       "3                  NaN      NaN           NaN                     NaN   \n",
       "4                  6.2     1.82           1.0                     1.0   \n",
       "\n",
       "   DKA code  Polyuria&Polydipsia  \n",
       "0       0.0                  1.0  \n",
       "1       NaN                  NaN  \n",
       "2       0.0                  1.0  \n",
       "3       NaN                  NaN  \n",
       "4       1.0                  1.0  \n",
       "\n",
       "[5 rows x 92 columns]"
      ]
     },
     "execution_count": 3,
     "metadata": {},
     "output_type": "execute_result"
    }
   ],
   "source": [
    "df = pd.read_csv('nwosu.csv',sep= ',')\n",
    "df.head()"
   ]
  },
  {
   "cell_type": "code",
   "execution_count": 4,
   "metadata": {
    "scrolled": true
   },
   "outputs": [
    {
     "name": "stdout",
     "output_type": "stream",
     "text": [
      "<class 'pandas.core.frame.DataFrame'>\n",
      "RangeIndex: 204 entries, 0 to 203\n",
      "Data columns (total 92 columns):\n",
      "Sex                                 204 non-null int64\n",
      "Age (yrs)                           204 non-null float64\n",
      "Age<5 Code                          204 non-null int64\n",
      "Age<3 Code                          204 non-null int64\n",
      "Age<10 Code                         204 non-null int64\n",
      "Ht(cm )at Dx                        204 non-null float64\n",
      "Ht SDS at Dx                        200 non-null float64\n",
      "Wt (kg) at Dx                       204 non-null float64\n",
      "Wt SDS at Dx                        200 non-null float64\n",
      "BMI (kg/m2)at Dx                    204 non-null float64\n",
      "BMI SDS at Dx                       200 non-null float64\n",
      "BMI% at Dx                          196 non-null float64\n",
      "BMICode4                            196 non-null float64\n",
      "BMICode2                            196 non-null float64\n",
      "TDD LAI at Dx                       203 non-null float64\n",
      "TDD SAI at Dx                       202 non-null object\n",
      "Absolute TDD insulin at Dx (0mo)    203 non-null object\n",
      "TDD (Unit/Kg/day) 0mo               201 non-null float64\n",
      "TDD LAI at 6mo                      197 non-null float64\n",
      "TDD SAI at 6 mo                     197 non-null float64\n",
      "TDD at 6mo                          198 non-null float64\n",
      "TDD 6mo (U/Kg/Day)                  198 non-null float64\n",
      "Status by TDD @6mo                  198 non-null float64\n",
      "TDD LAI at 12mo                     187 non-null float64\n",
      "TDD SAI at 12mo                     188 non-null float64\n",
      "TDD at 12mo                         188 non-null float64\n",
      "TDD 12mo (U/Kg/Day)                 189 non-null float64\n",
      "TDD LAI at 18mo                     160 non-null float64\n",
      "TDD SAI at 18mo                     161 non-null float64\n",
      "TDD at 18mo                         164 non-null float64\n",
      "TDD 18mo (U/Kg/Day)                 83 non-null float64\n",
      "TDD LAI at 24mo                     143 non-null object\n",
      "TDD SAI 24mo                        143 non-null object\n",
      "TDD at 24 mo                        142 non-null float64\n",
      "TDD at 24mo (U/Kg/Day)              147 non-null float64\n",
      "TDD LAI at 30mo                     124 non-null float64\n",
      "TDd SAI at 30mo                     124 non-null float64\n",
      "TDD at 30mo                         124 non-null float64\n",
      "TDD 30 mo (U/Kg/Day)                72 non-null float64\n",
      "TDD LAI at 36mo                     112 non-null float64\n",
      "Tdd SAI at 36mo                     112 non-null float64\n",
      "Absolute TDD at 36mo                112 non-null float64\n",
      "TDD 36 mo (U/Kg/Day)                113 non-null float64\n",
      "Status by TDD in (Units/kg/day)     204 non-null int64\n",
      "TimeIN                              204 non-null int64\n",
      "TimeOUT                             204 non-null int64\n",
      "DurationHM                          204 non-null int64\n",
      "A1c values                          0 non-null float64\n",
      "A1c at 0mo                          204 non-null float64\n",
      "A1c (3mo)                           178 non-null float64\n",
      "A1c (6mo)                           192 non-null float64\n",
      "A1c7.5% Code                        192 non-null float64\n",
      "A1c (9mo)                           160 non-null float64\n",
      "A1c (12mo)                          187 non-null float64\n",
      "A1c3m (15mo)                        146 non-null float64\n",
      "A1c 6m (18 mo)                      160 non-null float64\n",
      "A1c (21 mo)                         106 non-null float64\n",
      "A1c (24 mo)                         144 non-null float64\n",
      "A1c (27 mo)                         99 non-null float64\n",
      "A1c (30 mo)                         117 non-null float64\n",
      "A1c (33 mo)                         74 non-null float64\n",
      "A1c (36mo)                          109 non-null float64\n",
      "IDAA1C (0 ) mo                      188 non-null float64\n",
      "IDAA1C 6 mo                         193 non-null float64\n",
      "StatusIDAA1c6mo                     193 non-null float64\n",
      "IDAA1C 12mo                         185 non-null float64\n",
      "IDAA1C 18 mo                        83 non-null float64\n",
      "IDAA1C 24 mo                        142 non-null float64\n",
      "IDAA1C 30 mo                        73 non-null float64\n",
      "IDAA1C 36 mo                        109 non-null float64\n",
      "StatusIDAA1c                        204 non-null int64\n",
      "NonRemission Code                   204 non-null int64\n",
      "PCROutcome                          204 non-null int64\n",
      "TimeIN.1                            204 non-null float64\n",
      "TimeOUT.1                           204 non-null int64\n",
      "DurationHMIDAA1C                    204 non-null float64\n",
      "Duration12                          204 non-null int64\n",
      "First Yr 25OHD (ng/mL)              153 non-null float64\n",
      "First Yr 25OHD (nmol/L)             153 non-null float64\n",
      "VitDCode  for <20 ng/mL             153 non-null float64\n",
      "Year 2 25OHD(ng/mL)                 102 non-null float64\n",
      "Year 3 25OHD(ng/mL)                 70 non-null float64\n",
      "# of Positive Antibodies            204 non-null int64\n",
      "Antibodies Code                     204 non-null int64\n",
      "pH (7.35-7.45)                      190 non-null float64\n",
      "PhCODE                              190 non-null float64\n",
      "HCO3 (23-28 mmol/L)                 190 non-null float64\n",
      "ln(HCo3)                            190 non-null float64\n",
      "HCO3 <15 Code                       190 non-null float64\n",
      "Ketonemia or ketonuria              190 non-null float64\n",
      "DKA code                            190 non-null float64\n",
      "Polyuria&Polydipsia                 190 non-null float64\n",
      "dtypes: float64(73), int64(15), object(4)\n",
      "memory usage: 146.7+ KB\n"
     ]
    }
   ],
   "source": [
    "df.info()"
   ]
  },
  {
   "cell_type": "markdown",
   "metadata": {},
   "source": [
    "## Data Cleaning"
   ]
  },
  {
   "cell_type": "code",
   "execution_count": 5,
   "metadata": {},
   "outputs": [],
   "source": [
    "target = 'PCROutcome'"
   ]
  },
  {
   "cell_type": "markdown",
   "metadata": {},
   "source": [
    "### Replace empty or errors by np.nan"
   ]
  },
  {
   "cell_type": "code",
   "execution_count": 6,
   "metadata": {},
   "outputs": [],
   "source": [
    "# replace empty/erros by np.nan\n",
    "df = df.replace(r'^\\s+$', np.nan, regex=True)\n",
    "df = df.replace('\\t','',regex=True)\n",
    "df = df.replace(' ','',regex=True)\n",
    "df = df.replace('\\?',np.nan,regex=True)\n",
    "df = df.replace('\\<',np.nan,regex=True)\n",
    "#df"
   ]
  },
  {
   "cell_type": "markdown",
   "metadata": {},
   "source": [
    "### Remove bad columns"
   ]
  },
  {
   "cell_type": "code",
   "execution_count": 7,
   "metadata": {},
   "outputs": [],
   "source": [
    "def remove_bad_columns(df,bad_column_threshold):\n",
    "    # find bad columns having too many missing values\n",
    "    n_null = np.array(df.isnull().sum(axis=0))\n",
    "    bad_col = np.array([]).astype(int)\n",
    "    for i in range(len(n_null)):\n",
    "        if n_null[i] >= bad_column_threshold:\n",
    "            bad_col = np.append(bad_col,i)\n",
    "\n",
    "    #print(bad_col)\n",
    "    print('number of bad columns:',len(bad_col))\n",
    "\n",
    "    # delete bad columns\n",
    "    df = df.drop(df.columns[bad_col],axis=1)\n",
    "    #df.info()\n",
    "    return df  "
   ]
  },
  {
   "cell_type": "code",
   "execution_count": 8,
   "metadata": {},
   "outputs": [
    {
     "name": "stdout",
     "output_type": "stream",
     "text": [
      "number of bad columns: 20\n",
      "<class 'pandas.core.frame.DataFrame'>\n",
      "RangeIndex: 204 entries, 0 to 203\n",
      "Data columns (total 72 columns):\n",
      "Sex                                 204 non-null int64\n",
      "Age (yrs)                           204 non-null float64\n",
      "Age<5 Code                          204 non-null int64\n",
      "Age<3 Code                          204 non-null int64\n",
      "Age<10 Code                         204 non-null int64\n",
      "Ht(cm )at Dx                        204 non-null float64\n",
      "Ht SDS at Dx                        200 non-null float64\n",
      "Wt (kg) at Dx                       204 non-null float64\n",
      "Wt SDS at Dx                        200 non-null float64\n",
      "BMI (kg/m2)at Dx                    204 non-null float64\n",
      "BMI SDS at Dx                       200 non-null float64\n",
      "BMI% at Dx                          196 non-null float64\n",
      "BMICode4                            196 non-null float64\n",
      "BMICode2                            196 non-null float64\n",
      "TDD LAI at Dx                       203 non-null float64\n",
      "TDD SAI at Dx                       201 non-null object\n",
      "Absolute TDD insulin at Dx (0mo)    202 non-null object\n",
      "TDD (Unit/Kg/day) 0mo               201 non-null float64\n",
      "TDD LAI at 6mo                      197 non-null float64\n",
      "TDD SAI at 6 mo                     197 non-null float64\n",
      "TDD at 6mo                          198 non-null float64\n",
      "TDD 6mo (U/Kg/Day)                  198 non-null float64\n",
      "Status by TDD @6mo                  198 non-null float64\n",
      "TDD LAI at 12mo                     187 non-null float64\n",
      "TDD SAI at 12mo                     188 non-null float64\n",
      "TDD at 12mo                         188 non-null float64\n",
      "TDD 12mo (U/Kg/Day)                 189 non-null float64\n",
      "TDD LAI at 18mo                     160 non-null float64\n",
      "TDD SAI at 18mo                     161 non-null float64\n",
      "TDD at 18mo                         164 non-null float64\n",
      "TDD LAI at 24mo                     142 non-null object\n",
      "TDD SAI 24mo                        142 non-null object\n",
      "TDD at 24 mo                        142 non-null float64\n",
      "TDD at 24mo (U/Kg/Day)              147 non-null float64\n",
      "Status by TDD in (Units/kg/day)     204 non-null int64\n",
      "TimeIN                              204 non-null int64\n",
      "TimeOUT                             204 non-null int64\n",
      "DurationHM                          204 non-null int64\n",
      "A1c at 0mo                          204 non-null float64\n",
      "A1c (3mo)                           178 non-null float64\n",
      "A1c (6mo)                           192 non-null float64\n",
      "A1c7.5% Code                        192 non-null float64\n",
      "A1c (9mo)                           160 non-null float64\n",
      "A1c (12mo)                          187 non-null float64\n",
      "A1c3m (15mo)                        146 non-null float64\n",
      "A1c 6m (18 mo)                      160 non-null float64\n",
      "A1c (24 mo)                         144 non-null float64\n",
      "IDAA1C (0 ) mo                      188 non-null float64\n",
      "IDAA1C 6 mo                         193 non-null float64\n",
      "StatusIDAA1c6mo                     193 non-null float64\n",
      "IDAA1C 12mo                         185 non-null float64\n",
      "IDAA1C 24 mo                        142 non-null float64\n",
      "StatusIDAA1c                        204 non-null int64\n",
      "NonRemission Code                   204 non-null int64\n",
      "PCROutcome                          204 non-null int64\n",
      "TimeIN.1                            204 non-null float64\n",
      "TimeOUT.1                           204 non-null int64\n",
      "DurationHMIDAA1C                    204 non-null float64\n",
      "Duration12                          204 non-null int64\n",
      "First Yr 25OHD (ng/mL)              153 non-null float64\n",
      "First Yr 25OHD (nmol/L)             153 non-null float64\n",
      "VitDCode  for <20 ng/mL             153 non-null float64\n",
      "# of Positive Antibodies            204 non-null int64\n",
      "Antibodies Code                     204 non-null int64\n",
      "pH (7.35-7.45)                      190 non-null float64\n",
      "PhCODE                              190 non-null float64\n",
      "HCO3 (23-28 mmol/L)                 190 non-null float64\n",
      "ln(HCo3)                            190 non-null float64\n",
      "HCO3 <15 Code                       190 non-null float64\n",
      "Ketonemia or ketonuria              190 non-null float64\n",
      "DKA code                            190 non-null float64\n",
      "Polyuria&Polydipsia                 190 non-null float64\n",
      "dtypes: float64(53), int64(15), object(4)\n",
      "memory usage: 114.8+ KB\n"
     ]
    }
   ],
   "source": [
    "df = remove_bad_columns(df,80)\n",
    "df.info()"
   ]
  },
  {
   "cell_type": "markdown",
   "metadata": {},
   "source": [
    "### Remove bad rows"
   ]
  },
  {
   "cell_type": "code",
   "execution_count": 9,
   "metadata": {},
   "outputs": [],
   "source": [
    " # Find rows where target is missing\n",
    "def find_missing_target_rows(df,target):\n",
    "    # find rows where target is missing\n",
    "    missing_row = df[target].isnull()\n",
    "    print('Number of rows where target are missing:')\n",
    "    print(sum(missing_row))\n",
    "\n",
    "    #df = df[~missing_row]\n",
    "    missing_row_indices = np.array([t for t in range(df.shape[0]) if missing_row[t]])\n",
    "    \n",
    "    return missing_row_indices"
   ]
  },
  {
   "cell_type": "code",
   "execution_count": 10,
   "metadata": {},
   "outputs": [
    {
     "name": "stdout",
     "output_type": "stream",
     "text": [
      "Number of rows where target are missing:\n",
      "0\n"
     ]
    }
   ],
   "source": [
    "missing_target_rows = find_missing_target_rows(df,target)"
   ]
  },
  {
   "cell_type": "markdown",
   "metadata": {},
   "source": [
    "We find bad rows which contain too many missing values, then remove them."
   ]
  },
  {
   "cell_type": "code",
   "execution_count": 11,
   "metadata": {},
   "outputs": [],
   "source": [
    "def find_bad_rows(df,bad_row_threshold):   \n",
    "    # find bad rows having too many missing values\n",
    "    n_null = np.array(df.isnull().sum(axis=1))\n",
    "    bad_row = np.array([]).astype(int)\n",
    "    for t in range(len(n_null)):\n",
    "        if n_null[t] >= bad_row_threshold:\n",
    "            bad_row = np.append(bad_row,t)\n",
    "\n",
    "    #print(bad_row)\n",
    "    print('number of bad rows:',len(bad_row))\n",
    "\n",
    "    # delete bad rows\n",
    "    #df = df.drop(bad_row)\n",
    "    #df.info()\n",
    "    return bad_row"
   ]
  },
  {
   "cell_type": "code",
   "execution_count": 12,
   "metadata": {},
   "outputs": [
    {
     "name": "stdout",
     "output_type": "stream",
     "text": [
      "number of bad rows: 53\n",
      "<class 'pandas.core.frame.DataFrame'>\n",
      "RangeIndex: 204 entries, 0 to 203\n",
      "Data columns (total 72 columns):\n",
      "Sex                                 204 non-null int64\n",
      "Age (yrs)                           204 non-null float64\n",
      "Age<5 Code                          204 non-null int64\n",
      "Age<3 Code                          204 non-null int64\n",
      "Age<10 Code                         204 non-null int64\n",
      "Ht(cm )at Dx                        204 non-null float64\n",
      "Ht SDS at Dx                        200 non-null float64\n",
      "Wt (kg) at Dx                       204 non-null float64\n",
      "Wt SDS at Dx                        200 non-null float64\n",
      "BMI (kg/m2)at Dx                    204 non-null float64\n",
      "BMI SDS at Dx                       200 non-null float64\n",
      "BMI% at Dx                          196 non-null float64\n",
      "BMICode4                            196 non-null float64\n",
      "BMICode2                            196 non-null float64\n",
      "TDD LAI at Dx                       203 non-null float64\n",
      "TDD SAI at Dx                       201 non-null object\n",
      "Absolute TDD insulin at Dx (0mo)    202 non-null object\n",
      "TDD (Unit/Kg/day) 0mo               201 non-null float64\n",
      "TDD LAI at 6mo                      197 non-null float64\n",
      "TDD SAI at 6 mo                     197 non-null float64\n",
      "TDD at 6mo                          198 non-null float64\n",
      "TDD 6mo (U/Kg/Day)                  198 non-null float64\n",
      "Status by TDD @6mo                  198 non-null float64\n",
      "TDD LAI at 12mo                     187 non-null float64\n",
      "TDD SAI at 12mo                     188 non-null float64\n",
      "TDD at 12mo                         188 non-null float64\n",
      "TDD 12mo (U/Kg/Day)                 189 non-null float64\n",
      "TDD LAI at 18mo                     160 non-null float64\n",
      "TDD SAI at 18mo                     161 non-null float64\n",
      "TDD at 18mo                         164 non-null float64\n",
      "TDD LAI at 24mo                     142 non-null object\n",
      "TDD SAI 24mo                        142 non-null object\n",
      "TDD at 24 mo                        142 non-null float64\n",
      "TDD at 24mo (U/Kg/Day)              147 non-null float64\n",
      "Status by TDD in (Units/kg/day)     204 non-null int64\n",
      "TimeIN                              204 non-null int64\n",
      "TimeOUT                             204 non-null int64\n",
      "DurationHM                          204 non-null int64\n",
      "A1c at 0mo                          204 non-null float64\n",
      "A1c (3mo)                           178 non-null float64\n",
      "A1c (6mo)                           192 non-null float64\n",
      "A1c7.5% Code                        192 non-null float64\n",
      "A1c (9mo)                           160 non-null float64\n",
      "A1c (12mo)                          187 non-null float64\n",
      "A1c3m (15mo)                        146 non-null float64\n",
      "A1c 6m (18 mo)                      160 non-null float64\n",
      "A1c (24 mo)                         144 non-null float64\n",
      "IDAA1C (0 ) mo                      188 non-null float64\n",
      "IDAA1C 6 mo                         193 non-null float64\n",
      "StatusIDAA1c6mo                     193 non-null float64\n",
      "IDAA1C 12mo                         185 non-null float64\n",
      "IDAA1C 24 mo                        142 non-null float64\n",
      "StatusIDAA1c                        204 non-null int64\n",
      "NonRemission Code                   204 non-null int64\n",
      "PCROutcome                          204 non-null int64\n",
      "TimeIN.1                            204 non-null float64\n",
      "TimeOUT.1                           204 non-null int64\n",
      "DurationHMIDAA1C                    204 non-null float64\n",
      "Duration12                          204 non-null int64\n",
      "First Yr 25OHD (ng/mL)              153 non-null float64\n",
      "First Yr 25OHD (nmol/L)             153 non-null float64\n",
      "VitDCode  for <20 ng/mL             153 non-null float64\n",
      "# of Positive Antibodies            204 non-null int64\n",
      "Antibodies Code                     204 non-null int64\n",
      "pH (7.35-7.45)                      190 non-null float64\n",
      "PhCODE                              190 non-null float64\n",
      "HCO3 (23-28 mmol/L)                 190 non-null float64\n",
      "ln(HCo3)                            190 non-null float64\n",
      "HCO3 <15 Code                       190 non-null float64\n",
      "Ketonemia or ketonuria              190 non-null float64\n",
      "DKA code                            190 non-null float64\n",
      "Polyuria&Polydipsia                 190 non-null float64\n",
      "dtypes: float64(53), int64(15), object(4)\n",
      "memory usage: 114.8+ KB\n"
     ]
    }
   ],
   "source": [
    "bad_rows = find_bad_rows(df,10)\n",
    "df.info()"
   ]
  },
  {
   "cell_type": "code",
   "execution_count": 13,
   "metadata": {},
   "outputs": [
    {
     "name": "stdout",
     "output_type": "stream",
     "text": [
      "number of rows need to delete: 53\n"
     ]
    }
   ],
   "source": [
    "del_rows = np.union1d(missing_target_rows,bad_rows)\n",
    "print('number of rows need to delete:',len(del_rows))\n",
    "\n",
    "df = df.drop(del_rows)"
   ]
  },
  {
   "cell_type": "markdown",
   "metadata": {},
   "source": [
    "### Separate target and attributes"
   ]
  },
  {
   "cell_type": "code",
   "execution_count": 14,
   "metadata": {},
   "outputs": [],
   "source": [
    "dfx = df.drop(target,axis=1)\n",
    "dfy = df[target]"
   ]
  },
  {
   "cell_type": "markdown",
   "metadata": {},
   "source": [
    "### Find variable type"
   ]
  },
  {
   "cell_type": "code",
   "execution_count": 15,
   "metadata": {
    "scrolled": false
   },
   "outputs": [
    {
     "name": "stdout",
     "output_type": "stream",
     "text": [
      "number of uniques of each variable:\n",
      "[  2 144   2   2   2 138 146 125 146 105 144  74   4   2  31  32  63 136\n",
      "  36  47  75 129   2  48  62  94 140  57  64  91  59  71  94 122   2   7\n",
      "   6  11  61  43  50   2  43  41  37  42  43 132 141   2 138 126   2   2\n",
      "   9   8  13   2  35  35   2   4   2  49   2 105  86   2   2   2   1]\n"
     ]
    }
   ],
   "source": [
    "# number of uniques of each column (excluding NaN)\n",
    "nu = np.array([len(pd.unique(dfx[col].dropna())) for col in dfx.columns])\n",
    "print('number of uniques of each variable:')\n",
    "print(nu)"
   ]
  },
  {
   "cell_type": "code",
   "execution_count": 16,
   "metadata": {
    "scrolled": true
   },
   "outputs": [],
   "source": [
    "def define_variable_type(df,nu):\n",
    "    i_binary = [] ; i_category = [] ; i_continuous = []\n",
    "    for i in range(len(nu)):\n",
    "        if nu[i] == 2: # binary \n",
    "            i_binary.append(i)\n",
    "        elif nu[i] < 5: # !!!! NOTE: this is not always correct, depending on data\n",
    "            i_category.append(i)\n",
    "        else:\n",
    "            i_continuous.append(i)\n",
    "\n",
    "    print('i_binary:',i_binary)\n",
    "    print('i_category:',i_category)   \n",
    "    #i_binary, i_category, i_continuous\n",
    "    \n",
    "    variable_type  = np.ones(len(nu))  # binary\n",
    "    variable_type[i_category] = 2   # categorical\n",
    "    variable_type[i_continuous] = 3 # continuous\n",
    "\n",
    "    return variable_type #,i_binary,i_category,i_continuous"
   ]
  },
  {
   "cell_type": "code",
   "execution_count": 17,
   "metadata": {
    "scrolled": true
   },
   "outputs": [
    {
     "name": "stdout",
     "output_type": "stream",
     "text": [
      "i_binary: [0, 2, 3, 4, 13, 22, 34, 41, 49, 52, 53, 57, 60, 62, 64, 67, 68, 69]\n",
      "i_category: [12, 61, 70]\n",
      "variable type: [1. 3. 1. 1. 1. 3. 3. 3. 3. 3. 3. 3. 2. 1. 3. 3. 3. 3. 3. 3. 3. 3. 1. 3.\n",
      " 3. 3. 3. 3. 3. 3. 3. 3. 3. 3. 1. 3. 3. 3. 3. 3. 3. 1. 3. 3. 3. 3. 3. 3.\n",
      " 3. 1. 3. 3. 1. 1. 3. 3. 3. 1. 3. 3. 1. 2. 1. 3. 1. 3. 3. 1. 1. 1. 2.]\n"
     ]
    }
   ],
   "source": [
    "variable_type = define_variable_type(dfx,nu)\n",
    "print('variable type:',variable_type)"
   ]
  },
  {
   "cell_type": "markdown",
   "metadata": {},
   "source": [
    "### Impute missing values of attributes"
   ]
  },
  {
   "cell_type": "code",
   "execution_count": 18,
   "metadata": {},
   "outputs": [],
   "source": [
    "def impute_missing(df,variable_type):\n",
    "    # impute binary and categorical variables by the most frequency (in each column)\n",
    "    # continuous variable by median\n",
    "    # input: df: pandas data frame, variable_type: list\n",
    "    # output: df2: pandas data frame\n",
    "    df2 = df.copy()\n",
    "    for i,col in enumerate(df.columns):\n",
    "        if variable_type[i] < 3: # binary or caterogy\n",
    "            df2[col] = df[col].fillna(df[col].mode().iloc[0])\n",
    "        else: # continuous\n",
    "            df2[col] = df[col].fillna(df[col].median())    \n",
    "    return df2       "
   ]
  },
  {
   "cell_type": "code",
   "execution_count": 19,
   "metadata": {
    "scrolled": false
   },
   "outputs": [
    {
     "name": "stdout",
     "output_type": "stream",
     "text": [
      "<class 'pandas.core.frame.DataFrame'>\n",
      "Int64Index: 151 entries, 0 to 199\n",
      "Data columns (total 71 columns):\n",
      "Sex                                 151 non-null int64\n",
      "Age (yrs)                           151 non-null float64\n",
      "Age<5 Code                          151 non-null int64\n",
      "Age<3 Code                          151 non-null int64\n",
      "Age<10 Code                         151 non-null int64\n",
      "Ht(cm )at Dx                        151 non-null float64\n",
      "Ht SDS at Dx                        151 non-null float64\n",
      "Wt (kg) at Dx                       151 non-null float64\n",
      "Wt SDS at Dx                        151 non-null float64\n",
      "BMI (kg/m2)at Dx                    151 non-null float64\n",
      "BMI SDS at Dx                       151 non-null float64\n",
      "BMI% at Dx                          151 non-null float64\n",
      "BMICode4                            151 non-null float64\n",
      "BMICode2                            151 non-null float64\n",
      "TDD LAI at Dx                       151 non-null float64\n",
      "TDD SAI at Dx                       151 non-null object\n",
      "Absolute TDD insulin at Dx (0mo)    151 non-null object\n",
      "TDD (Unit/Kg/day) 0mo               151 non-null float64\n",
      "TDD LAI at 6mo                      151 non-null float64\n",
      "TDD SAI at 6 mo                     151 non-null float64\n",
      "TDD at 6mo                          151 non-null float64\n",
      "TDD 6mo (U/Kg/Day)                  151 non-null float64\n",
      "Status by TDD @6mo                  151 non-null float64\n",
      "TDD LAI at 12mo                     151 non-null float64\n",
      "TDD SAI at 12mo                     151 non-null float64\n",
      "TDD at 12mo                         151 non-null float64\n",
      "TDD 12mo (U/Kg/Day)                 151 non-null float64\n",
      "TDD LAI at 18mo                     151 non-null float64\n",
      "TDD SAI at 18mo                     151 non-null float64\n",
      "TDD at 18mo                         151 non-null float64\n",
      "TDD LAI at 24mo                     151 non-null object\n",
      "TDD SAI 24mo                        151 non-null object\n",
      "TDD at 24 mo                        151 non-null float64\n",
      "TDD at 24mo (U/Kg/Day)              151 non-null float64\n",
      "Status by TDD in (Units/kg/day)     151 non-null int64\n",
      "TimeIN                              151 non-null int64\n",
      "TimeOUT                             151 non-null int64\n",
      "DurationHM                          151 non-null int64\n",
      "A1c at 0mo                          151 non-null float64\n",
      "A1c (3mo)                           151 non-null float64\n",
      "A1c (6mo)                           151 non-null float64\n",
      "A1c7.5% Code                        151 non-null float64\n",
      "A1c (9mo)                           151 non-null float64\n",
      "A1c (12mo)                          151 non-null float64\n",
      "A1c3m (15mo)                        151 non-null float64\n",
      "A1c 6m (18 mo)                      151 non-null float64\n",
      "A1c (24 mo)                         151 non-null float64\n",
      "IDAA1C (0 ) mo                      151 non-null float64\n",
      "IDAA1C 6 mo                         151 non-null float64\n",
      "StatusIDAA1c6mo                     151 non-null float64\n",
      "IDAA1C 12mo                         151 non-null float64\n",
      "IDAA1C 24 mo                        151 non-null float64\n",
      "StatusIDAA1c                        151 non-null int64\n",
      "NonRemission Code                   151 non-null int64\n",
      "TimeIN.1                            151 non-null float64\n",
      "TimeOUT.1                           151 non-null int64\n",
      "DurationHMIDAA1C                    151 non-null float64\n",
      "Duration12                          151 non-null int64\n",
      "First Yr 25OHD (ng/mL)              151 non-null float64\n",
      "First Yr 25OHD (nmol/L)             151 non-null float64\n",
      "VitDCode  for <20 ng/mL             151 non-null float64\n",
      "# of Positive Antibodies            151 non-null int64\n",
      "Antibodies Code                     151 non-null int64\n",
      "pH (7.35-7.45)                      151 non-null float64\n",
      "PhCODE                              151 non-null float64\n",
      "HCO3 (23-28 mmol/L)                 151 non-null float64\n",
      "ln(HCo3)                            151 non-null float64\n",
      "HCO3 <15 Code                       151 non-null float64\n",
      "Ketonemia or ketonuria              151 non-null float64\n",
      "DKA code                            151 non-null float64\n",
      "Polyuria&Polydipsia                 151 non-null float64\n",
      "dtypes: float64(53), int64(14), object(4)\n",
      "memory usage: 84.9+ KB\n"
     ]
    }
   ],
   "source": [
    "dfx_imputed = impute_missing(dfx,variable_type)\n",
    "dfx_imputed.info()"
   ]
  },
  {
   "cell_type": "markdown",
   "metadata": {},
   "source": [
    "## Data Processing"
   ]
  },
  {
   "cell_type": "markdown",
   "metadata": {},
   "source": [
    "### Attributes"
   ]
  },
  {
   "cell_type": "code",
   "execution_count": 20,
   "metadata": {},
   "outputs": [],
   "source": [
    "def convert_binary_and_category(x,variable_type):\n",
    "    \"\"\"\n",
    "    convert binary to +-1, category to one hot; remain continuous.\n",
    "    \"\"\"    \n",
    "    onehot_encoder = OneHotEncoder(sparse=False,categories='auto')\n",
    "\n",
    "    # create 2 initial columns\n",
    "    x_new = np.zeros((x.shape[0],2))\n",
    "\n",
    "    for i,i_type in enumerate(variable_type):\n",
    "        if i_type == 1: # binary\n",
    "            unique_value = np.unique(x[:,i])\n",
    "            x1 = np.array([-1. if value == unique_value[0] else 1. for value in x[:,i]])        \n",
    "            x_new = np.hstack((x_new,x1[:,np.newaxis]))\n",
    "\n",
    "        elif i_type == 2: # category\n",
    "            x1 = onehot_encoder.fit_transform(x[:,i].reshape(-1,1))\n",
    "            x_new = np.hstack((x_new,x1))\n",
    "            \n",
    "        else: # continuous      \n",
    "            x_new = np.hstack((x_new,x[:,i][:,np.newaxis]))      \n",
    "\n",
    "    # drop the 2 initial column\n",
    "    x_new = x_new[:,2:]\n",
    "    \n",
    "    return x_new.astype(float)"
   ]
  },
  {
   "cell_type": "code",
   "execution_count": 21,
   "metadata": {},
   "outputs": [
    {
     "name": "stdout",
     "output_type": "stream",
     "text": [
      "(151, 77)\n",
      "[[ 1.   10.74 -1.   ... -1.   -1.    1.  ]\n",
      " [-1.    9.24 -1.   ... -1.   -1.    1.  ]\n",
      " [-1.    5.57 -1.   ...  1.    1.    1.  ]\n",
      " ...\n",
      " [-1.    5.99 -1.   ...  1.    1.    1.  ]\n",
      " [-1.   11.15 -1.   ...  1.    1.    1.  ]\n",
      " [-1.    5.32 -1.   ... -1.   -1.    1.  ]]\n"
     ]
    }
   ],
   "source": [
    "# convert x\n",
    "x = np.array(dfx_imputed)\n",
    "x_new = convert_binary_and_category(x,variable_type)\n",
    "\n",
    "print(x_new.shape)\n",
    "print(x_new)"
   ]
  },
  {
   "cell_type": "markdown",
   "metadata": {},
   "source": [
    "### Target"
   ]
  },
  {
   "cell_type": "code",
   "execution_count": 22,
   "metadata": {},
   "outputs": [
    {
     "name": "stdout",
     "output_type": "stream",
     "text": [
      "(array([0, 1]), array([59, 92]))\n"
     ]
    }
   ],
   "source": [
    "y = np.array(dfy)\n",
    "#print(np.unique(y,return_counts=True))\n",
    "\n",
    "# convert taget to 0 and 1\n",
    "y_new = y\n",
    "#y_new = np.ones(y.shape[0])\n",
    "#y_new[y =='No'] = 0\n",
    "\n",
    "print(np.unique(y_new,return_counts=True))"
   ]
  },
  {
   "cell_type": "code",
   "execution_count": 23,
   "metadata": {},
   "outputs": [],
   "source": [
    "# combine X and y and save to a file\n",
    "xy_new = np.hstack((x_new,y_new[:,np.newaxis]))\n",
    "np.savetxt('nwosu_processed.dat',xy_new,fmt='%f')"
   ]
  },
  {
   "cell_type": "code",
   "execution_count": null,
   "metadata": {},
   "outputs": [],
   "source": []
  }
 ],
 "metadata": {
  "kernelspec": {
   "display_name": "Python 3",
   "language": "python",
   "name": "python3"
  },
  "language_info": {
   "codemirror_mode": {
    "name": "ipython",
    "version": 3
   },
   "file_extension": ".py",
   "mimetype": "text/x-python",
   "name": "python",
   "nbconvert_exporter": "python",
   "pygments_lexer": "ipython3",
   "version": "3.7.3"
  }
 },
 "nbformat": 4,
 "nbformat_minor": 2
}
