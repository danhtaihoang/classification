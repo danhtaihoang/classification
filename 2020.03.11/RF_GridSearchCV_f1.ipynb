{
 "cells": [
  {
   "cell_type": "markdown",
   "metadata": {},
   "source": [
    "## Random Forest"
   ]
  },
  {
   "cell_type": "code",
   "execution_count": 1,
   "metadata": {},
   "outputs": [],
   "source": [
    "import numpy as np\n",
    "import pandas as pd\n",
    "\n",
    "from sklearn.model_selection import train_test_split,KFold\n",
    "from sklearn.utils import shuffle\n",
    "from sklearn.metrics import confusion_matrix,accuracy_score,precision_score,\\\n",
    "recall_score,roc_curve,auc\n",
    "\n",
    "#import expectation_reflection as ER\n",
    "#from sklearn.linear_model import LogisticRegression\n",
    "from sklearn.ensemble import RandomForestClassifier\n",
    "#from sklearn.model_selection import RandomizedSearchCV\n",
    "from sklearn.model_selection import GridSearchCV\n",
    "\n",
    "import matplotlib.pyplot as plt\n",
    "import seaborn as sns\n",
    "\n",
    "from sklearn.preprocessing import MinMaxScaler\n",
    "from function import split_train_test,make_data_balance"
   ]
  },
  {
   "cell_type": "code",
   "execution_count": 2,
   "metadata": {},
   "outputs": [],
   "source": [
    "np.random.seed(1)"
   ]
  },
  {
   "cell_type": "markdown",
   "metadata": {},
   "source": [
    "First of all, the processed data are imported."
   ]
  },
  {
   "cell_type": "code",
   "execution_count": 3,
   "metadata": {},
   "outputs": [
    {
     "name": "stdout",
     "output_type": "stream",
     "text": [
      "['1paradox' '2peptide' '3stigma' '4nki' '5mental' '6smoking' '7anemia'\n",
      " '8language' '9coag' '10tazamia' '11hepato' '12heat' '13ef' '14cervix'\n",
      " '15heart' '16liver' '17nwosu' '18school' '19ibs' '21survival' '101kidney'\n",
      " '102breast_cancer' '103diabetes_niddk' '104diabetic_retinopathy'\n",
      " '29parkinson' '30paradox2' '31renal' '33svr' '35pcos' '36probiotic']\n"
     ]
    }
   ],
   "source": [
    "#data_list = ['1paradox']\n",
    "#data_list = ['29parkinson','30paradox2','31renal','32patientcare','33svr','34newt','35pcos']\n",
    "data_list = np.loadtxt('data_list.txt',dtype='str')\n",
    "\n",
    "print(data_list)"
   ]
  },
  {
   "cell_type": "code",
   "execution_count": 4,
   "metadata": {},
   "outputs": [],
   "source": [
    "def read_data(data_id):    \n",
    "    data_name = data_list[data_id]\n",
    "    print('data_name:',data_name)\n",
    "    #Xy = np.loadtxt('%s/data_processed.dat'%data_name)\n",
    "    Xy = np.loadtxt('../data/%s/data_processed.dat'%data_name) \n",
    "    X = Xy[:,:-1]\n",
    "    y = Xy[:,-1]\n",
    "\n",
    "    #print(np.unique(y,return_counts=True))\n",
    "\n",
    "    X,y = make_data_balance(X,y)\n",
    "\n",
    "    print(np.unique(y,return_counts=True))\n",
    "\n",
    "    X, y = shuffle(X, y, random_state=1)\n",
    "\n",
    "    X_train,X_test,y_train,y_test = train_test_split(X,y,test_size=0.5,random_state = 1)\n",
    "    \n",
    "    sc = MinMaxScaler()\n",
    "    X_train = sc.fit_transform(X_train)\n",
    "    X_test = sc.transform(X_test)\n",
    "    \n",
    "    return X_train,X_test,y_train,y_test"
   ]
  },
  {
   "cell_type": "code",
   "execution_count": 5,
   "metadata": {},
   "outputs": [],
   "source": [
    "def measure_performance(X_train,X_test,y_train,y_test):\n",
    "    model = RandomForestClassifier()\n",
    "        \n",
    "    # Number of trees in random forest\n",
    "    #n_estimators = [int(x) for x in np.linspace(start = 10, stop = 100, num = 10)]\n",
    "    n_estimators = [10,50,100]\n",
    "\n",
    "    # Number of features to consider at every split\n",
    "    max_features = ['auto']\n",
    "\n",
    "    # Maximum number of levels in tree\n",
    "    #max_depth = [int(x) for x in np.linspace(1, 10, num = 10)]\n",
    "    max_depth = [2,4,6,8,10]\n",
    "    #max_depth.append(None)\n",
    "\n",
    "    # Minimum number of samples required to split a node\n",
    "    min_samples_split = [5, 10, 15, 20]\n",
    "\n",
    "    # Minimum number of samples required at each leaf node\n",
    "    min_samples_leaf = [int(x) for x in np.linspace(start = 1, stop = 5, num = 5)]\n",
    "\n",
    "    # Method of selecting samples for training each tree\n",
    "    #bootstrap = [True, False]\n",
    "    bootstrap = [True]\n",
    "        \n",
    "    # Create the random grid\n",
    "    hyper_parameters = {'n_estimators': n_estimators,\n",
    "                   'max_features': max_features,\n",
    "                   'max_depth': max_depth,\n",
    "                   'min_samples_split': min_samples_split,\n",
    "                   'min_samples_leaf': min_samples_leaf,\n",
    "                   'bootstrap': bootstrap}\n",
    "    \n",
    "    #random_search = RandomizedSearchCV(estimator = model, param_distributions = random_grid, n_iter = 100, \n",
    "    #                           cv = 4, verbose=2, random_state=1, n_jobs = -1)\n",
    "    \n",
    "    # Create grid search using cross validation\n",
    "    clf = GridSearchCV(model, hyper_parameters, cv=4, iid='deprecated')\n",
    "    \n",
    "    # Fit grid search\n",
    "    best_model = clf.fit(X_train, y_train)\n",
    "    \n",
    "    # View best hyperparameters\n",
    "    #print('Best Penalty:', best_model.best_estimator_.get_params()['penalty'])\n",
    "    #print('Best C:', best_model.best_estimator_.get_params()['C'])\n",
    "    \n",
    "    # best hyper parameters\n",
    "    print('best_hyper_parameters:',best_model.best_params_)\n",
    "\n",
    "    # performance:\n",
    "    y_test_pred = best_model.best_estimator_.predict(X_test)\n",
    "    acc = accuracy_score(y_test,y_test_pred)\n",
    "    #print('Accuracy:', acc)\n",
    "\n",
    "    p_test_pred = best_model.best_estimator_.predict_proba(X_test) # prob of [0,1]\n",
    "    p_test_pred = p_test_pred[:,1] # prob of 1    \n",
    "    fp,tp,thresholds = roc_curve(y_test, p_test_pred, drop_intermediate=False)\n",
    "    roc_auc = auc(fp,tp)\n",
    "    #print('AUC:', roc_auc)\n",
    "\n",
    "    precision = precision_score(y_test,y_test_pred)\n",
    "    #print('Precision:',precision)\n",
    "\n",
    "    recall = recall_score(y_test,y_test_pred)\n",
    "    #print('Recall:',recall)\n",
    "    \n",
    "    f1_score = 2*precision*recall/(precision+recall)\n",
    "    \n",
    "    return acc,roc_auc,precision,recall,f1_score"
   ]
  },
  {
   "cell_type": "code",
   "execution_count": 6,
   "metadata": {
    "scrolled": true
   },
   "outputs": [
    {
     "name": "stdout",
     "output_type": "stream",
     "text": [
      "data_name: 1paradox\n",
      "(array([0., 1.]), array([60, 60]))\n",
      "best_hyper_parameters: {'bootstrap': True, 'max_depth': 4, 'max_features': 'auto', 'min_samples_leaf': 4, 'min_samples_split': 10, 'n_estimators': 50}\n",
      "0 0.75 0.9142185663924794 0.625 0.8695652173913043 0.7272727272727273\n",
      "data_name: 2peptide\n",
      "(array([0., 1.]), array([23, 23]))\n",
      "best_hyper_parameters: {'bootstrap': True, 'max_depth': 2, 'max_features': 'auto', 'min_samples_leaf': 2, 'min_samples_split': 5, 'n_estimators': 50}\n",
      "1 0.9565217391304348 1.0 1.0 0.9090909090909091 0.9523809523809523\n",
      "data_name: 3stigma\n",
      "(array([0., 1.]), array([2725, 2725]))\n",
      "best_hyper_parameters: {'bootstrap': True, 'max_depth': 10, 'max_features': 'auto', 'min_samples_leaf': 1, 'min_samples_split': 15, 'n_estimators': 100}\n",
      "2 1.0 1.0 1.0 1.0 1.0\n",
      "data_name: 4nki\n",
      "(array([0., 1.]), array([77, 77]))\n",
      "best_hyper_parameters: {'bootstrap': True, 'max_depth': 4, 'max_features': 'auto', 'min_samples_leaf': 3, 'min_samples_split': 5, 'n_estimators': 50}\n",
      "3 0.6623376623376623 0.7631944444444444 0.5652173913043478 0.8125 0.6666666666666667\n",
      "data_name: 5mental\n",
      "(array([0., 1.]), array([147, 147]))\n",
      "best_hyper_parameters: {'bootstrap': True, 'max_depth': 10, 'max_features': 'auto', 'min_samples_leaf': 2, 'min_samples_split': 10, 'n_estimators': 10}\n",
      "4 0.6530612244897959 0.6956682710107368 0.6486486486486487 0.6575342465753424 0.653061224489796\n",
      "data_name: 6smoking\n",
      "(array([0., 1.]), array([722, 722]))\n",
      "best_hyper_parameters: {'bootstrap': True, 'max_depth': 6, 'max_features': 'auto', 'min_samples_leaf': 1, 'min_samples_split': 5, 'n_estimators': 50}\n",
      "5 0.9778393351800554 0.9986320845341019 0.989100817438692 0.968 0.9784366576819408\n",
      "data_name: 7anemia\n",
      "(array([0., 1.]), array([43, 43]))\n",
      "best_hyper_parameters: {'bootstrap': True, 'max_depth': 6, 'max_features': 'auto', 'min_samples_leaf': 1, 'min_samples_split': 15, 'n_estimators': 10}\n",
      "6 0.7209302325581395 0.8293478260869566 0.6818181818181818 0.75 0.7142857142857143\n",
      "data_name: 8language\n",
      "(array([0., 1.]), array([267, 267]))\n",
      "best_hyper_parameters: {'bootstrap': True, 'max_depth': 8, 'max_features': 'auto', 'min_samples_leaf': 1, 'min_samples_split': 15, 'n_estimators': 50}\n",
      "7 0.7565543071161048 0.8255668934240363 0.7131782945736435 0.7666666666666667 0.7389558232931728\n",
      "data_name: 9coag\n",
      "(array([0., 1.]), array([504, 504]))\n",
      "best_hyper_parameters: {'bootstrap': True, 'max_depth': 2, 'max_features': 'auto', 'min_samples_leaf': 2, 'min_samples_split': 10, 'n_estimators': 100}\n",
      "8 0.6646825396825397 0.7417498383867052 0.6163522012578616 0.8065843621399177 0.6987522281639929\n",
      "data_name: 10tazamia\n",
      "(array([0., 1.]), array([124, 124]))\n",
      "best_hyper_parameters: {'bootstrap': True, 'max_depth': 2, 'max_features': 'auto', 'min_samples_leaf': 3, 'min_samples_split': 5, 'n_estimators': 10}\n",
      "9 0.7580645161290323 0.8224043715846995 0.9714285714285714 0.5396825396825397 0.6938775510204082\n",
      "data_name: 11hepato\n",
      "(array([0., 1.]), array([63, 63]))\n",
      "best_hyper_parameters: {'bootstrap': True, 'max_depth': 6, 'max_features': 'auto', 'min_samples_leaf': 4, 'min_samples_split': 10, 'n_estimators': 50}\n",
      "10 0.7301587301587301 0.8004032258064516 0.7692307692307693 0.6451612903225806 0.7017543859649122\n",
      "data_name: 12heat\n",
      "(array([0., 1.]), array([83, 83]))\n",
      "best_hyper_parameters: {'bootstrap': True, 'max_depth': 2, 'max_features': 'auto', 'min_samples_leaf': 3, 'min_samples_split': 20, 'n_estimators': 100}\n",
      "11 0.7228915662650602 0.7886178861788619 0.8 0.5853658536585366 0.676056338028169\n",
      "data_name: 13ef\n",
      "(array([0., 1.]), array([93, 93]))\n",
      "best_hyper_parameters: {'bootstrap': True, 'max_depth': 2, 'max_features': 'auto', 'min_samples_leaf': 1, 'min_samples_split': 5, 'n_estimators': 10}\n",
      "12 1.0 1.0 1.0 1.0 1.0\n",
      "data_name: 14cervix\n",
      "(array([0., 1.]), array([24, 24]))\n",
      "best_hyper_parameters: {'bootstrap': True, 'max_depth': 4, 'max_features': 'auto', 'min_samples_leaf': 1, 'min_samples_split': 5, 'n_estimators': 100}\n",
      "13 0.9583333333333334 1.0 1.0 0.9166666666666666 0.9565217391304348\n",
      "data_name: 15heart\n",
      "(array([0., 1.]), array([138, 138]))\n",
      "best_hyper_parameters: {'bootstrap': True, 'max_depth': 6, 'max_features': 'auto', 'min_samples_leaf': 5, 'min_samples_split': 20, 'n_estimators': 100}\n",
      "14 0.855072463768116 0.9115287162162162 0.8928571428571429 0.78125 0.8333333333333334\n",
      "data_name: 16liver\n",
      "(array([0., 1.]), array([167, 167]))\n",
      "best_hyper_parameters: {'bootstrap': True, 'max_depth': 10, 'max_features': 'auto', 'min_samples_leaf': 2, 'min_samples_split': 10, 'n_estimators': 10}\n",
      "15 0.6586826347305389 0.7401721664275467 0.675 0.6352941176470588 0.6545454545454545\n",
      "data_name: 17nwosu\n",
      "(array([0., 1.]), array([59, 59]))\n",
      "best_hyper_parameters: {'bootstrap': True, 'max_depth': 2, 'max_features': 'auto', 'min_samples_leaf': 1, 'min_samples_split': 20, 'n_estimators': 10}\n",
      "16 1.0 1.0 1.0 1.0 1.0\n",
      "data_name: 18school\n",
      "(array([0., 1.]), array([68, 68]))\n",
      "best_hyper_parameters: {'bootstrap': True, 'max_depth': 2, 'max_features': 'auto', 'min_samples_leaf': 2, 'min_samples_split': 5, 'n_estimators': 100}\n",
      "17 0.8676470588235294 0.9048442906574394 0.8205128205128205 0.9411764705882353 0.8767123287671232\n",
      "data_name: 19ibs\n",
      "(array([0., 1.]), array([33, 33]))\n",
      "best_hyper_parameters: {'bootstrap': True, 'max_depth': 2, 'max_features': 'auto', 'min_samples_leaf': 3, 'min_samples_split': 5, 'n_estimators': 10}\n",
      "18 1.0 1.0 1.0 1.0 1.0\n",
      "data_name: 21survival\n",
      "(array([0., 1.]), array([123, 123]))\n",
      "best_hyper_parameters: {'bootstrap': True, 'max_depth': 2, 'max_features': 'auto', 'min_samples_leaf': 5, 'min_samples_split': 20, 'n_estimators': 10}\n",
      "19 0.8292682926829268 0.9004237288135594 0.864406779661017 0.796875 0.8292682926829269\n",
      "data_name: 101kidney\n",
      "(array([0., 1.]), array([149, 149]))\n",
      "best_hyper_parameters: {'bootstrap': True, 'max_depth': 2, 'max_features': 'auto', 'min_samples_leaf': 3, 'min_samples_split': 20, 'n_estimators': 50}\n",
      "20 0.959731543624161 1.0 1.0 0.9259259259259259 0.9615384615384615\n",
      "data_name: 102breast_cancer\n",
      "(array([0., 1.]), array([212, 212]))\n",
      "best_hyper_parameters: {'bootstrap': True, 'max_depth': 6, 'max_features': 'auto', 'min_samples_leaf': 1, 'min_samples_split': 15, 'n_estimators': 100}\n",
      "21 0.9433962264150944 0.9911819720317093 0.9801980198019802 0.908256880733945 0.9428571428571428\n",
      "data_name: 103diabetes_niddk\n",
      "(array([0., 1.]), array([252, 252]))\n",
      "best_hyper_parameters: {'bootstrap': True, 'max_depth': 8, 'max_features': 'auto', 'min_samples_leaf': 3, 'min_samples_split': 15, 'n_estimators': 100}\n",
      "22 0.7817460317460317 0.8268649193548387 0.762589928057554 0.828125 0.7940074906367041\n",
      "data_name: 104diabetic_retinopathy\n",
      "(array([0., 1.]), array([536, 536]))\n",
      "best_hyper_parameters: {'bootstrap': True, 'max_depth': 10, 'max_features': 'auto', 'min_samples_leaf': 1, 'min_samples_split': 20, 'n_estimators': 100}\n",
      "23 0.6753731343283582 0.7336926247771836 0.6691729323308271 0.6742424242424242 0.6716981132075472\n",
      "data_name: 29parkinson\n",
      "(array([0., 1.]), array([48, 48]))\n",
      "best_hyper_parameters: {'bootstrap': True, 'max_depth': 2, 'max_features': 'auto', 'min_samples_leaf': 1, 'min_samples_split': 5, 'n_estimators': 100}\n",
      "24 0.7708333333333334 0.8465608465608465 0.7777777777777778 0.6666666666666666 0.717948717948718\n",
      "data_name: 30paradox2\n",
      "(array([0., 1.]), array([52, 52]))\n",
      "best_hyper_parameters: {'bootstrap': True, 'max_depth': 4, 'max_features': 'auto', 'min_samples_leaf': 1, 'min_samples_split': 10, 'n_estimators': 50}\n",
      "25 0.9615384615384616 1.0 1.0 0.9259259259259259 0.9615384615384615\n",
      "data_name: 31renal\n",
      "(array([0., 1.]), array([47, 47]))\n",
      "best_hyper_parameters: {'bootstrap': True, 'max_depth': 6, 'max_features': 'auto', 'min_samples_leaf': 3, 'min_samples_split': 5, 'n_estimators': 10}\n",
      "26 0.8085106382978723 0.8163636363636363 0.8421052631578947 0.7272727272727273 0.7804878048780488\n",
      "data_name: 33svr\n",
      "(array([0., 1.]), array([41, 41]))\n",
      "best_hyper_parameters: {'bootstrap': True, 'max_depth': 4, 'max_features': 'auto', 'min_samples_leaf': 2, 'min_samples_split': 5, 'n_estimators': 50}\n",
      "27 0.975609756097561 1.0 1.0 0.95 0.9743589743589743\n",
      "data_name: 35pcos\n",
      "(array([0., 1.]), array([177, 177]))\n",
      "best_hyper_parameters: {'bootstrap': True, 'max_depth': 10, 'max_features': 'auto', 'min_samples_leaf': 4, 'min_samples_split': 15, 'n_estimators': 100}\n",
      "28 0.8418079096045198 0.9269476372924649 0.797979797979798 0.9080459770114943 0.8494623655913979\n",
      "data_name: 36probiotic\n",
      "(array([0., 1.]), array([10, 10]))\n"
     ]
    },
    {
     "name": "stderr",
     "output_type": "stream",
     "text": [
      "/home/tai/anaconda3/lib/python3.7/site-packages/sklearn/model_selection/_split.py:652: Warning: The least populated class in y has only 3 members, which is too few. The minimum number of members in any class cannot be less than n_splits=4.\n",
      "  % (min_groups, self.n_splits)), Warning)\n"
     ]
    },
    {
     "name": "stdout",
     "output_type": "stream",
     "text": [
      "best_hyper_parameters: {'bootstrap': True, 'max_depth': 2, 'max_features': 'auto', 'min_samples_leaf': 1, 'min_samples_split': 5, 'n_estimators': 50}\n",
      "29 0.6 0.9999999999999999 0.42857142857142855 1.0 0.6\n"
     ]
    }
   ],
   "source": [
    "n_data = len(data_list)\n",
    "roc_auc = np.zeros(n_data)   ; acc = np.zeros(n_data)\n",
    "precision = np.zeros(n_data) ; recall = np.zeros(n_data)\n",
    "f1_score = np.zeros(n_data)\n",
    "#data_id = 0\n",
    "for data_id in range(n_data):\n",
    "    X_train,X_test,y_train,y_test = read_data(data_id)\n",
    "    acc[data_id],roc_auc[data_id],precision[data_id],recall[data_id],f1_score[data_id] =\\\n",
    "            measure_performance(X_train,X_test,y_train,y_test)\n",
    "    print(data_id,acc[data_id],roc_auc[data_id],precision[data_id],recall[data_id],f1_score[data_id])"
   ]
  },
  {
   "cell_type": "code",
   "execution_count": 7,
   "metadata": {},
   "outputs": [
    {
     "name": "stdout",
     "output_type": "stream",
     "text": [
      "acc_mean: 0.8280197557123796\n",
      "roc_mean: 0.8926127982114971\n",
      "precision: 0.829704892213632\n",
      "recall: 0.8298624956069622\n",
      "f1_score: 0.8201926316754394\n"
     ]
    }
   ],
   "source": [
    "print('acc_mean:',acc.mean())\n",
    "print('roc_mean:',roc_auc.mean())\n",
    "print('precision:',precision.mean())\n",
    "print('recall:',recall.mean())\n",
    "print('f1_score:',f1_score.mean())"
   ]
  },
  {
   "cell_type": "code",
   "execution_count": 8,
   "metadata": {},
   "outputs": [],
   "source": [
    "np.savetxt('RF_result_f1.dat',(roc_auc,acc,precision,recall,f1_score),fmt='%f')"
   ]
  },
  {
   "cell_type": "code",
   "execution_count": null,
   "metadata": {},
   "outputs": [],
   "source": []
  }
 ],
 "metadata": {
  "kernelspec": {
   "display_name": "Python 3",
   "language": "python",
   "name": "python3"
  },
  "language_info": {
   "codemirror_mode": {
    "name": "ipython",
    "version": 3
   },
   "file_extension": ".py",
   "mimetype": "text/x-python",
   "name": "python",
   "nbconvert_exporter": "python",
   "pygments_lexer": "ipython3",
   "version": "3.7.3"
  }
 },
 "nbformat": 4,
 "nbformat_minor": 2
}
