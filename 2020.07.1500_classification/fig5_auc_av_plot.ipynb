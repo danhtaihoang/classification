{
 "cells": [
  {
   "cell_type": "code",
   "execution_count": 1,
   "metadata": {},
   "outputs": [],
   "source": [
    "import sys\n",
    "import numpy as np\n",
    "import matplotlib.pyplot as plt\n",
    "%matplotlib inline"
   ]
  },
  {
   "cell_type": "code",
   "execution_count": 2,
   "metadata": {},
   "outputs": [],
   "source": [
    "auc_ER = np.loadtxt('auc_av_ER.dat')\n",
    "auc_DCA = np.loadtxt('auc_av_DCA.dat')\n",
    "pos_neg = np.loadtxt('auc_cutoff_all.dat')"
   ]
  },
  {
   "cell_type": "code",
   "execution_count": 3,
   "metadata": {},
   "outputs": [
    {
     "data": {
      "image/png": "[encoded data removed]",
      "text/plain": [
       "<Figure size 756x201.6 with 3 Axes>"
      ]
     },
     "metadata": {
      "needs_background": "light"
     },
     "output_type": "display_data"
    }
   ],
   "source": [
    "nx,ny = 3,1\n",
    "nfig = nx*ny\n",
    "fig, ax = plt.subplots(ny,nx,figsize=(nx*3.5,ny*2.8))\n",
    "\n",
    "ax[0].set_title('cutoff = 2')\n",
    "ax[0].bar(0,pos_neg[2,0],color='k',width=0.8,label='DCA')\n",
    "ax[0].bar(1,pos_neg[1,0],color='r',width=0.8,label='ER')\n",
    "\n",
    "ax[1].set_title('cutoff = 3')\n",
    "ax[1].bar(0,pos_neg[2,1],color='k',width=0.8,label='DCA')\n",
    "ax[1].bar(1,pos_neg[1,1],color='r',width=0.8,label='ER')\n",
    "\n",
    "ax[2].set_title('cutoff = 4')\n",
    "ax[2].bar(0,pos_neg[2,2],color='k',width=0.8,label='DCA')\n",
    "ax[2].bar(1,pos_neg[1,2],color='r',width=0.8,label='ER')\n",
    "\n",
    "for i in range(nx):\n",
    "    ax[i].set_xlabel('0: LR , 1: ER')\n",
    "\n",
    "ax[0].legend()\n",
    "\n",
    "plt.tight_layout(h_pad=1, w_pad=1.5)\n",
    "plt.savefig('fig5_pos_neg.pdf', format='pdf', dpi=100)"
   ]
  },
  {
   "cell_type": "code",
   "execution_count": null,
   "metadata": {},
   "outputs": [],
   "source": []
  }
 ],
 "metadata": {
  "kernelspec": {
   "display_name": "Python 3",
   "language": "python",
   "name": "python3"
  },
  "language_info": {
   "codemirror_mode": {
    "name": "ipython",
    "version": 3
   },
   "file_extension": ".py",
   "mimetype": "text/x-python",
   "name": "python",
   "nbconvert_exporter": "python",
   "pygments_lexer": "ipython3",
   "version": "3.7.3"
  }
 },
 "nbformat": 4,
 "nbformat_minor": 2
}
