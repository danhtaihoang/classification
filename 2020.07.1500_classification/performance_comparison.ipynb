{
 "cells": [
  {
   "cell_type": "code",
   "execution_count": 1,
   "metadata": {},
   "outputs": [],
   "source": [
    "import numpy as np\n",
    "import matplotlib.pyplot as plt\n",
    "import matplotlib.ticker as mtick\n",
    "%matplotlib inline"
   ]
  },
  {
   "cell_type": "code",
   "execution_count": 2,
   "metadata": {},
   "outputs": [],
   "source": [
    "np.random.seed(1)"
   ]
  },
  {
   "cell_type": "code",
   "execution_count": 3,
   "metadata": {},
   "outputs": [],
   "source": [
    "LR = np.loadtxt('result_LR_median.dat')\n",
    "RF = np.loadtxt('result_RF_median.dat')\n",
    "ER = np.loadtxt('result_ER_LAD_median.dat')"
   ]
  },
  {
   "cell_type": "code",
   "execution_count": 4,
   "metadata": {},
   "outputs": [
    {
     "name": "stdout",
     "output_type": "stream",
     "text": [
      "30\n"
     ]
    }
   ],
   "source": [
    "# number of data sets\n",
    "n = LR.shape[1]\n",
    "print(n)\n",
    "\n",
    "## accuracy\n",
    "acc = np.zeros((3,n))"
   ]
  },
  {
   "cell_type": "code",
   "execution_count": 5,
   "metadata": {},
   "outputs": [],
   "source": [
    "def ranking_methods(acc,alpha=0.):\n",
    "    n1,n2,n3 = np.zeros(3),np.zeros(3),np.zeros(3)\n",
    "\n",
    "    ## for each data\n",
    "    #j = 0\n",
    "    for j in range(n):\n",
    "        #print('j:',acc[:,j])\n",
    "        acc_max,acc_min = max(acc[:,j]),min(acc[:,j])\n",
    "\n",
    "        if acc_max <= (1+2*alpha)*acc_min:\n",
    "            n1[:] +=1\n",
    "        else:\n",
    "            for i in range(3):\n",
    "                if acc[i,j] >= (1-alpha)*acc_max:\n",
    "                    n1[i] += 1\n",
    "                elif acc[i,j] <= (1+alpha)*acc_min:\n",
    "                    n3[i] += 1\n",
    "                else:\n",
    "                    n2[i] += 1\n",
    "\n",
    "    print('n1:',n1)\n",
    "    #print('n2:',n2)\n",
    "    #print('n3:',n3)\n",
    "    \n",
    "    return n1,n2,n3"
   ]
  },
  {
   "cell_type": "markdown",
   "metadata": {},
   "source": [
    "### Accuracy"
   ]
  },
  {
   "cell_type": "code",
   "execution_count": 6,
   "metadata": {
    "scrolled": false
   },
   "outputs": [
    {
     "name": "stdout",
     "output_type": "stream",
     "text": [
      "accuracy mean: [0.8880063  0.89639927 0.90508067]\n",
      "accuracy std: [0.10696812 0.09586381 0.09855171]\n",
      "n1: [10. 11. 19.]\n"
     ]
    }
   ],
   "source": [
    "# accuracy:\n",
    "acc[0,:],acc[1,:],acc[2,:] = LR[0,:],RF[0,:],ER[0,:]\n",
    "acc_av = acc.mean(axis=1)\n",
    "acc_std = acc.std(axis=1)\n",
    "print('accuracy mean:',acc_av)\n",
    "print('accuracy std:',acc_std)\n",
    "n1,n2,n3 = ranking_methods(acc,alpha=0.)"
   ]
  },
  {
   "cell_type": "code",
   "execution_count": 7,
   "metadata": {},
   "outputs": [
    {
     "data": {
      "image/png": "[encoded data removed]",
      "text/plain": [
       "<Figure size 504x201.6 with 2 Axes>"
      ]
     },
     "metadata": {
      "needs_background": "light"
     },
     "output_type": "display_data"
    }
   ],
   "source": [
    "nx,ny = 2,1\n",
    "nfig = nx*ny\n",
    "fig, ax = plt.subplots(ny,nx,figsize=(nx*3.5,ny*2.8))\n",
    "   \n",
    "xvalue = [0,1,2]\n",
    "labels = ['LR','RF','ER']\n",
    "\n",
    "ax[0].bar(0,acc_av[0],color='k',width=0.8,label='LR')\n",
    "ax[0].bar(1,acc_av[1],color='b',width=0.8,label='RF')\n",
    "ax[0].bar(2,acc_av[2],color='r',width=0.8,label='ER')\n",
    "ax[0].set_xticks(xvalue)\n",
    "ax[0].set_xticklabels(labels)\n",
    "ax[0].set_ylabel('accuracy mean')\n",
    "ax[0].set_ylim([0.82,0.92])\n",
    "\n",
    "ax[1].bar(0,n1[0],color='k',width=0.8,label='LR')\n",
    "ax[1].bar(1,n1[1],color='b',width=0.8,label='RF')\n",
    "ax[1].bar(2,n1[2],color='r',width=0.8,label='ER')\n",
    "ax[1].set_xticks(xvalue)\n",
    "ax[1].set_xticklabels(labels)\n",
    "ax[1].set_ylabel('number of winnings')\n",
    "#ax[0].legend()\n",
    "\n",
    "plt.tight_layout(h_pad=1, w_pad=2.)\n",
    "#plt.savefig('fig1.pdf', format='pdf', dpi=100)"
   ]
  },
  {
   "cell_type": "markdown",
   "metadata": {},
   "source": [
    "### ROC_AUC"
   ]
  },
  {
   "cell_type": "code",
   "execution_count": 8,
   "metadata": {},
   "outputs": [
    {
     "name": "stdout",
     "output_type": "stream",
     "text": [
      "ROC AUC mean: [0.8287662  0.83961707 0.85264547]\n",
      "ROC AUC std: [0.12514798 0.11794266 0.1127152 ]\n",
      "n1: [ 7. 12. 19.]\n"
     ]
    }
   ],
   "source": [
    "# roc:\n",
    "acc[0,:],acc[1,:],acc[2,:] = LR[1,:],RF[1,:],ER[1,:]\n",
    "acc_av = acc.mean(axis=1)\n",
    "acc_std = acc.std(axis=1)\n",
    "print('ROC AUC mean:',acc_av)\n",
    "print('ROC AUC std:',acc_std)\n",
    "n1,n2,n3 = ranking_methods(acc,alpha=0.)"
   ]
  },
  {
   "cell_type": "code",
   "execution_count": 9,
   "metadata": {},
   "outputs": [
    {
     "data": {
      "image/png": "[encoded data removed]",
      "text/plain": [
       "<Figure size 504x201.6 with 2 Axes>"
      ]
     },
     "metadata": {
      "needs_background": "light"
     },
     "output_type": "display_data"
    }
   ],
   "source": [
    "nx,ny = 2,1\n",
    "nfig = nx*ny\n",
    "fig, ax = plt.subplots(ny,nx,figsize=(nx*3.5,ny*2.8))\n",
    "   \n",
    "xvalue = [0,1,2]\n",
    "labels = ['LR','RF','ER']\n",
    "\n",
    "ax[0].bar(0,acc_av[0],color='k',width=0.8,label='LR')\n",
    "ax[0].bar(1,acc_av[1],color='b',width=0.8,label='RF')\n",
    "ax[0].bar(2,acc_av[2],color='r',width=0.8,label='ER')\n",
    "ax[0].set_xticks(xvalue)\n",
    "ax[0].set_xticklabels(labels)\n",
    "ax[0].set_ylabel('ROC AUC mean')\n",
    "ax[0].set_ylim([0.78,0.88])\n",
    "\n",
    "ax[1].bar(0,n1[0],color='k',width=0.8,label='LR')\n",
    "ax[1].bar(1,n1[1],color='b',width=0.8,label='RF')\n",
    "ax[1].bar(2,n1[2],color='r',width=0.8,label='ER')\n",
    "ax[1].set_xticks(xvalue)\n",
    "ax[1].set_xticklabels(labels)\n",
    "ax[1].set_ylabel('number of winnings')\n",
    "#ax[0].legend()\n",
    "\n",
    "plt.tight_layout(h_pad=1, w_pad=2.)\n",
    "#plt.savefig('fig1.pdf', format='pdf', dpi=100)"
   ]
  },
  {
   "cell_type": "markdown",
   "metadata": {},
   "source": [
    "### Precision"
   ]
  },
  {
   "cell_type": "code",
   "execution_count": 10,
   "metadata": {
    "scrolled": true
   },
   "outputs": [
    {
     "name": "stdout",
     "output_type": "stream",
     "text": [
      "precision mean: [0.8347952  0.84690443 0.8508199 ]\n",
      "precision std: [0.14104332 0.12135254 0.13234336]\n",
      "n1: [14. 14. 17.]\n"
     ]
    }
   ],
   "source": [
    "# precision :\n",
    "acc[0,:],acc[1,:],acc[2,:] = LR[2,:],RF[2,:],ER[2,:]\n",
    "acc_av = acc.mean(axis=1)\n",
    "acc_std = acc.std(axis=1)\n",
    "print('precision mean:',acc_av)\n",
    "print('precision std:',acc_std)\n",
    "n1,n2,n3 = ranking_methods(acc,alpha=0.)"
   ]
  },
  {
   "cell_type": "code",
   "execution_count": 11,
   "metadata": {},
   "outputs": [
    {
     "data": {
      "image/png": "[encoded data removed]",
      "text/plain": [
       "<Figure size 504x201.6 with 2 Axes>"
      ]
     },
     "metadata": {
      "needs_background": "light"
     },
     "output_type": "display_data"
    }
   ],
   "source": [
    "nx,ny = 2,1\n",
    "nfig = nx*ny\n",
    "fig, ax = plt.subplots(ny,nx,figsize=(nx*3.5,ny*2.8))\n",
    "   \n",
    "xvalue = [0,1,2]\n",
    "labels = ['LR','RF','ER']\n",
    "\n",
    "ax[0].bar(0,acc_av[0],color='k',width=0.8,label='LR')\n",
    "ax[0].bar(1,acc_av[1],color='b',width=0.8,label='RF')\n",
    "ax[0].bar(2,acc_av[2],color='r',width=0.8,label='ER')\n",
    "ax[0].set_xticks(xvalue)\n",
    "ax[0].set_xticklabels(labels)\n",
    "ax[0].set_ylabel('precision mean')\n",
    "ax[0].set_ylim([0.78,0.88])\n",
    "\n",
    "ax[1].bar(0,n1[0],color='k',width=0.8,label='LR')\n",
    "ax[1].bar(1,n1[1],color='b',width=0.8,label='RF')\n",
    "ax[1].bar(2,n1[2],color='r',width=0.8,label='ER')\n",
    "ax[1].set_xticks(xvalue)\n",
    "ax[1].set_xticklabels(labels)\n",
    "ax[1].set_ylabel('number of winnings')\n",
    "#ax[0].legend()\n",
    "\n",
    "plt.tight_layout(h_pad=1, w_pad=2.0)\n",
    "#plt.savefig('fig1.pdf', format='pdf', dpi=100)"
   ]
  },
  {
   "cell_type": "markdown",
   "metadata": {},
   "source": [
    "### Recall"
   ]
  },
  {
   "cell_type": "code",
   "execution_count": 12,
   "metadata": {
    "scrolled": false
   },
   "outputs": [
    {
     "name": "stdout",
     "output_type": "stream",
     "text": [
      "recall mean: [0.8362014  0.83608183 0.8612654 ]\n",
      "recall std: [0.13872877 0.14308349 0.12708697]\n",
      "n1: [11. 11. 17.]\n"
     ]
    }
   ],
   "source": [
    "# recall :\n",
    "acc[0,:],acc[1,:],acc[2,:] = LR[3,:],RF[3,:],ER[3,:]\n",
    "acc_av = acc.mean(axis=1)\n",
    "acc_std = acc.std(axis=1)\n",
    "print('recall mean:',acc_av)\n",
    "print('recall std:',acc_std)\n",
    "n1,n2,n3 = ranking_methods(acc,alpha=0.)"
   ]
  },
  {
   "cell_type": "code",
   "execution_count": 13,
   "metadata": {},
   "outputs": [
    {
     "data": {
      "image/png": "[encoded data removed]",
      "text/plain": [
       "<Figure size 504x201.6 with 2 Axes>"
      ]
     },
     "metadata": {
      "needs_background": "light"
     },
     "output_type": "display_data"
    }
   ],
   "source": [
    "nx,ny = 2,1\n",
    "nfig = nx*ny\n",
    "fig, ax = plt.subplots(ny,nx,figsize=(nx*3.5,ny*2.8))\n",
    "   \n",
    "xvalue = [0,1,2]\n",
    "labels = ['LR','RF','ER']\n",
    "\n",
    "ax[0].bar(0,acc_av[0],color='k',width=0.8,label='LR')\n",
    "ax[0].bar(1,acc_av[1],color='b',width=0.8,label='RF')\n",
    "ax[0].bar(2,acc_av[2],color='r',width=0.8,label='ER')\n",
    "ax[0].set_xticks(xvalue)\n",
    "ax[0].set_xticklabels(labels)\n",
    "ax[0].set_ylabel('recall mean')\n",
    "ax[0].set_ylim([0.78,0.88])\n",
    "\n",
    "ax[1].bar(0,n1[0],color='k',width=0.8,label='LR')\n",
    "ax[1].bar(1,n1[1],color='b',width=0.8,label='RF')\n",
    "ax[1].bar(2,n1[2],color='r',width=0.8,label='ER')\n",
    "ax[1].set_xticks(xvalue)\n",
    "ax[1].set_xticklabels(labels)\n",
    "ax[1].set_ylabel('number of winnings')\n",
    "#ax[0].legend()\n",
    "\n",
    "plt.tight_layout(h_pad=1, w_pad=2.0)\n",
    "#plt.savefig('fig1.pdf', format='pdf', dpi=100)"
   ]
  },
  {
   "cell_type": "markdown",
   "metadata": {},
   "source": [
    "### F1 Score"
   ]
  },
  {
   "cell_type": "code",
   "execution_count": 14,
   "metadata": {},
   "outputs": [
    {
     "name": "stdout",
     "output_type": "stream",
     "text": [
      "f1_score mean: [0.82904403 0.8369398  0.8504635 ]\n",
      "f1_score std: [0.12565149 0.1209106  0.11382722]\n",
      "n1: [ 6. 11. 17.]\n"
     ]
    }
   ],
   "source": [
    "# f1 score :\n",
    "acc[0,:],acc[1,:],acc[2,:] = LR[4,:],RF[4,:],ER[4,:]\n",
    "acc_av = acc.mean(axis=1)\n",
    "acc_std = acc.std(axis=1)\n",
    "print('f1_score mean:',acc_av)\n",
    "print('f1_score std:',acc_std)\n",
    "n1,n2,n3 = ranking_methods(acc,alpha=0.)"
   ]
  },
  {
   "cell_type": "code",
   "execution_count": 15,
   "metadata": {},
   "outputs": [
    {
     "data": {
      "image/png": "[encoded data removed]",
      "text/plain": [
       "<Figure size 504x201.6 with 2 Axes>"
      ]
     },
     "metadata": {
      "needs_background": "light"
     },
     "output_type": "display_data"
    }
   ],
   "source": [
    "nx,ny = 2,1\n",
    "nfig = nx*ny\n",
    "fig, ax = plt.subplots(ny,nx,figsize=(nx*3.5,ny*2.8))\n",
    "   \n",
    "xvalue = [0,1,2]\n",
    "labels = ['LR','RF','ER']\n",
    "\n",
    "ax[0].bar(0,acc_av[0],color='k',width=0.8,label='LR')\n",
    "ax[0].bar(1,acc_av[1],color='b',width=0.8,label='RF')\n",
    "ax[0].bar(2,acc_av[2],color='r',width=0.8,label='ER')\n",
    "ax[0].set_xticks(xvalue)\n",
    "ax[0].set_xticklabels(labels)\n",
    "ax[0].set_ylabel('f1-score mean')\n",
    "ax[0].set_ylim([0.76,0.86])\n",
    "\n",
    "ax[1].bar(0,n1[0],color='k',width=0.8,label='LR')\n",
    "ax[1].bar(1,n1[1],color='b',width=0.8,label='RF')\n",
    "ax[1].bar(2,n1[2],color='r',width=0.8,label='ER')\n",
    "ax[1].set_xticks(xvalue)\n",
    "ax[1].set_xticklabels(labels)\n",
    "ax[1].set_ylabel('number of winnings')\n",
    "#ax[0].legend()\n",
    "\n",
    "plt.tight_layout(h_pad=1, w_pad=2.0)\n",
    "#plt.savefig('fig1.pdf', format='pdf', dpi=100)"
   ]
  },
  {
   "cell_type": "code",
   "execution_count": null,
   "metadata": {},
   "outputs": [],
   "source": []
  }
 ],
 "metadata": {
  "kernelspec": {
   "display_name": "Python 3",
   "language": "python",
   "name": "python3"
  },
  "language_info": {
   "codemirror_mode": {
    "name": "ipython",
    "version": 3
   },
   "file_extension": ".py",
   "mimetype": "text/x-python",
   "name": "python",
   "nbconvert_exporter": "python",
   "pygments_lexer": "ipython3",
   "version": "3.7.4"
  }
 },
 "nbformat": 4,
 "nbformat_minor": 2
}
