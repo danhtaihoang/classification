{
 "cells": [
  {
   "cell_type": "code",
   "execution_count": 1,
   "metadata": {},
   "outputs": [],
   "source": [
    "import numpy as np\n",
    "\n",
    "from scipy import linalg\n",
    "from scipy.special import erf as sperf\n",
    "\n",
    "import matplotlib.pyplot as plt"
   ]
  },
  {
   "cell_type": "code",
   "execution_count": 2,
   "metadata": {},
   "outputs": [],
   "source": [
    "def infer_LAD(x, y, regu=0.1,tol=1e-8, max_iter=5000):\n",
    "## 2019.12.26: Jungmin's code    \n",
    "    weights_limit = sperf(1e-10)*1e10\n",
    "    \n",
    "    s_sample, s_pred = x.shape\n",
    "    s_sample, s_target = y.shape\n",
    "    \n",
    "    mu = np.zeros(x.shape[1])\n",
    "\n",
    "    w_sol = 0.0*(np.random.rand(s_pred,s_target) - 0.5)\n",
    "    b_sol = np.random.rand(1,s_target) - 0.5\n",
    "\n",
    "#     print(weights.shape)\n",
    "    for index in range(s_target):\n",
    "        error, old_error = np.inf, 0\n",
    "        weights = np.ones((s_sample, 1))\n",
    "        cov = np.cov(np.hstack((x,y[:,index][:,None])), rowvar=False, \\\n",
    "                     ddof=0, aweights=weights.reshape(s_sample))\n",
    "        cov_xx, cov_xy = cov[:s_pred,:s_pred],cov[:s_pred,s_pred:(s_pred+1)]\n",
    "\n",
    "#         print(cov.shape, cov_xx.shape, cov_xy.shape)\n",
    "        counter = 0\n",
    "        while np.abs(error-old_error) > tol and counter < max_iter:\n",
    "            counter += 1\n",
    "            old_error = np.mean(np.abs(b_sol[0,index] + x.dot(w_sol[:,index]) - y[:,index]))\n",
    "#             old_error = np.mean(np.abs(b_sol[0,index] + x_test.dot(w_sol[:,index]) - y_test[:,index]))\n",
    "#             print(w_sol[:,index].shape, npl.solve(cov_xx, cov_xy).reshape(s_pred).shape)\n",
    "\n",
    "            # 2019.12.26: Tai - added regularization\n",
    "            sigma_w = np.std(w_sol[:,index])\n",
    "                \n",
    "            w_eq_0 = np.abs(w_sol[:,index]) < 1e-10\n",
    "            mu[w_eq_0] = 2./np.sqrt(np.pi)\n",
    "        \n",
    "            mu[~w_eq_0] = sigma_w*sperf(w_sol[:,index][~w_eq_0]/sigma_w)/w_sol[:,index][~w_eq_0]\n",
    "                                                        \n",
    "            w_sol[:,index] = np.linalg.solve(cov_xx + regu*np.diag(mu),cov_xy).reshape(s_pred)\n",
    "        \n",
    "            b_sol[0,index] = np.mean(y[:,index]-x.dot(w_sol[:,index]))\n",
    "            weights = (b_sol[0,index] + x.dot(w_sol[:,index]) - y[:,index])\n",
    "            sigma = np.std(weights)\n",
    "            error = np.mean(np.abs(weights))\n",
    "#             error = np.mean(np.abs(b_sol[0,index] + x_test.dot(w_sol[:,index]) - y_test[:,index]))\n",
    "            weights_eq_0 = np.abs(weights) < 1e-10\n",
    "            weights[weights_eq_0] = weights_limit\n",
    "            weights[~weights_eq_0] = sigma*sperf(weights[~weights_eq_0]/sigma)/weights[~weights_eq_0]\n",
    "            \n",
    "            #weights = sigma*sperf(weights/sigma)/weights            \n",
    "            cov = np.cov(np.hstack((x,y[:,index][:,None])), rowvar=False, \\\n",
    "                         ddof=0, aweights=weights.reshape(s_sample))\n",
    "            cov_xx, cov_xy = cov[:s_pred,:s_pred],cov[:s_pred,s_pred:(s_pred+1)]\n",
    "#             print(old_error,error)\n",
    "    #return b_sol,w_sol \n",
    "    return b_sol[0][0],w_sol[:,0] # for only one target case"
   ]
  },
  {
   "cell_type": "code",
   "execution_count": 3,
   "metadata": {},
   "outputs": [
    {
     "name": "stdout",
     "output_type": "stream",
     "text": [
      "(200, 100)\n",
      "(100,)\n",
      "h0: 0.2343337632688065\n"
     ]
    }
   ],
   "source": [
    "n_seq = 200\n",
    "n_var = 100\n",
    "\n",
    "# generage x,w,h0\n",
    "x = np.random.rand(n_seq,n_var)-0.5\n",
    "print(x.shape)\n",
    "\n",
    "w = np.random.rand(n_var) - 0.5\n",
    "print(w.shape)\n",
    "\n",
    "# sparse\n",
    "w[10:20] = 0.0001\n",
    "w[50:70] = 0.00002\n",
    "w[80:100] = 0.0\n",
    "\n",
    "h0 = np.random.rand() - 0.5\n",
    "print('h0:',h0)\n",
    "\n",
    "# h = h0 + w*x\n",
    "h = h0 + x.dot(w)"
   ]
  },
  {
   "cell_type": "code",
   "execution_count": 4,
   "metadata": {},
   "outputs": [],
   "source": [
    "h0_pred,w_pred = infer_LAD(x, h[:,np.newaxis],regu=0.0)"
   ]
  },
  {
   "cell_type": "code",
   "execution_count": 5,
   "metadata": {},
   "outputs": [
    {
     "data": {
      "text/plain": [
       "[<matplotlib.lines.Line2D at 0x7f352f3ea780>]"
      ]
     },
     "execution_count": 5,
     "metadata": {},
     "output_type": "execute_result"
    },
    {
     "data": {
      "image/png": "[encoded data removed]",
      "text/plain": [
       "<Figure size 432x288 with 1 Axes>"
      ]
     },
     "metadata": {
      "needs_background": "light"
     },
     "output_type": "display_data"
    }
   ],
   "source": [
    "plt.plot([-1,1],[-1,1],'r--')\n",
    "plt.plot(w,w_pred,'ko')"
   ]
  },
  {
   "cell_type": "code",
   "execution_count": 6,
   "metadata": {},
   "outputs": [
    {
     "name": "stdout",
     "output_type": "stream",
     "text": [
      "h0_pred: 0.2343337632688064\n"
     ]
    }
   ],
   "source": [
    "print('h0_pred:',h0_pred)"
   ]
  },
  {
   "cell_type": "code",
   "execution_count": 7,
   "metadata": {},
   "outputs": [
    {
     "data": {
      "text/plain": [
       "[<matplotlib.lines.Line2D at 0x7f35263585f8>]"
      ]
     },
     "execution_count": 7,
     "metadata": {},
     "output_type": "execute_result"
    },
    {
     "data": {
      "image/png": "[encoded data removed]",
      "text/plain": [
       "<Figure size 432x288 with 1 Axes>"
      ]
     },
     "metadata": {
      "needs_background": "light"
     },
     "output_type": "display_data"
    }
   ],
   "source": [
    "h0_pred,w_pred = infer_LAD(x, h[:,np.newaxis],regu=0.02)\n",
    "plt.plot([-1,1],[-1,1],'r--')\n",
    "plt.plot(w,w_pred,'ko')"
   ]
  },
  {
   "cell_type": "code",
   "execution_count": 8,
   "metadata": {},
   "outputs": [
    {
     "data": {
      "text/plain": [
       "[<matplotlib.lines.Line2D at 0x7f3526362ac8>]"
      ]
     },
     "execution_count": 8,
     "metadata": {},
     "output_type": "execute_result"
    },
    {
     "data": {
      "image/png": "[encoded data removed]",
      "text/plain": [
       "<Figure size 432x288 with 1 Axes>"
      ]
     },
     "metadata": {
      "needs_background": "light"
     },
     "output_type": "display_data"
    }
   ],
   "source": [
    "h0_pred,w_pred = infer_LAD(x, h[:,np.newaxis],regu=0.01)\n",
    "plt.plot([-1,1],[-1,1],'r--')\n",
    "plt.plot(w,w_pred,'ko')"
   ]
  },
  {
   "cell_type": "code",
   "execution_count": null,
   "metadata": {},
   "outputs": [],
   "source": []
  }
 ],
 "metadata": {
  "kernelspec": {
   "display_name": "Python 3",
   "language": "python",
   "name": "python3"
  },
  "language_info": {
   "codemirror_mode": {
    "name": "ipython",
    "version": 3
   },
   "file_extension": ".py",
   "mimetype": "text/x-python",
   "name": "python",
   "nbconvert_exporter": "python",
   "pygments_lexer": "ipython3",
   "version": "3.7.3"
  }
 },
 "nbformat": 4,
 "nbformat_minor": 2
}
