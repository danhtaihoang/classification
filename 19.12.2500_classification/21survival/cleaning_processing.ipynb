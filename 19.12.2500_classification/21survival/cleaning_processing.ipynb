{
 "cells": [
  {
   "cell_type": "code",
   "execution_count": 1,
   "metadata": {},
   "outputs": [],
   "source": [
    "import numpy as np\n",
    "import pandas as pd\n",
    "from sklearn.preprocessing import OneHotEncoder"
   ]
  },
  {
   "cell_type": "code",
   "execution_count": 2,
   "metadata": {},
   "outputs": [],
   "source": [
    "np.random.seed(1)"
   ]
  },
  {
   "cell_type": "code",
   "execution_count": 3,
   "metadata": {
    "scrolled": true
   },
   "outputs": [
    {
     "data": {
      "text/html": [
       "<div>\n",
       "<style scoped>\n",
       "    .dataframe tbody tr th:only-of-type {\n",
       "        vertical-align: middle;\n",
       "    }\n",
       "\n",
       "    .dataframe tbody tr th {\n",
       "        vertical-align: top;\n",
       "    }\n",
       "\n",
       "    .dataframe thead th {\n",
       "        text-align: right;\n",
       "    }\n",
       "</style>\n",
       "<table border=\"1\" class=\"dataframe\">\n",
       "  <thead>\n",
       "    <tr style=\"text-align: right;\">\n",
       "      <th></th>\n",
       "      <th>studyid</th>\n",
       "      <th>site</th>\n",
       "      <th>gender</th>\n",
       "      <th>age</th>\n",
       "      <th>agecat</th>\n",
       "      <th>race_ethnicity</th>\n",
       "      <th>maritalstatus</th>\n",
       "      <th>education</th>\n",
       "      <th>lowhealthliteracy</th>\n",
       "      <th>employment status</th>\n",
       "      <th>...</th>\n",
       "      <th>Unnamed: 246</th>\n",
       "      <th>Unnamed: 247</th>\n",
       "      <th>Unnamed: 248</th>\n",
       "      <th>Unnamed: 249</th>\n",
       "      <th>Unnamed: 250</th>\n",
       "      <th>Unnamed: 251</th>\n",
       "      <th>Unnamed: 252</th>\n",
       "      <th>Unnamed: 253</th>\n",
       "      <th>Unnamed: 254</th>\n",
       "      <th>Unnamed: 255</th>\n",
       "    </tr>\n",
       "  </thead>\n",
       "  <tbody>\n",
       "    <tr>\n",
       "      <th>0</th>\n",
       "      <td>10000</td>\n",
       "      <td>Massachusetts</td>\n",
       "      <td>Male</td>\n",
       "      <td>60</td>\n",
       "      <td>&gt;=55-&lt;65</td>\n",
       "      <td>NHW</td>\n",
       "      <td>Married</td>\n",
       "      <td>College Graduate</td>\n",
       "      <td>No</td>\n",
       "      <td>Employed</td>\n",
       "      <td>...</td>\n",
       "      <td>NaN</td>\n",
       "      <td>NaN</td>\n",
       "      <td>NaN</td>\n",
       "      <td>NaN</td>\n",
       "      <td>NaN</td>\n",
       "      <td>NaN</td>\n",
       "      <td>NaN</td>\n",
       "      <td>NaN</td>\n",
       "      <td>NaN</td>\n",
       "      <td>NaN</td>\n",
       "    </tr>\n",
       "    <tr>\n",
       "      <th>1</th>\n",
       "      <td>10007</td>\n",
       "      <td>Massachusetts</td>\n",
       "      <td>Male</td>\n",
       "      <td>61</td>\n",
       "      <td>&gt;=55-&lt;65</td>\n",
       "      <td>NHW</td>\n",
       "      <td>Married</td>\n",
       "      <td>Some college</td>\n",
       "      <td>Yes</td>\n",
       "      <td>Unemployed/retired</td>\n",
       "      <td>...</td>\n",
       "      <td>NaN</td>\n",
       "      <td>NaN</td>\n",
       "      <td>NaN</td>\n",
       "      <td>NaN</td>\n",
       "      <td>NaN</td>\n",
       "      <td>NaN</td>\n",
       "      <td>NaN</td>\n",
       "      <td>NaN</td>\n",
       "      <td>NaN</td>\n",
       "      <td>NaN</td>\n",
       "    </tr>\n",
       "    <tr>\n",
       "      <th>2</th>\n",
       "      <td>10012</td>\n",
       "      <td>Massachusetts</td>\n",
       "      <td>Male</td>\n",
       "      <td>56</td>\n",
       "      <td>&gt;=55-&lt;65</td>\n",
       "      <td>NHW</td>\n",
       "      <td>Not Married</td>\n",
       "      <td>High School or less</td>\n",
       "      <td>Yes</td>\n",
       "      <td>Unemployed/retired</td>\n",
       "      <td>...</td>\n",
       "      <td>NaN</td>\n",
       "      <td>NaN</td>\n",
       "      <td>NaN</td>\n",
       "      <td>NaN</td>\n",
       "      <td>NaN</td>\n",
       "      <td>NaN</td>\n",
       "      <td>NaN</td>\n",
       "      <td>NaN</td>\n",
       "      <td>NaN</td>\n",
       "      <td>NaN</td>\n",
       "    </tr>\n",
       "    <tr>\n",
       "      <th>3</th>\n",
       "      <td>10013</td>\n",
       "      <td>Massachusetts</td>\n",
       "      <td>Male</td>\n",
       "      <td>48</td>\n",
       "      <td>&lt;55</td>\n",
       "      <td>NHW</td>\n",
       "      <td>Not Married</td>\n",
       "      <td>High School or less</td>\n",
       "      <td>No</td>\n",
       "      <td>Employed</td>\n",
       "      <td>...</td>\n",
       "      <td>NaN</td>\n",
       "      <td>NaN</td>\n",
       "      <td>NaN</td>\n",
       "      <td>NaN</td>\n",
       "      <td>NaN</td>\n",
       "      <td>NaN</td>\n",
       "      <td>NaN</td>\n",
       "      <td>NaN</td>\n",
       "      <td>NaN</td>\n",
       "      <td>NaN</td>\n",
       "    </tr>\n",
       "    <tr>\n",
       "      <th>4</th>\n",
       "      <td>10020</td>\n",
       "      <td>Massachusetts</td>\n",
       "      <td>Male</td>\n",
       "      <td>49</td>\n",
       "      <td>&lt;55</td>\n",
       "      <td>NHW</td>\n",
       "      <td>Not Married</td>\n",
       "      <td>High School or less</td>\n",
       "      <td>No</td>\n",
       "      <td>Unemployed/retired</td>\n",
       "      <td>...</td>\n",
       "      <td>NaN</td>\n",
       "      <td>NaN</td>\n",
       "      <td>NaN</td>\n",
       "      <td>NaN</td>\n",
       "      <td>NaN</td>\n",
       "      <td>NaN</td>\n",
       "      <td>NaN</td>\n",
       "      <td>NaN</td>\n",
       "      <td>NaN</td>\n",
       "      <td>NaN</td>\n",
       "    </tr>\n",
       "  </tbody>\n",
       "</table>\n",
       "<p>5 rows × 256 columns</p>\n",
       "</div>"
      ],
      "text/plain": [
       "   studyid           site gender  age    agecat race_ethnicity maritalstatus  \\\n",
       "0    10000  Massachusetts   Male   60  >=55-<65            NHW       Married   \n",
       "1    10007  Massachusetts   Male   61  >=55-<65            NHW       Married   \n",
       "2    10012  Massachusetts   Male   56  >=55-<65            NHW   Not Married   \n",
       "3    10013  Massachusetts   Male   48       <55            NHW   Not Married   \n",
       "4    10020  Massachusetts   Male   49       <55            NHW   Not Married   \n",
       "\n",
       "             education lowhealthliteracy  employment status   ...  \\\n",
       "0     College Graduate                No            Employed  ...   \n",
       "1         Some college               Yes  Unemployed/retired  ...   \n",
       "2  High School or less               Yes  Unemployed/retired  ...   \n",
       "3  High School or less                No            Employed  ...   \n",
       "4  High School or less                No  Unemployed/retired  ...   \n",
       "\n",
       "  Unnamed: 246 Unnamed: 247 Unnamed: 248 Unnamed: 249 Unnamed: 250  \\\n",
       "0          NaN          NaN          NaN          NaN          NaN   \n",
       "1          NaN          NaN          NaN          NaN          NaN   \n",
       "2          NaN          NaN          NaN          NaN          NaN   \n",
       "3          NaN          NaN          NaN          NaN          NaN   \n",
       "4          NaN          NaN          NaN          NaN          NaN   \n",
       "\n",
       "   Unnamed: 251 Unnamed: 252 Unnamed: 253 Unnamed: 254 Unnamed: 255  \n",
       "0           NaN          NaN          NaN          NaN          NaN  \n",
       "1           NaN          NaN          NaN          NaN          NaN  \n",
       "2           NaN          NaN          NaN          NaN          NaN  \n",
       "3           NaN          NaN          NaN          NaN          NaN  \n",
       "4           NaN          NaN          NaN          NaN          NaN  \n",
       "\n",
       "[5 rows x 256 columns]"
      ]
     },
     "execution_count": 3,
     "metadata": {},
     "output_type": "execute_result"
    }
   ],
   "source": [
    "df = pd.read_csv('survival.csv',sep= ',')\n",
    "df.head()"
   ]
  },
  {
   "cell_type": "code",
   "execution_count": 4,
   "metadata": {
    "scrolled": true
   },
   "outputs": [
    {
     "name": "stdout",
     "output_type": "stream",
     "text": [
      "<class 'pandas.core.frame.DataFrame'>\n",
      "RangeIndex: 2068 entries, 0 to 2067\n",
      "Columns: 256 entries, studyid to Unnamed: 255\n",
      "dtypes: float64(206), int64(4), object(46)\n",
      "memory usage: 4.0+ MB\n"
     ]
    }
   ],
   "source": [
    "df.info()"
   ]
  },
  {
   "cell_type": "markdown",
   "metadata": {},
   "source": [
    "## Data Cleaning"
   ]
  },
  {
   "cell_type": "code",
   "execution_count": 5,
   "metadata": {},
   "outputs": [],
   "source": [
    "target = 'died_2_year'"
   ]
  },
  {
   "cell_type": "markdown",
   "metadata": {},
   "source": [
    "### Replace empty or errors by np.nan"
   ]
  },
  {
   "cell_type": "code",
   "execution_count": 6,
   "metadata": {},
   "outputs": [],
   "source": [
    "# replace empty/erros by np.nan\n",
    "df = df.replace(r'^\\s+$', np.nan, regex=True)\n",
    "df = df.replace('\\t','',regex=True)\n",
    "df = df.replace(' ','',regex=True)\n",
    "df = df.replace('\\?',np.nan,regex=True)\n",
    "df = df.replace('\\<',np.nan,regex=True)\n",
    "df = df.replace('nan',np.nan,regex=True)\n",
    "\n",
    "#df"
   ]
  },
  {
   "cell_type": "markdown",
   "metadata": {},
   "source": [
    "### Remove outliers"
   ]
  },
  {
   "cell_type": "code",
   "execution_count": 7,
   "metadata": {},
   "outputs": [
    {
     "data": {
      "text/html": [
       "<div>\n",
       "<style scoped>\n",
       "    .dataframe tbody tr th:only-of-type {\n",
       "        vertical-align: middle;\n",
       "    }\n",
       "\n",
       "    .dataframe tbody tr th {\n",
       "        vertical-align: top;\n",
       "    }\n",
       "\n",
       "    .dataframe thead th {\n",
       "        text-align: right;\n",
       "    }\n",
       "</style>\n",
       "<table border=\"1\" class=\"dataframe\">\n",
       "  <thead>\n",
       "    <tr style=\"text-align: right;\">\n",
       "      <th></th>\n",
       "      <th>site</th>\n",
       "      <th>gender</th>\n",
       "      <th>age</th>\n",
       "      <th>race_ethnicity</th>\n",
       "      <th>maritalstatus</th>\n",
       "      <th>education</th>\n",
       "      <th>lowhealthliteracy</th>\n",
       "      <th>employment status</th>\n",
       "      <th>healthinsurance</th>\n",
       "      <th>strength_comfort_religion</th>\n",
       "      <th>...</th>\n",
       "      <th>Unnamed: 246</th>\n",
       "      <th>Unnamed: 247</th>\n",
       "      <th>Unnamed: 248</th>\n",
       "      <th>Unnamed: 249</th>\n",
       "      <th>Unnamed: 250</th>\n",
       "      <th>Unnamed: 251</th>\n",
       "      <th>Unnamed: 252</th>\n",
       "      <th>Unnamed: 253</th>\n",
       "      <th>Unnamed: 254</th>\n",
       "      <th>Unnamed: 255</th>\n",
       "    </tr>\n",
       "  </thead>\n",
       "  <tbody>\n",
       "    <tr>\n",
       "      <th>0</th>\n",
       "      <td>Massachusetts</td>\n",
       "      <td>Male</td>\n",
       "      <td>60</td>\n",
       "      <td>NHW</td>\n",
       "      <td>Married</td>\n",
       "      <td>CollegeGraduate</td>\n",
       "      <td>No</td>\n",
       "      <td>Employed</td>\n",
       "      <td>No</td>\n",
       "      <td>None</td>\n",
       "      <td>...</td>\n",
       "      <td>NaN</td>\n",
       "      <td>NaN</td>\n",
       "      <td>NaN</td>\n",
       "      <td>NaN</td>\n",
       "      <td>NaN</td>\n",
       "      <td>NaN</td>\n",
       "      <td>NaN</td>\n",
       "      <td>NaN</td>\n",
       "      <td>NaN</td>\n",
       "      <td>NaN</td>\n",
       "    </tr>\n",
       "    <tr>\n",
       "      <th>1</th>\n",
       "      <td>Massachusetts</td>\n",
       "      <td>Male</td>\n",
       "      <td>61</td>\n",
       "      <td>NHW</td>\n",
       "      <td>Married</td>\n",
       "      <td>Somecollege</td>\n",
       "      <td>Yes</td>\n",
       "      <td>Unemployed/retired</td>\n",
       "      <td>No</td>\n",
       "      <td>Little/Some</td>\n",
       "      <td>...</td>\n",
       "      <td>NaN</td>\n",
       "      <td>NaN</td>\n",
       "      <td>NaN</td>\n",
       "      <td>NaN</td>\n",
       "      <td>NaN</td>\n",
       "      <td>NaN</td>\n",
       "      <td>NaN</td>\n",
       "      <td>NaN</td>\n",
       "      <td>NaN</td>\n",
       "      <td>NaN</td>\n",
       "    </tr>\n",
       "    <tr>\n",
       "      <th>2</th>\n",
       "      <td>Massachusetts</td>\n",
       "      <td>Male</td>\n",
       "      <td>56</td>\n",
       "      <td>NHW</td>\n",
       "      <td>NotMarried</td>\n",
       "      <td>HighSchoolorless</td>\n",
       "      <td>Yes</td>\n",
       "      <td>Unemployed/retired</td>\n",
       "      <td>Yes</td>\n",
       "      <td>Greatdeal</td>\n",
       "      <td>...</td>\n",
       "      <td>NaN</td>\n",
       "      <td>NaN</td>\n",
       "      <td>NaN</td>\n",
       "      <td>NaN</td>\n",
       "      <td>NaN</td>\n",
       "      <td>NaN</td>\n",
       "      <td>NaN</td>\n",
       "      <td>NaN</td>\n",
       "      <td>NaN</td>\n",
       "      <td>NaN</td>\n",
       "    </tr>\n",
       "    <tr>\n",
       "      <th>3</th>\n",
       "      <td>Massachusetts</td>\n",
       "      <td>Male</td>\n",
       "      <td>48</td>\n",
       "      <td>NHW</td>\n",
       "      <td>NotMarried</td>\n",
       "      <td>HighSchoolorless</td>\n",
       "      <td>No</td>\n",
       "      <td>Employed</td>\n",
       "      <td>No</td>\n",
       "      <td>Little/Some</td>\n",
       "      <td>...</td>\n",
       "      <td>NaN</td>\n",
       "      <td>NaN</td>\n",
       "      <td>NaN</td>\n",
       "      <td>NaN</td>\n",
       "      <td>NaN</td>\n",
       "      <td>NaN</td>\n",
       "      <td>NaN</td>\n",
       "      <td>NaN</td>\n",
       "      <td>NaN</td>\n",
       "      <td>NaN</td>\n",
       "    </tr>\n",
       "    <tr>\n",
       "      <th>4</th>\n",
       "      <td>Massachusetts</td>\n",
       "      <td>Male</td>\n",
       "      <td>49</td>\n",
       "      <td>NHW</td>\n",
       "      <td>NotMarried</td>\n",
       "      <td>HighSchoolorless</td>\n",
       "      <td>No</td>\n",
       "      <td>Unemployed/retired</td>\n",
       "      <td>No</td>\n",
       "      <td>Little/Some</td>\n",
       "      <td>...</td>\n",
       "      <td>NaN</td>\n",
       "      <td>NaN</td>\n",
       "      <td>NaN</td>\n",
       "      <td>NaN</td>\n",
       "      <td>NaN</td>\n",
       "      <td>NaN</td>\n",
       "      <td>NaN</td>\n",
       "      <td>NaN</td>\n",
       "      <td>NaN</td>\n",
       "      <td>NaN</td>\n",
       "    </tr>\n",
       "  </tbody>\n",
       "</table>\n",
       "<p>5 rows × 254 columns</p>\n",
       "</div>"
      ],
      "text/plain": [
       "            site gender  age race_ethnicity maritalstatus         education  \\\n",
       "0  Massachusetts   Male   60            NHW       Married   CollegeGraduate   \n",
       "1  Massachusetts   Male   61            NHW       Married       Somecollege   \n",
       "2  Massachusetts   Male   56            NHW    NotMarried  HighSchoolorless   \n",
       "3  Massachusetts   Male   48            NHW    NotMarried  HighSchoolorless   \n",
       "4  Massachusetts   Male   49            NHW    NotMarried  HighSchoolorless   \n",
       "\n",
       "  lowhealthliteracy  employment status  healthinsurance  \\\n",
       "0                No            Employed              No   \n",
       "1               Yes  Unemployed/retired              No   \n",
       "2               Yes  Unemployed/retired             Yes   \n",
       "3                No            Employed              No   \n",
       "4                No  Unemployed/retired              No   \n",
       "\n",
       "  strength_comfort_religion  ... Unnamed: 246 Unnamed: 247 Unnamed: 248  \\\n",
       "0                      None  ...          NaN          NaN          NaN   \n",
       "1               Little/Some  ...          NaN          NaN          NaN   \n",
       "2                 Greatdeal  ...          NaN          NaN          NaN   \n",
       "3               Little/Some  ...          NaN          NaN          NaN   \n",
       "4               Little/Some  ...          NaN          NaN          NaN   \n",
       "\n",
       "   Unnamed: 249 Unnamed: 250 Unnamed: 251 Unnamed: 252 Unnamed: 253  \\\n",
       "0           NaN          NaN          NaN          NaN          NaN   \n",
       "1           NaN          NaN          NaN          NaN          NaN   \n",
       "2           NaN          NaN          NaN          NaN          NaN   \n",
       "3           NaN          NaN          NaN          NaN          NaN   \n",
       "4           NaN          NaN          NaN          NaN          NaN   \n",
       "\n",
       "  Unnamed: 254  Unnamed: 255  \n",
       "0          NaN           NaN  \n",
       "1          NaN           NaN  \n",
       "2          NaN           NaN  \n",
       "3          NaN           NaN  \n",
       "4          NaN           NaN  \n",
       "\n",
       "[5 rows x 254 columns]"
      ]
     },
     "execution_count": 7,
     "metadata": {},
     "output_type": "execute_result"
    }
   ],
   "source": [
    "# Drop the column outliers as it is unrelated to the dependent variable\n",
    "outliers = ['studyid','agecat']\n",
    "df = df.drop(outliers,axis=1)\n",
    "df.head()"
   ]
  },
  {
   "cell_type": "markdown",
   "metadata": {},
   "source": [
    "### Remove bad columns"
   ]
  },
  {
   "cell_type": "code",
   "execution_count": 8,
   "metadata": {},
   "outputs": [],
   "source": [
    "def remove_bad_columns(df,bad_column_threshold):\n",
    "    # find bad columns having too many missing values\n",
    "    n_null = np.array(df.isnull().sum(axis=0))\n",
    "    bad_col = np.array([]).astype(int)\n",
    "    for i in range(len(n_null)):\n",
    "        if n_null[i] >= bad_column_threshold:\n",
    "            bad_col = np.append(bad_col,i)\n",
    "\n",
    "    #print(bad_col)\n",
    "    print('number of bad columns:',len(bad_col))\n",
    "\n",
    "    # delete bad columns\n",
    "    df = df.drop(df.columns[bad_col],axis=1)\n",
    "    #df.info()\n",
    "    return df  "
   ]
  },
  {
   "cell_type": "code",
   "execution_count": 9,
   "metadata": {},
   "outputs": [
    {
     "name": "stdout",
     "output_type": "stream",
     "text": [
      "number of bad columns: 194\n",
      "<class 'pandas.core.frame.DataFrame'>\n",
      "RangeIndex: 2068 entries, 0 to 2067\n",
      "Data columns (total 60 columns):\n",
      "site                                2068 non-null object\n",
      "gender                              2053 non-null object\n",
      "age                                 2068 non-null int64\n",
      "race_ethnicity                      2059 non-null object\n",
      "maritalstatus                       2068 non-null object\n",
      "education                           2067 non-null object\n",
      "lowhealthliteracy                   2068 non-null object\n",
      "employment status                   2068 non-null object\n",
      "healthinsurance                     2068 non-null object\n",
      "strength_comfort_religion           2068 non-null object\n",
      "petition_prayer_health              2068 non-null object\n",
      "intercessory_prayers_health         2068 non-null object\n",
      "died_2_year                         2068 non-null object\n",
      "survival_time                       2068 non-null int64\n",
      "depression                          2025 non-null object\n",
      "anxiety                             2040 non-null object\n",
      "stress                              2032 non-null object\n",
      "lowsocialsupport                    2049 non-null object\n",
      "cognition                           2068 non-null object\n",
      "patientactivationscore              2067 non-null float64\n",
      "SF-36_PCS                           2068 non-null float64\n",
      "SF-36_MCS                           2068 non-null float64\n",
      "SAQL                                2066 non-null float64\n",
      "alcoholuse                          2065 non-null object\n",
      "smokingstatus                       2068 non-null object\n",
      "diet8_score_0                       2068 non-null float64\n",
      "Total_physicalactivity_min_wk       2068 non-null int64\n",
      "heartrate                           2054 non-null float64\n",
      "diastolicbp                         2052 non-null float64\n",
      "systolicbp                          2056 non-null float64\n",
      "serumglucose                        1987 non-null float64\n",
      "serumpotassium                      2018 non-null float64\n",
      "serumcreatinine                     2020 non-null float64\n",
      "WBC                                 2017 non-null float64\n",
      "grace_risk                          2029 non-null float64\n",
      "hypertension                        2068 non-null object\n",
      "stroke                              2068 non-null object\n",
      "congestive_heart_failure            2068 non-null object\n",
      "chronic_kidney_disease              2068 non-null object\n",
      "diabetes_type2                      2068 non-null object\n",
      "anemia                              2068 non-null object\n",
      "arthritis                           2068 non-null object\n",
      "cancer                              2068 non-null object\n",
      "chronic_lung_disease                2068 non-null object\n",
      "acsclass                            2068 non-null object\n",
      "reperfusiontherapy                  2068 non-null object\n",
      "ACE_ARB                             2068 non-null object\n",
      "anticoagulants                      2068 non-null object\n",
      "aspirin                             2068 non-null object\n",
      "nsaid_hosp                          2068 non-null object\n",
      "lipidlowering_hosp                  2068 non-null object\n",
      "antidepressant_hosp                 2068 non-null object\n",
      "antidiabetic_hosp                   2068 non-null object\n",
      "betablocker                         2068 non-null object\n",
      "P2Y12                               2068 non-null object\n",
      "atrialfib_complication              2068 non-null object\n",
      "vtachvfib_complication              2068 non-null object\n",
      "Acute_Kidney_Injury_complication    2068 non-null object\n",
      "bleeding_complication               2068 non-null object\n",
      "cardiac_rehab                       2022 non-null object\n",
      "dtypes: float64(13), int64(3), object(44)\n",
      "memory usage: 969.5+ KB\n"
     ]
    }
   ],
   "source": [
    "df = remove_bad_columns(df,300)\n",
    "df.info()"
   ]
  },
  {
   "cell_type": "markdown",
   "metadata": {},
   "source": [
    "### Remove bad rows"
   ]
  },
  {
   "cell_type": "code",
   "execution_count": 10,
   "metadata": {},
   "outputs": [],
   "source": [
    " # Find rows where target is missing\n",
    "def find_missing_target_rows(df,target):\n",
    "    # find rows where target is missing\n",
    "    missing_row = df[target].isnull()\n",
    "    print('Number of rows where target are missing:')\n",
    "    print(sum(missing_row))\n",
    "\n",
    "    #df = df[~missing_row]\n",
    "    missing_row_indices = np.array([t for t in range(df.shape[0]) if missing_row[t]])\n",
    "    \n",
    "    return missing_row_indices"
   ]
  },
  {
   "cell_type": "code",
   "execution_count": 11,
   "metadata": {},
   "outputs": [
    {
     "name": "stdout",
     "output_type": "stream",
     "text": [
      "Number of rows where target are missing:\n",
      "0\n"
     ]
    }
   ],
   "source": [
    "missing_target_rows = find_missing_target_rows(df,target)"
   ]
  },
  {
   "cell_type": "markdown",
   "metadata": {},
   "source": [
    "We find bad rows which contain too many missing values, then remove them."
   ]
  },
  {
   "cell_type": "code",
   "execution_count": 12,
   "metadata": {},
   "outputs": [],
   "source": [
    "def find_bad_rows(df,bad_row_threshold):   \n",
    "    # find bad rows having too many missing values\n",
    "    n_null = np.array(df.isnull().sum(axis=1))\n",
    "    bad_row = np.array([]).astype(int)\n",
    "    for t in range(len(n_null)):\n",
    "        if n_null[t] >= bad_row_threshold:\n",
    "            bad_row = np.append(bad_row,t)\n",
    "\n",
    "    #print(bad_row)\n",
    "    print('number of bad rows:',len(bad_row))\n",
    "\n",
    "    # delete bad rows\n",
    "    #df = df.drop(bad_row)\n",
    "    #df.info()\n",
    "    return bad_row"
   ]
  },
  {
   "cell_type": "code",
   "execution_count": 13,
   "metadata": {
    "scrolled": true
   },
   "outputs": [
    {
     "name": "stdout",
     "output_type": "stream",
     "text": [
      "number of bad rows: 0\n",
      "<class 'pandas.core.frame.DataFrame'>\n",
      "RangeIndex: 2068 entries, 0 to 2067\n",
      "Data columns (total 60 columns):\n",
      "site                                2068 non-null object\n",
      "gender                              2053 non-null object\n",
      "age                                 2068 non-null int64\n",
      "race_ethnicity                      2059 non-null object\n",
      "maritalstatus                       2068 non-null object\n",
      "education                           2067 non-null object\n",
      "lowhealthliteracy                   2068 non-null object\n",
      "employment status                   2068 non-null object\n",
      "healthinsurance                     2068 non-null object\n",
      "strength_comfort_religion           2068 non-null object\n",
      "petition_prayer_health              2068 non-null object\n",
      "intercessory_prayers_health         2068 non-null object\n",
      "died_2_year                         2068 non-null object\n",
      "survival_time                       2068 non-null int64\n",
      "depression                          2025 non-null object\n",
      "anxiety                             2040 non-null object\n",
      "stress                              2032 non-null object\n",
      "lowsocialsupport                    2049 non-null object\n",
      "cognition                           2068 non-null object\n",
      "patientactivationscore              2067 non-null float64\n",
      "SF-36_PCS                           2068 non-null float64\n",
      "SF-36_MCS                           2068 non-null float64\n",
      "SAQL                                2066 non-null float64\n",
      "alcoholuse                          2065 non-null object\n",
      "smokingstatus                       2068 non-null object\n",
      "diet8_score_0                       2068 non-null float64\n",
      "Total_physicalactivity_min_wk       2068 non-null int64\n",
      "heartrate                           2054 non-null float64\n",
      "diastolicbp                         2052 non-null float64\n",
      "systolicbp                          2056 non-null float64\n",
      "serumglucose                        1987 non-null float64\n",
      "serumpotassium                      2018 non-null float64\n",
      "serumcreatinine                     2020 non-null float64\n",
      "WBC                                 2017 non-null float64\n",
      "grace_risk                          2029 non-null float64\n",
      "hypertension                        2068 non-null object\n",
      "stroke                              2068 non-null object\n",
      "congestive_heart_failure            2068 non-null object\n",
      "chronic_kidney_disease              2068 non-null object\n",
      "diabetes_type2                      2068 non-null object\n",
      "anemia                              2068 non-null object\n",
      "arthritis                           2068 non-null object\n",
      "cancer                              2068 non-null object\n",
      "chronic_lung_disease                2068 non-null object\n",
      "acsclass                            2068 non-null object\n",
      "reperfusiontherapy                  2068 non-null object\n",
      "ACE_ARB                             2068 non-null object\n",
      "anticoagulants                      2068 non-null object\n",
      "aspirin                             2068 non-null object\n",
      "nsaid_hosp                          2068 non-null object\n",
      "lipidlowering_hosp                  2068 non-null object\n",
      "antidepressant_hosp                 2068 non-null object\n",
      "antidiabetic_hosp                   2068 non-null object\n",
      "betablocker                         2068 non-null object\n",
      "P2Y12                               2068 non-null object\n",
      "atrialfib_complication              2068 non-null object\n",
      "vtachvfib_complication              2068 non-null object\n",
      "Acute_Kidney_Injury_complication    2068 non-null object\n",
      "bleeding_complication               2068 non-null object\n",
      "cardiac_rehab                       2022 non-null object\n",
      "dtypes: float64(13), int64(3), object(44)\n",
      "memory usage: 969.5+ KB\n"
     ]
    }
   ],
   "source": [
    "bad_rows = find_bad_rows(df,15)\n",
    "df.info()"
   ]
  },
  {
   "cell_type": "code",
   "execution_count": 14,
   "metadata": {},
   "outputs": [
    {
     "name": "stdout",
     "output_type": "stream",
     "text": [
      "number of rows need to delete: 0\n"
     ]
    }
   ],
   "source": [
    "del_rows = np.union1d(missing_target_rows,bad_rows)\n",
    "print('number of rows need to delete:',len(del_rows))\n",
    "\n",
    "df = df.drop(del_rows)"
   ]
  },
  {
   "cell_type": "markdown",
   "metadata": {},
   "source": [
    "### Separate target and attributes"
   ]
  },
  {
   "cell_type": "code",
   "execution_count": 15,
   "metadata": {},
   "outputs": [],
   "source": [
    "dfx = df.drop(target,axis=1)\n",
    "dfy = df[target]"
   ]
  },
  {
   "cell_type": "markdown",
   "metadata": {},
   "source": [
    "### Find variable type"
   ]
  },
  {
   "cell_type": "code",
   "execution_count": 16,
   "metadata": {
    "scrolled": false
   },
   "outputs": [
    {
     "name": "stdout",
     "output_type": "stream",
     "text": [
      "number of uniques of each variable:\n",
      "[   2    2   65    3    2    3    2    2    2    3    2    2  726    5\n",
      "    4    2    2    2   16 2065 2065   17    3    3   26  255  116  106\n",
      "  155  308   42  246  186 1303    2    2    2    2    2    2    2    2\n",
      "    2    3    3    2    2    2    2    2    2    2    2    2    2    2\n",
      "    2    2    2]\n"
     ]
    }
   ],
   "source": [
    "# number of uniques of each column (excluding NaN)\n",
    "nu = np.array([len(pd.unique(dfx[col].dropna())) for col in dfx.columns])\n",
    "print('number of uniques of each variable:')\n",
    "print(nu)"
   ]
  },
  {
   "cell_type": "code",
   "execution_count": 17,
   "metadata": {
    "scrolled": true
   },
   "outputs": [],
   "source": [
    "def define_variable_type(df,nu):\n",
    "    i_binary = [] ; i_category = [] ; i_continuous = []\n",
    "    for i in range(len(nu)):\n",
    "        if nu[i] == 2: # binary \n",
    "            i_binary.append(i)\n",
    "        elif nu[i] < 6: # < 5: # !!!! NOTE: this is not always correct, depending on data\n",
    "            i_category.append(i)\n",
    "        else:\n",
    "            i_continuous.append(i)\n",
    "\n",
    "    print('i_binary:',i_binary)\n",
    "    print('i_category:',i_category)   \n",
    "    #i_binary, i_category, i_continuous\n",
    "    \n",
    "    variable_type  = np.ones(len(nu))  # binary\n",
    "    variable_type[i_category] = 2   # categorical\n",
    "    variable_type[i_continuous] = 3 # continuous\n",
    "\n",
    "    return variable_type #,i_binary,i_category,i_continuous"
   ]
  },
  {
   "cell_type": "code",
   "execution_count": 18,
   "metadata": {
    "scrolled": true
   },
   "outputs": [
    {
     "name": "stdout",
     "output_type": "stream",
     "text": [
      "i_binary: [0, 1, 4, 6, 7, 8, 10, 11, 15, 16, 17, 34, 35, 36, 37, 38, 39, 40, 41, 42, 45, 46, 47, 48, 49, 50, 51, 52, 53, 54, 55, 56, 57, 58]\n",
      "i_category: [3, 5, 9, 13, 14, 22, 23, 43, 44]\n",
      "variable type: [1. 1. 3. 2. 1. 2. 1. 1. 1. 2. 1. 1. 3. 2. 2. 1. 1. 1. 3. 3. 3. 3. 2. 2.\n",
      " 3. 3. 3. 3. 3. 3. 3. 3. 3. 3. 1. 1. 1. 1. 1. 1. 1. 1. 1. 2. 2. 1. 1. 1.\n",
      " 1. 1. 1. 1. 1. 1. 1. 1. 1. 1. 1.]\n"
     ]
    }
   ],
   "source": [
    "variable_type = define_variable_type(dfx,nu)\n",
    "print('variable type:',variable_type)"
   ]
  },
  {
   "cell_type": "markdown",
   "metadata": {},
   "source": [
    "### Impute missing values of attributes"
   ]
  },
  {
   "cell_type": "code",
   "execution_count": 19,
   "metadata": {},
   "outputs": [],
   "source": [
    "def impute_missing(df,variable_type):\n",
    "    # impute binary and categorical variables by the most frequency (in each column)\n",
    "    # continuous variable by median\n",
    "    # input: df: pandas data frame, variable_type: list\n",
    "    # output: df2: pandas data frame\n",
    "    df2 = df.copy()\n",
    "    for i,col in enumerate(df.columns):\n",
    "        if variable_type[i] < 3: # binary or caterogy\n",
    "            df2[col] = df[col].fillna(df[col].mode().iloc[0])\n",
    "        else: # continuous\n",
    "            df2[col] = df[col].fillna(df[col].median())    \n",
    "    return df2       "
   ]
  },
  {
   "cell_type": "code",
   "execution_count": 20,
   "metadata": {},
   "outputs": [],
   "source": [
    "#df = dfx\n",
    "#df2 = df.copy()\n",
    "#for i,col in enumerate(df.columns):\n",
    "#    print(i,variable_type[i],col)\n",
    "#    if variable_type[i] < 3: # binary or caterogy\n",
    "#        df2[col] = df[col].fillna(df[col].mode().iloc[0])\n",
    "#    else: # continuous\n",
    "#        df2[col] = df[col].fillna(df[col].median())"
   ]
  },
  {
   "cell_type": "code",
   "execution_count": 21,
   "metadata": {
    "scrolled": false
   },
   "outputs": [
    {
     "name": "stdout",
     "output_type": "stream",
     "text": [
      "<class 'pandas.core.frame.DataFrame'>\n",
      "Int64Index: 2068 entries, 0 to 2067\n",
      "Data columns (total 59 columns):\n",
      "site                                2068 non-null object\n",
      "gender                              2068 non-null object\n",
      "age                                 2068 non-null int64\n",
      "race_ethnicity                      2068 non-null object\n",
      "maritalstatus                       2068 non-null object\n",
      "education                           2068 non-null object\n",
      "lowhealthliteracy                   2068 non-null object\n",
      "employment status                   2068 non-null object\n",
      "healthinsurance                     2068 non-null object\n",
      "strength_comfort_religion           2068 non-null object\n",
      "petition_prayer_health              2068 non-null object\n",
      "intercessory_prayers_health         2068 non-null object\n",
      "survival_time                       2068 non-null int64\n",
      "depression                          2068 non-null object\n",
      "anxiety                             2068 non-null object\n",
      "stress                              2068 non-null object\n",
      "lowsocialsupport                    2068 non-null object\n",
      "cognition                           2068 non-null object\n",
      "patientactivationscore              2068 non-null float64\n",
      "SF-36_PCS                           2068 non-null float64\n",
      "SF-36_MCS                           2068 non-null float64\n",
      "SAQL                                2068 non-null float64\n",
      "alcoholuse                          2068 non-null object\n",
      "smokingstatus                       2068 non-null object\n",
      "diet8_score_0                       2068 non-null float64\n",
      "Total_physicalactivity_min_wk       2068 non-null int64\n",
      "heartrate                           2068 non-null float64\n",
      "diastolicbp                         2068 non-null float64\n",
      "systolicbp                          2068 non-null float64\n",
      "serumglucose                        2068 non-null float64\n",
      "serumpotassium                      2068 non-null float64\n",
      "serumcreatinine                     2068 non-null float64\n",
      "WBC                                 2068 non-null float64\n",
      "grace_risk                          2068 non-null float64\n",
      "hypertension                        2068 non-null object\n",
      "stroke                              2068 non-null object\n",
      "congestive_heart_failure            2068 non-null object\n",
      "chronic_kidney_disease              2068 non-null object\n",
      "diabetes_type2                      2068 non-null object\n",
      "anemia                              2068 non-null object\n",
      "arthritis                           2068 non-null object\n",
      "cancer                              2068 non-null object\n",
      "chronic_lung_disease                2068 non-null object\n",
      "acsclass                            2068 non-null object\n",
      "reperfusiontherapy                  2068 non-null object\n",
      "ACE_ARB                             2068 non-null object\n",
      "anticoagulants                      2068 non-null object\n",
      "aspirin                             2068 non-null object\n",
      "nsaid_hosp                          2068 non-null object\n",
      "lipidlowering_hosp                  2068 non-null object\n",
      "antidepressant_hosp                 2068 non-null object\n",
      "antidiabetic_hosp                   2068 non-null object\n",
      "betablocker                         2068 non-null object\n",
      "P2Y12                               2068 non-null object\n",
      "atrialfib_complication              2068 non-null object\n",
      "vtachvfib_complication              2068 non-null object\n",
      "Acute_Kidney_Injury_complication    2068 non-null object\n",
      "bleeding_complication               2068 non-null object\n",
      "cardiac_rehab                       2068 non-null object\n",
      "dtypes: float64(13), int64(3), object(43)\n",
      "memory usage: 969.4+ KB\n"
     ]
    }
   ],
   "source": [
    "dfx_imputed = impute_missing(dfx,variable_type)\n",
    "dfx_imputed.info()"
   ]
  },
  {
   "cell_type": "markdown",
   "metadata": {},
   "source": [
    "## Data Processing"
   ]
  },
  {
   "cell_type": "markdown",
   "metadata": {},
   "source": [
    "### Attributes"
   ]
  },
  {
   "cell_type": "code",
   "execution_count": 22,
   "metadata": {},
   "outputs": [],
   "source": [
    "def convert_binary_and_category(x,variable_type):\n",
    "    \"\"\"\n",
    "    convert binary to +-1, category to one hot; remain continuous.\n",
    "    \"\"\"    \n",
    "    onehot_encoder = OneHotEncoder(sparse=False,categories='auto')\n",
    "\n",
    "    # create 2 initial columns\n",
    "    x_new = np.zeros((x.shape[0],2))\n",
    "\n",
    "    for i,i_type in enumerate(variable_type):\n",
    "        if i_type == 1: # binary\n",
    "            unique_value = np.unique(x[:,i])\n",
    "            x1 = np.array([-1. if value == unique_value[0] else 1. for value in x[:,i]])        \n",
    "            x_new = np.hstack((x_new,x1[:,np.newaxis]))\n",
    "\n",
    "        elif i_type == 2: # category\n",
    "            x1 = onehot_encoder.fit_transform(x[:,i].reshape(-1,1))\n",
    "            x_new = np.hstack((x_new,x1))\n",
    "            \n",
    "        else: # continuous      \n",
    "            x_new = np.hstack((x_new,x[:,i][:,np.newaxis]))      \n",
    "\n",
    "    # drop the 2 initial column\n",
    "    x_new = x_new[:,2:]\n",
    "    \n",
    "    return x_new.astype(float)"
   ]
  },
  {
   "cell_type": "code",
   "execution_count": 23,
   "metadata": {},
   "outputs": [
    {
     "name": "stdout",
     "output_type": "stream",
     "text": [
      "(2068, 80)\n",
      "[[ 1.  1. 60. ... -1. -1.  1.]\n",
      " [ 1.  1. 61. ... -1. -1.  1.]\n",
      " [ 1.  1. 56. ... -1. -1. -1.]\n",
      " ...\n",
      " [ 1.  1. 73. ... -1. -1.  1.]\n",
      " [ 1. -1. 58. ... -1. -1.  1.]\n",
      " [ 1.  1. 72. ... -1. -1.  1.]]\n"
     ]
    }
   ],
   "source": [
    "# convert x\n",
    "x = np.array(dfx_imputed)\n",
    "x_new = convert_binary_and_category(x,variable_type)\n",
    "\n",
    "print(x_new.shape)\n",
    "print(x_new)"
   ]
  },
  {
   "cell_type": "markdown",
   "metadata": {},
   "source": [
    "### Target"
   ]
  },
  {
   "cell_type": "code",
   "execution_count": 24,
   "metadata": {},
   "outputs": [
    {
     "name": "stdout",
     "output_type": "stream",
     "text": [
      "(array(['No', 'Yes'], dtype=object), array([1945,  123]))\n",
      "(array([0., 1.]), array([1945,  123]))\n"
     ]
    }
   ],
   "source": [
    "y = np.array(dfy)\n",
    "print(np.unique(y,return_counts=True))\n",
    "\n",
    "# convert target to 0 and 1\n",
    "y_new = np.ones(y.shape[0])\n",
    "y_new[y == 'No'] = 0\n",
    "\n",
    "# if target is already 0 and 1\n",
    "#y_new = y #and delete lines below convert  \n",
    "print(np.unique(y_new,return_counts=True))"
   ]
  },
  {
   "cell_type": "code",
   "execution_count": 25,
   "metadata": {},
   "outputs": [],
   "source": [
    "# combine X and y and save to a file\n",
    "xy_new = np.hstack((x_new,y_new[:,np.newaxis]))\n",
    "np.savetxt('data_processed.dat',xy_new,fmt='%f')"
   ]
  },
  {
   "cell_type": "code",
   "execution_count": null,
   "metadata": {},
   "outputs": [],
   "source": []
  }
 ],
 "metadata": {
  "kernelspec": {
   "display_name": "Python 3",
   "language": "python",
   "name": "python3"
  },
  "language_info": {
   "codemirror_mode": {
    "name": "ipython",
    "version": 3
   },
   "file_extension": ".py",
   "mimetype": "text/x-python",
   "name": "python",
   "nbconvert_exporter": "python",
   "pygments_lexer": "ipython3",
   "version": "3.7.3"
  }
 },
 "nbformat": 4,
 "nbformat_minor": 2
}
