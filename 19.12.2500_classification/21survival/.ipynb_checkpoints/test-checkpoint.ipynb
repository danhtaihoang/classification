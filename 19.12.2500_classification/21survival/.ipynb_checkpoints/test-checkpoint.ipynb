{
 "cells": [
  {
   "cell_type": "code",
   "execution_count": 1,
   "metadata": {},
   "outputs": [],
   "source": [
    "import numpy as np\n",
    "import pandas as pd\n",
    "from sklearn.preprocessing import OneHotEncoder"
   ]
  },
  {
   "cell_type": "code",
   "execution_count": 2,
   "metadata": {},
   "outputs": [],
   "source": [
    "np.random.seed(1)"
   ]
  },
  {
   "cell_type": "code",
   "execution_count": 3,
   "metadata": {
    "scrolled": false
   },
   "outputs": [
    {
     "data": {
      "text/html": [
       "<div>\n",
       "<style scoped>\n",
       "    .dataframe tbody tr th:only-of-type {\n",
       "        vertical-align: middle;\n",
       "    }\n",
       "\n",
       "    .dataframe tbody tr th {\n",
       "        vertical-align: top;\n",
       "    }\n",
       "\n",
       "    .dataframe thead th {\n",
       "        text-align: right;\n",
       "    }\n",
       "</style>\n",
       "<table border=\"1\" class=\"dataframe\">\n",
       "  <thead>\n",
       "    <tr style=\"text-align: right;\">\n",
       "      <th></th>\n",
       "      <th>studyid</th>\n",
       "      <th>site</th>\n",
       "      <th>gender</th>\n",
       "      <th>age</th>\n",
       "      <th>agecat</th>\n",
       "      <th>race_ethnicity</th>\n",
       "      <th>maritalstatus</th>\n",
       "      <th>education</th>\n",
       "      <th>lowhealthliteracy</th>\n",
       "      <th>employment status</th>\n",
       "      <th>...</th>\n",
       "      <th>Unnamed: 246</th>\n",
       "      <th>Unnamed: 247</th>\n",
       "      <th>Unnamed: 248</th>\n",
       "      <th>Unnamed: 249</th>\n",
       "      <th>Unnamed: 250</th>\n",
       "      <th>Unnamed: 251</th>\n",
       "      <th>Unnamed: 252</th>\n",
       "      <th>Unnamed: 253</th>\n",
       "      <th>Unnamed: 254</th>\n",
       "      <th>Unnamed: 255</th>\n",
       "    </tr>\n",
       "  </thead>\n",
       "  <tbody>\n",
       "    <tr>\n",
       "      <th>0</th>\n",
       "      <td>10000</td>\n",
       "      <td>Massachusetts</td>\n",
       "      <td>Male</td>\n",
       "      <td>60</td>\n",
       "      <td>&gt;=55-&lt;65</td>\n",
       "      <td>NHW</td>\n",
       "      <td>Married</td>\n",
       "      <td>College Graduate</td>\n",
       "      <td>No</td>\n",
       "      <td>Employed</td>\n",
       "      <td>...</td>\n",
       "      <td>NaN</td>\n",
       "      <td>NaN</td>\n",
       "      <td>NaN</td>\n",
       "      <td>NaN</td>\n",
       "      <td>NaN</td>\n",
       "      <td>NaN</td>\n",
       "      <td>NaN</td>\n",
       "      <td>NaN</td>\n",
       "      <td>NaN</td>\n",
       "      <td>NaN</td>\n",
       "    </tr>\n",
       "    <tr>\n",
       "      <th>1</th>\n",
       "      <td>10007</td>\n",
       "      <td>Massachusetts</td>\n",
       "      <td>Male</td>\n",
       "      <td>61</td>\n",
       "      <td>&gt;=55-&lt;65</td>\n",
       "      <td>NHW</td>\n",
       "      <td>Married</td>\n",
       "      <td>Some college</td>\n",
       "      <td>Yes</td>\n",
       "      <td>Unemployed/retired</td>\n",
       "      <td>...</td>\n",
       "      <td>NaN</td>\n",
       "      <td>NaN</td>\n",
       "      <td>NaN</td>\n",
       "      <td>NaN</td>\n",
       "      <td>NaN</td>\n",
       "      <td>NaN</td>\n",
       "      <td>NaN</td>\n",
       "      <td>NaN</td>\n",
       "      <td>NaN</td>\n",
       "      <td>NaN</td>\n",
       "    </tr>\n",
       "    <tr>\n",
       "      <th>2</th>\n",
       "      <td>10012</td>\n",
       "      <td>Massachusetts</td>\n",
       "      <td>Male</td>\n",
       "      <td>56</td>\n",
       "      <td>&gt;=55-&lt;65</td>\n",
       "      <td>NHW</td>\n",
       "      <td>Not Married</td>\n",
       "      <td>High School or less</td>\n",
       "      <td>Yes</td>\n",
       "      <td>Unemployed/retired</td>\n",
       "      <td>...</td>\n",
       "      <td>NaN</td>\n",
       "      <td>NaN</td>\n",
       "      <td>NaN</td>\n",
       "      <td>NaN</td>\n",
       "      <td>NaN</td>\n",
       "      <td>NaN</td>\n",
       "      <td>NaN</td>\n",
       "      <td>NaN</td>\n",
       "      <td>NaN</td>\n",
       "      <td>NaN</td>\n",
       "    </tr>\n",
       "    <tr>\n",
       "      <th>3</th>\n",
       "      <td>10013</td>\n",
       "      <td>Massachusetts</td>\n",
       "      <td>Male</td>\n",
       "      <td>48</td>\n",
       "      <td>&lt;55</td>\n",
       "      <td>NHW</td>\n",
       "      <td>Not Married</td>\n",
       "      <td>High School or less</td>\n",
       "      <td>No</td>\n",
       "      <td>Employed</td>\n",
       "      <td>...</td>\n",
       "      <td>NaN</td>\n",
       "      <td>NaN</td>\n",
       "      <td>NaN</td>\n",
       "      <td>NaN</td>\n",
       "      <td>NaN</td>\n",
       "      <td>NaN</td>\n",
       "      <td>NaN</td>\n",
       "      <td>NaN</td>\n",
       "      <td>NaN</td>\n",
       "      <td>NaN</td>\n",
       "    </tr>\n",
       "    <tr>\n",
       "      <th>4</th>\n",
       "      <td>10020</td>\n",
       "      <td>Massachusetts</td>\n",
       "      <td>Male</td>\n",
       "      <td>49</td>\n",
       "      <td>&lt;55</td>\n",
       "      <td>NHW</td>\n",
       "      <td>Not Married</td>\n",
       "      <td>High School or less</td>\n",
       "      <td>No</td>\n",
       "      <td>Unemployed/retired</td>\n",
       "      <td>...</td>\n",
       "      <td>NaN</td>\n",
       "      <td>NaN</td>\n",
       "      <td>NaN</td>\n",
       "      <td>NaN</td>\n",
       "      <td>NaN</td>\n",
       "      <td>NaN</td>\n",
       "      <td>NaN</td>\n",
       "      <td>NaN</td>\n",
       "      <td>NaN</td>\n",
       "      <td>NaN</td>\n",
       "    </tr>\n",
       "  </tbody>\n",
       "</table>\n",
       "<p>5 rows × 256 columns</p>\n",
       "</div>"
      ],
      "text/plain": [
       "   studyid           site gender  age    agecat race_ethnicity maritalstatus  \\\n",
       "0    10000  Massachusetts   Male   60  >=55-<65            NHW       Married   \n",
       "1    10007  Massachusetts   Male   61  >=55-<65            NHW       Married   \n",
       "2    10012  Massachusetts   Male   56  >=55-<65            NHW   Not Married   \n",
       "3    10013  Massachusetts   Male   48       <55            NHW   Not Married   \n",
       "4    10020  Massachusetts   Male   49       <55            NHW   Not Married   \n",
       "\n",
       "             education lowhealthliteracy  employment status   ...  \\\n",
       "0     College Graduate                No            Employed  ...   \n",
       "1         Some college               Yes  Unemployed/retired  ...   \n",
       "2  High School or less               Yes  Unemployed/retired  ...   \n",
       "3  High School or less                No            Employed  ...   \n",
       "4  High School or less                No  Unemployed/retired  ...   \n",
       "\n",
       "  Unnamed: 246 Unnamed: 247 Unnamed: 248 Unnamed: 249 Unnamed: 250  \\\n",
       "0          NaN          NaN          NaN          NaN          NaN   \n",
       "1          NaN          NaN          NaN          NaN          NaN   \n",
       "2          NaN          NaN          NaN          NaN          NaN   \n",
       "3          NaN          NaN          NaN          NaN          NaN   \n",
       "4          NaN          NaN          NaN          NaN          NaN   \n",
       "\n",
       "   Unnamed: 251 Unnamed: 252 Unnamed: 253 Unnamed: 254 Unnamed: 255  \n",
       "0           NaN          NaN          NaN          NaN          NaN  \n",
       "1           NaN          NaN          NaN          NaN          NaN  \n",
       "2           NaN          NaN          NaN          NaN          NaN  \n",
       "3           NaN          NaN          NaN          NaN          NaN  \n",
       "4           NaN          NaN          NaN          NaN          NaN  \n",
       "\n",
       "[5 rows x 256 columns]"
      ]
     },
     "execution_count": 3,
     "metadata": {},
     "output_type": "execute_result"
    }
   ],
   "source": [
    "df = pd.read_csv('survival.csv',sep= ',')\n",
    "df.head()"
   ]
  },
  {
   "cell_type": "code",
   "execution_count": 4,
   "metadata": {},
   "outputs": [],
   "source": [
    "x = df['depression']"
   ]
  },
  {
   "cell_type": "code",
   "execution_count": 5,
   "metadata": {},
   "outputs": [],
   "source": [
    "x1 = np.array(x)"
   ]
  },
  {
   "cell_type": "code",
   "execution_count": 6,
   "metadata": {},
   "outputs": [
    {
     "data": {
      "text/plain": [
       "array(['Severe', 'Moderately severe', nan, 'Moderate', 'Moderate'],\n",
       "      dtype=object)"
      ]
     },
     "execution_count": 6,
     "metadata": {},
     "output_type": "execute_result"
    }
   ],
   "source": [
    "x1[15:20]"
   ]
  },
  {
   "cell_type": "code",
   "execution_count": 14,
   "metadata": {},
   "outputs": [
    {
     "data": {
      "text/plain": [
       "15               Severe\n",
       "16    Moderately severe\n",
       "17                  NaN\n",
       "18             Moderate\n",
       "19             Moderate\n",
       "Name: depression, dtype: object"
      ]
     },
     "execution_count": 14,
     "metadata": {},
     "output_type": "execute_result"
    }
   ],
   "source": [
    "x[15:20]"
   ]
  },
  {
   "cell_type": "code",
   "execution_count": null,
   "metadata": {},
   "outputs": [],
   "source": []
  }
 ],
 "metadata": {
  "kernelspec": {
   "display_name": "Python 3",
   "language": "python",
   "name": "python3"
  },
  "language_info": {
   "codemirror_mode": {
    "name": "ipython",
    "version": 3
   },
   "file_extension": ".py",
   "mimetype": "text/x-python",
   "name": "python",
   "nbconvert_exporter": "python",
   "pygments_lexer": "ipython3",
   "version": "3.7.3"
  }
 },
 "nbformat": 4,
 "nbformat_minor": 2
}
