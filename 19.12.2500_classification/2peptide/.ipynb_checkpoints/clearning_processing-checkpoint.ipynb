{
 "cells": [
  {
   "cell_type": "code",
   "execution_count": 1,
   "metadata": {},
   "outputs": [],
   "source": [
    "import numpy as np\n",
    "import pandas as pd\n",
    "from sklearn.preprocessing import OneHotEncoder"
   ]
  },
  {
   "cell_type": "code",
   "execution_count": 2,
   "metadata": {},
   "outputs": [],
   "source": [
    "np.random.seed(1)"
   ]
  },
  {
   "cell_type": "code",
   "execution_count": 3,
   "metadata": {
    "scrolled": true
   },
   "outputs": [
    {
     "data": {
      "text/html": [
       "<div>\n",
       "<style scoped>\n",
       "    .dataframe tbody tr th:only-of-type {\n",
       "        vertical-align: middle;\n",
       "    }\n",
       "\n",
       "    .dataframe tbody tr th {\n",
       "        vertical-align: top;\n",
       "    }\n",
       "\n",
       "    .dataframe thead th {\n",
       "        text-align: right;\n",
       "    }\n",
       "</style>\n",
       "<table border=\"1\" class=\"dataframe\">\n",
       "  <thead>\n",
       "    <tr style=\"text-align: right;\">\n",
       "      <th></th>\n",
       "      <th>Patientcode</th>\n",
       "      <th>Age</th>\n",
       "      <th>Sex</th>\n",
       "      <th>Caucasianeth</th>\n",
       "      <th>Smokerever</th>\n",
       "      <th>Smokerpresent</th>\n",
       "      <th>DM</th>\n",
       "      <th>Hypertension</th>\n",
       "      <th>Cerebrovasceventprevious</th>\n",
       "      <th>PAD</th>\n",
       "      <th>...</th>\n",
       "      <th>CKD_EPI</th>\n",
       "      <th>hsCRP</th>\n",
       "      <th>NTProBNP</th>\n",
       "      <th>NTProBNPgreater218</th>\n",
       "      <th>NTproBNP100</th>\n",
       "      <th>MCP1</th>\n",
       "      <th>Gal3</th>\n",
       "      <th>hsTroponinI</th>\n",
       "      <th>TWEAK</th>\n",
       "      <th>SBP</th>\n",
       "    </tr>\n",
       "  </thead>\n",
       "  <tbody>\n",
       "    <tr>\n",
       "      <th>0</th>\n",
       "      <td>497</td>\n",
       "      <td>63</td>\n",
       "      <td>1</td>\n",
       "      <td>1</td>\n",
       "      <td>1</td>\n",
       "      <td>0</td>\n",
       "      <td>0</td>\n",
       "      <td>1</td>\n",
       "      <td>0</td>\n",
       "      <td>0</td>\n",
       "      <td>...</td>\n",
       "      <td>79.744541</td>\n",
       "      <td>1.588</td>\n",
       "      <td>37.3</td>\n",
       "      <td>0</td>\n",
       "      <td>0.373</td>\n",
       "      <td>151.60</td>\n",
       "      <td>9.86</td>\n",
       "      <td>0</td>\n",
       "      <td>123.48</td>\n",
       "      <td>150</td>\n",
       "    </tr>\n",
       "    <tr>\n",
       "      <th>1</th>\n",
       "      <td>472</td>\n",
       "      <td>51</td>\n",
       "      <td>0</td>\n",
       "      <td>1</td>\n",
       "      <td>1</td>\n",
       "      <td>0</td>\n",
       "      <td>1</td>\n",
       "      <td>1</td>\n",
       "      <td>0</td>\n",
       "      <td>0</td>\n",
       "      <td>...</td>\n",
       "      <td>65.387946</td>\n",
       "      <td>4.155</td>\n",
       "      <td>556</td>\n",
       "      <td>1</td>\n",
       "      <td>5.56</td>\n",
       "      <td>164.13</td>\n",
       "      <td>18.45</td>\n",
       "      <td>0</td>\n",
       "      <td>238.96</td>\n",
       "      <td>100</td>\n",
       "    </tr>\n",
       "    <tr>\n",
       "      <th>2</th>\n",
       "      <td>14</td>\n",
       "      <td>83</td>\n",
       "      <td>1</td>\n",
       "      <td>1</td>\n",
       "      <td>1</td>\n",
       "      <td>0</td>\n",
       "      <td>0</td>\n",
       "      <td>1</td>\n",
       "      <td>0</td>\n",
       "      <td>0</td>\n",
       "      <td>...</td>\n",
       "      <td>69.292452</td>\n",
       "      <td>4.194</td>\n",
       "      <td>1110</td>\n",
       "      <td>1</td>\n",
       "      <td>11.1</td>\n",
       "      <td>155.11</td>\n",
       "      <td>3.79</td>\n",
       "      <td>0.023</td>\n",
       "      <td>618.84</td>\n",
       "      <td>145</td>\n",
       "    </tr>\n",
       "    <tr>\n",
       "      <th>3</th>\n",
       "      <td>438</td>\n",
       "      <td>64</td>\n",
       "      <td>1</td>\n",
       "      <td>1</td>\n",
       "      <td>1</td>\n",
       "      <td>0</td>\n",
       "      <td>0</td>\n",
       "      <td>1</td>\n",
       "      <td>0</td>\n",
       "      <td>0</td>\n",
       "      <td>...</td>\n",
       "      <td>89.943755</td>\n",
       "      <td>0.738</td>\n",
       "      <td>35.9</td>\n",
       "      <td>0</td>\n",
       "      <td>0.359</td>\n",
       "      <td>106.86</td>\n",
       "      <td>8.66</td>\n",
       "      <td>0.003</td>\n",
       "      <td>130.13</td>\n",
       "      <td>140</td>\n",
       "    </tr>\n",
       "    <tr>\n",
       "      <th>4</th>\n",
       "      <td>477</td>\n",
       "      <td>81</td>\n",
       "      <td>1</td>\n",
       "      <td>1</td>\n",
       "      <td>1</td>\n",
       "      <td>0</td>\n",
       "      <td>1</td>\n",
       "      <td>1</td>\n",
       "      <td>0</td>\n",
       "      <td>0</td>\n",
       "      <td>...</td>\n",
       "      <td>56.371204</td>\n",
       "      <td>0.542</td>\n",
       "      <td>224</td>\n",
       "      <td>1</td>\n",
       "      <td>2.24</td>\n",
       "      <td>209.73</td>\n",
       "      <td>8.23</td>\n",
       "      <td>0.003</td>\n",
       "      <td>116.26</td>\n",
       "      <td>120</td>\n",
       "    </tr>\n",
       "  </tbody>\n",
       "</table>\n",
       "<p>5 rows × 62 columns</p>\n",
       "</div>"
      ],
      "text/plain": [
       "   Patientcode  Age  Sex Caucasianeth Smokerever  Smokerpresent  DM  \\\n",
       "0          497   63    1            1          1              0   0   \n",
       "1          472   51    0            1          1              0   1   \n",
       "2           14   83    1            1          1              0   0   \n",
       "3          438   64    1            1          1              0   0   \n",
       "4          477   81    1            1          1              0   1   \n",
       "\n",
       "   Hypertension  Cerebrovasceventprevious  PAD  ...    CKD_EPI  hsCRP  \\\n",
       "0             1                         0    0  ...  79.744541  1.588   \n",
       "1             1                         0    0  ...  65.387946  4.155   \n",
       "2             1                         0    0  ...  69.292452  4.194   \n",
       "3             1                         0    0  ...  89.943755  0.738   \n",
       "4             1                         0    0  ...  56.371204  0.542   \n",
       "\n",
       "   NTProBNP  NTProBNPgreater218 NTproBNP100    MCP1   Gal3  hsTroponinI  \\\n",
       "0      37.3                   0       0.373  151.60   9.86            0   \n",
       "1       556                   1        5.56  164.13  18.45            0   \n",
       "2      1110                   1        11.1  155.11   3.79        0.023   \n",
       "3      35.9                   0       0.359  106.86   8.66        0.003   \n",
       "4       224                   1        2.24  209.73   8.23        0.003   \n",
       "\n",
       "    TWEAK  SBP  \n",
       "0  123.48  150  \n",
       "1  238.96  100  \n",
       "2  618.84  145  \n",
       "3  130.13  140  \n",
       "4  116.26  120  \n",
       "\n",
       "[5 rows x 62 columns]"
      ]
     },
     "execution_count": 3,
     "metadata": {},
     "output_type": "execute_result"
    }
   ],
   "source": [
    "df = pd.read_csv(\"peptide.csv\")\n",
    "df.head()"
   ]
  },
  {
   "cell_type": "code",
   "execution_count": 4,
   "metadata": {
    "scrolled": true
   },
   "outputs": [
    {
     "name": "stdout",
     "output_type": "stream",
     "text": [
      "<class 'pandas.core.frame.DataFrame'>\n",
      "RangeIndex: 699 entries, 0 to 698\n",
      "Data columns (total 62 columns):\n",
      "Patientcode                       699 non-null int64\n",
      "Age                               699 non-null int64\n",
      "Sex                               699 non-null int64\n",
      "Caucasianeth                      699 non-null object\n",
      "Smokerever                        699 non-null object\n",
      "Smokerpresent                     699 non-null int64\n",
      "DM                                699 non-null int64\n",
      "Hypertension                      699 non-null int64\n",
      "Cerebrovasceventprevious          699 non-null int64\n",
      "PAD                               699 non-null int64\n",
      "HFprevious                        699 non-null int64\n",
      "EFlower40                         699 non-null int64\n",
      "AF                                699 non-null int64\n",
      "TypelastACS                       699 non-null int64\n",
      "Numbervessels                     699 non-null object\n",
      "PCIlastevent                      699 non-null int64\n",
      "DESatlastevent                    699 non-null int64\n",
      "CABGatlastevent                   699 non-null int64\n",
      "Completerevasc                    699 non-null object\n",
      "BMI                               699 non-null object\n",
      "ASA                               699 non-null int64\n",
      "CLOPIDOGREL                       699 non-null int64\n",
      "ACENOCUMAROL                      699 non-null int64\n",
      "STATINS                           699 non-null int64\n",
      "EZETIMIBE                         699 non-null int64\n",
      "FIBRATES                          699 non-null int64\n",
      "ANTIDIABETICORAL                  699 non-null int64\n",
      "INSULIN                           699 non-null int64\n",
      "ACEI                              699 non-null int64\n",
      "ARB                               699 non-null int64\n",
      "ANTIALDOSTERONONICDRUGS           699 non-null int64\n",
      "BETABLOCKERS                      699 non-null int64\n",
      "DIURETICS                         699 non-null int64\n",
      "NEWCANCER                         699 non-null int64\n",
      "ORGANAFFECTEDBYCANCER             699 non-null int64\n",
      "HISTOLOGYCANCER                   699 non-null object\n",
      "HISTOLOGYCANCERTABULATED          699 non-null int64\n",
      "CANCERBEFORE100DAYS               699 non-null object\n",
      "Timetocancerdeathorendfollowup    699 non-null int64\n",
      "Death                             699 non-null int64\n",
      "CauseofDeath                      699 non-null object\n",
      "TimetoDeathorFinalVisit           699 non-null int64\n",
      "HForDeath                         699 non-null int64\n",
      "TimetoHForDeath                   699 non-null int64\n",
      "CancerHForDeath                   699 non-null int64\n",
      "TimetocancerorHForDeath           699 non-null int64\n",
      "Datestartfollowup                 699 non-null object\n",
      "LDL                               699 non-null int64\n",
      "HDL                               699 non-null int64\n",
      "NonHDL                            699 non-null int64\n",
      "TG                                699 non-null int64\n",
      "Glycemia                          699 non-null int64\n",
      "CKD_EPI                           699 non-null float64\n",
      "hsCRP                             699 non-null float64\n",
      "NTProBNP                          699 non-null object\n",
      "NTProBNPgreater218                699 non-null object\n",
      "NTproBNP100                       699 non-null object\n",
      "MCP1                              699 non-null float64\n",
      "Gal3                              699 non-null float64\n",
      "hsTroponinI                       699 non-null object\n",
      "TWEAK                             699 non-null float64\n",
      "SBP                               699 non-null object\n",
      "dtypes: float64(5), int64(43), object(14)\n",
      "memory usage: 338.7+ KB\n"
     ]
    }
   ],
   "source": [
    "df.info()"
   ]
  },
  {
   "cell_type": "markdown",
   "metadata": {},
   "source": [
    "## Data Cleaning"
   ]
  },
  {
   "cell_type": "code",
   "execution_count": 5,
   "metadata": {},
   "outputs": [],
   "source": [
    "target = 'Death'"
   ]
  },
  {
   "cell_type": "markdown",
   "metadata": {},
   "source": [
    "### Replace empty or errors by np.nan"
   ]
  },
  {
   "cell_type": "code",
   "execution_count": 6,
   "metadata": {},
   "outputs": [],
   "source": [
    "# replace empty/erros by np.nan\n",
    "df = df.replace(r'^\\s+$', np.nan, regex=True)\n",
    "df = df.replace('\\t','',regex=True)\n",
    "df = df.replace(' ','',regex=True)\n",
    "df = df.replace('\\?',np.nan,regex=True)\n",
    "df = df.replace('\\<',np.nan,regex=True)\n",
    "df = df.replace('#NULL!',np.nan,regex=True)\n",
    "\n",
    "#df"
   ]
  },
  {
   "cell_type": "markdown",
   "metadata": {},
   "source": [
    "### Remove outliers"
   ]
  },
  {
   "cell_type": "code",
   "execution_count": 7,
   "metadata": {
    "scrolled": true
   },
   "outputs": [
    {
     "data": {
      "text/html": [
       "<div>\n",
       "<style scoped>\n",
       "    .dataframe tbody tr th:only-of-type {\n",
       "        vertical-align: middle;\n",
       "    }\n",
       "\n",
       "    .dataframe tbody tr th {\n",
       "        vertical-align: top;\n",
       "    }\n",
       "\n",
       "    .dataframe thead th {\n",
       "        text-align: right;\n",
       "    }\n",
       "</style>\n",
       "<table border=\"1\" class=\"dataframe\">\n",
       "  <thead>\n",
       "    <tr style=\"text-align: right;\">\n",
       "      <th></th>\n",
       "      <th>Age</th>\n",
       "      <th>Sex</th>\n",
       "      <th>Caucasianeth</th>\n",
       "      <th>Smokerever</th>\n",
       "      <th>Smokerpresent</th>\n",
       "      <th>DM</th>\n",
       "      <th>Hypertension</th>\n",
       "      <th>Cerebrovasceventprevious</th>\n",
       "      <th>PAD</th>\n",
       "      <th>HFprevious</th>\n",
       "      <th>...</th>\n",
       "      <th>CKD_EPI</th>\n",
       "      <th>hsCRP</th>\n",
       "      <th>NTProBNP</th>\n",
       "      <th>NTProBNPgreater218</th>\n",
       "      <th>NTproBNP100</th>\n",
       "      <th>MCP1</th>\n",
       "      <th>Gal3</th>\n",
       "      <th>hsTroponinI</th>\n",
       "      <th>TWEAK</th>\n",
       "      <th>SBP</th>\n",
       "    </tr>\n",
       "  </thead>\n",
       "  <tbody>\n",
       "    <tr>\n",
       "      <th>0</th>\n",
       "      <td>63</td>\n",
       "      <td>1</td>\n",
       "      <td>1</td>\n",
       "      <td>1</td>\n",
       "      <td>0</td>\n",
       "      <td>0</td>\n",
       "      <td>1</td>\n",
       "      <td>0</td>\n",
       "      <td>0</td>\n",
       "      <td>0</td>\n",
       "      <td>...</td>\n",
       "      <td>79.744541</td>\n",
       "      <td>1.588</td>\n",
       "      <td>37.3</td>\n",
       "      <td>0</td>\n",
       "      <td>0.373</td>\n",
       "      <td>151.60</td>\n",
       "      <td>9.86</td>\n",
       "      <td>0</td>\n",
       "      <td>123.48</td>\n",
       "      <td>150</td>\n",
       "    </tr>\n",
       "    <tr>\n",
       "      <th>1</th>\n",
       "      <td>51</td>\n",
       "      <td>0</td>\n",
       "      <td>1</td>\n",
       "      <td>1</td>\n",
       "      <td>0</td>\n",
       "      <td>1</td>\n",
       "      <td>1</td>\n",
       "      <td>0</td>\n",
       "      <td>0</td>\n",
       "      <td>0</td>\n",
       "      <td>...</td>\n",
       "      <td>65.387946</td>\n",
       "      <td>4.155</td>\n",
       "      <td>556</td>\n",
       "      <td>1</td>\n",
       "      <td>5.56</td>\n",
       "      <td>164.13</td>\n",
       "      <td>18.45</td>\n",
       "      <td>0</td>\n",
       "      <td>238.96</td>\n",
       "      <td>100</td>\n",
       "    </tr>\n",
       "    <tr>\n",
       "      <th>2</th>\n",
       "      <td>83</td>\n",
       "      <td>1</td>\n",
       "      <td>1</td>\n",
       "      <td>1</td>\n",
       "      <td>0</td>\n",
       "      <td>0</td>\n",
       "      <td>1</td>\n",
       "      <td>0</td>\n",
       "      <td>0</td>\n",
       "      <td>1</td>\n",
       "      <td>...</td>\n",
       "      <td>69.292452</td>\n",
       "      <td>4.194</td>\n",
       "      <td>1110</td>\n",
       "      <td>1</td>\n",
       "      <td>11.1</td>\n",
       "      <td>155.11</td>\n",
       "      <td>3.79</td>\n",
       "      <td>0.023</td>\n",
       "      <td>618.84</td>\n",
       "      <td>145</td>\n",
       "    </tr>\n",
       "    <tr>\n",
       "      <th>3</th>\n",
       "      <td>64</td>\n",
       "      <td>1</td>\n",
       "      <td>1</td>\n",
       "      <td>1</td>\n",
       "      <td>0</td>\n",
       "      <td>0</td>\n",
       "      <td>1</td>\n",
       "      <td>0</td>\n",
       "      <td>0</td>\n",
       "      <td>0</td>\n",
       "      <td>...</td>\n",
       "      <td>89.943755</td>\n",
       "      <td>0.738</td>\n",
       "      <td>35.9</td>\n",
       "      <td>0</td>\n",
       "      <td>0.359</td>\n",
       "      <td>106.86</td>\n",
       "      <td>8.66</td>\n",
       "      <td>0.003</td>\n",
       "      <td>130.13</td>\n",
       "      <td>140</td>\n",
       "    </tr>\n",
       "    <tr>\n",
       "      <th>4</th>\n",
       "      <td>81</td>\n",
       "      <td>1</td>\n",
       "      <td>1</td>\n",
       "      <td>1</td>\n",
       "      <td>0</td>\n",
       "      <td>1</td>\n",
       "      <td>1</td>\n",
       "      <td>0</td>\n",
       "      <td>0</td>\n",
       "      <td>0</td>\n",
       "      <td>...</td>\n",
       "      <td>56.371204</td>\n",
       "      <td>0.542</td>\n",
       "      <td>224</td>\n",
       "      <td>1</td>\n",
       "      <td>2.24</td>\n",
       "      <td>209.73</td>\n",
       "      <td>8.23</td>\n",
       "      <td>0.003</td>\n",
       "      <td>116.26</td>\n",
       "      <td>120</td>\n",
       "    </tr>\n",
       "  </tbody>\n",
       "</table>\n",
       "<p>5 rows × 56 columns</p>\n",
       "</div>"
      ],
      "text/plain": [
       "   Age  Sex Caucasianeth Smokerever  Smokerpresent  DM  Hypertension  \\\n",
       "0   63    1            1          1              0   0             1   \n",
       "1   51    0            1          1              0   1             1   \n",
       "2   83    1            1          1              0   0             1   \n",
       "3   64    1            1          1              0   0             1   \n",
       "4   81    1            1          1              0   1             1   \n",
       "\n",
       "   Cerebrovasceventprevious  PAD  HFprevious  ...    CKD_EPI  hsCRP  NTProBNP  \\\n",
       "0                         0    0           0  ...  79.744541  1.588      37.3   \n",
       "1                         0    0           0  ...  65.387946  4.155       556   \n",
       "2                         0    0           1  ...  69.292452  4.194      1110   \n",
       "3                         0    0           0  ...  89.943755  0.738      35.9   \n",
       "4                         0    0           0  ...  56.371204  0.542       224   \n",
       "\n",
       "  NTProBNPgreater218  NTproBNP100    MCP1   Gal3 hsTroponinI   TWEAK  SBP  \n",
       "0                  0        0.373  151.60   9.86           0  123.48  150  \n",
       "1                  1         5.56  164.13  18.45           0  238.96  100  \n",
       "2                  1         11.1  155.11   3.79       0.023  618.84  145  \n",
       "3                  0        0.359  106.86   8.66       0.003  130.13  140  \n",
       "4                  1         2.24  209.73   8.23       0.003  116.26  120  \n",
       "\n",
       "[5 rows x 56 columns]"
      ]
     },
     "execution_count": 7,
     "metadata": {},
     "output_type": "execute_result"
    }
   ],
   "source": [
    "# Drop the column outliers as it is unrelated to the dependent variable\n",
    "outliers = ['HISTOLOGYCANCER', 'CANCERBEFORE100DAYS','CauseofDeath',\\\n",
    "            'HISTOLOGYCANCERTABULATED','Datestartfollowup','Patientcode']\n",
    "df = df.drop(outliers,axis=1)\n",
    "df.head()"
   ]
  },
  {
   "cell_type": "markdown",
   "metadata": {},
   "source": [
    "### Remove bad columns"
   ]
  },
  {
   "cell_type": "code",
   "execution_count": 8,
   "metadata": {},
   "outputs": [],
   "source": [
    "def remove_bad_columns(df,bad_column_threshold):\n",
    "    # find bad columns having too many missing values\n",
    "    n_null = np.array(df.isnull().sum(axis=0))\n",
    "    bad_col = np.array([]).astype(int)\n",
    "    for i in range(len(n_null)):\n",
    "        if n_null[i] >= bad_column_threshold:\n",
    "            bad_col = np.append(bad_col,i)\n",
    "\n",
    "    #print(bad_col)\n",
    "    print('number of bad columns:',len(bad_col))\n",
    "\n",
    "    # delete bad columns\n",
    "    df = df.drop(df.columns[bad_col],axis=1)\n",
    "    #df.info()\n",
    "    return df  "
   ]
  },
  {
   "cell_type": "code",
   "execution_count": 9,
   "metadata": {},
   "outputs": [
    {
     "name": "stdout",
     "output_type": "stream",
     "text": [
      "number of bad columns: 4\n",
      "<class 'pandas.core.frame.DataFrame'>\n",
      "RangeIndex: 699 entries, 0 to 698\n",
      "Data columns (total 52 columns):\n",
      "Age                               699 non-null int64\n",
      "Sex                               699 non-null int64\n",
      "Caucasianeth                      698 non-null object\n",
      "Smokerever                        697 non-null object\n",
      "Smokerpresent                     699 non-null int64\n",
      "DM                                699 non-null int64\n",
      "Hypertension                      699 non-null int64\n",
      "Cerebrovasceventprevious          699 non-null int64\n",
      "PAD                               699 non-null int64\n",
      "HFprevious                        699 non-null int64\n",
      "EFlower40                         699 non-null int64\n",
      "AF                                699 non-null int64\n",
      "TypelastACS                       699 non-null int64\n",
      "PCIlastevent                      699 non-null int64\n",
      "DESatlastevent                    699 non-null int64\n",
      "CABGatlastevent                   699 non-null int64\n",
      "ASA                               699 non-null int64\n",
      "CLOPIDOGREL                       699 non-null int64\n",
      "ACENOCUMAROL                      699 non-null int64\n",
      "STATINS                           699 non-null int64\n",
      "EZETIMIBE                         699 non-null int64\n",
      "FIBRATES                          699 non-null int64\n",
      "ANTIDIABETICORAL                  699 non-null int64\n",
      "INSULIN                           699 non-null int64\n",
      "ACEI                              699 non-null int64\n",
      "ARB                               699 non-null int64\n",
      "ANTIALDOSTERONONICDRUGS           699 non-null int64\n",
      "BETABLOCKERS                      699 non-null int64\n",
      "DIURETICS                         699 non-null int64\n",
      "NEWCANCER                         699 non-null int64\n",
      "ORGANAFFECTEDBYCANCER             699 non-null int64\n",
      "Timetocancerdeathorendfollowup    699 non-null int64\n",
      "Death                             699 non-null int64\n",
      "TimetoDeathorFinalVisit           699 non-null int64\n",
      "HForDeath                         699 non-null int64\n",
      "TimetoHForDeath                   699 non-null int64\n",
      "CancerHForDeath                   699 non-null int64\n",
      "TimetocancerorHForDeath           699 non-null int64\n",
      "LDL                               699 non-null int64\n",
      "HDL                               699 non-null int64\n",
      "NonHDL                            699 non-null int64\n",
      "TG                                699 non-null int64\n",
      "Glycemia                          699 non-null int64\n",
      "CKD_EPI                           699 non-null float64\n",
      "hsCRP                             699 non-null float64\n",
      "NTProBNP                          698 non-null object\n",
      "NTProBNPgreater218                698 non-null object\n",
      "NTproBNP100                       698 non-null object\n",
      "MCP1                              699 non-null float64\n",
      "Gal3                              699 non-null float64\n",
      "hsTroponinI                       698 non-null object\n",
      "TWEAK                             699 non-null float64\n",
      "dtypes: float64(5), int64(41), object(6)\n",
      "memory usage: 284.0+ KB\n"
     ]
    }
   ],
   "source": [
    "df = remove_bad_columns(df,3)\n",
    "df.info()"
   ]
  },
  {
   "cell_type": "markdown",
   "metadata": {},
   "source": [
    "### Remove bad rows"
   ]
  },
  {
   "cell_type": "code",
   "execution_count": 10,
   "metadata": {},
   "outputs": [],
   "source": [
    " # Find rows where target is missing\n",
    "def find_missing_target_rows(df,target):\n",
    "    # find rows where target is missing\n",
    "    missing_row = df[target].isnull()\n",
    "    print('Number of rows where target are missing:')\n",
    "    print(sum(missing_row))\n",
    "\n",
    "    #df = df[~missing_row]\n",
    "    missing_row_indices = np.array([t for t in range(df.shape[0]) if missing_row[t]])\n",
    "    \n",
    "    return missing_row_indices"
   ]
  },
  {
   "cell_type": "code",
   "execution_count": 11,
   "metadata": {},
   "outputs": [
    {
     "name": "stdout",
     "output_type": "stream",
     "text": [
      "Number of rows where target are missing:\n",
      "0\n"
     ]
    }
   ],
   "source": [
    "missing_target_rows = find_missing_target_rows(df,target)"
   ]
  },
  {
   "cell_type": "markdown",
   "metadata": {},
   "source": [
    "We find bad rows which contain too many missing values, then remove them."
   ]
  },
  {
   "cell_type": "code",
   "execution_count": 12,
   "metadata": {},
   "outputs": [],
   "source": [
    "def find_bad_rows(df,bad_row_threshold):   \n",
    "    # find bad rows having too many missing values\n",
    "    n_null = np.array(df.isnull().sum(axis=1))\n",
    "    bad_row = np.array([]).astype(int)\n",
    "    for t in range(len(n_null)):\n",
    "        if n_null[t] >= bad_row_threshold:\n",
    "            bad_row = np.append(bad_row,t)\n",
    "\n",
    "    #print(bad_row)\n",
    "    print('number of bad rows:',len(bad_row))\n",
    "\n",
    "    # delete bad rows\n",
    "    #df = df.drop(bad_row)\n",
    "    #df.info()\n",
    "    return bad_row"
   ]
  },
  {
   "cell_type": "code",
   "execution_count": 13,
   "metadata": {},
   "outputs": [
    {
     "name": "stdout",
     "output_type": "stream",
     "text": [
      "number of bad rows: 1\n",
      "<class 'pandas.core.frame.DataFrame'>\n",
      "RangeIndex: 699 entries, 0 to 698\n",
      "Data columns (total 52 columns):\n",
      "Age                               699 non-null int64\n",
      "Sex                               699 non-null int64\n",
      "Caucasianeth                      698 non-null object\n",
      "Smokerever                        697 non-null object\n",
      "Smokerpresent                     699 non-null int64\n",
      "DM                                699 non-null int64\n",
      "Hypertension                      699 non-null int64\n",
      "Cerebrovasceventprevious          699 non-null int64\n",
      "PAD                               699 non-null int64\n",
      "HFprevious                        699 non-null int64\n",
      "EFlower40                         699 non-null int64\n",
      "AF                                699 non-null int64\n",
      "TypelastACS                       699 non-null int64\n",
      "PCIlastevent                      699 non-null int64\n",
      "DESatlastevent                    699 non-null int64\n",
      "CABGatlastevent                   699 non-null int64\n",
      "ASA                               699 non-null int64\n",
      "CLOPIDOGREL                       699 non-null int64\n",
      "ACENOCUMAROL                      699 non-null int64\n",
      "STATINS                           699 non-null int64\n",
      "EZETIMIBE                         699 non-null int64\n",
      "FIBRATES                          699 non-null int64\n",
      "ANTIDIABETICORAL                  699 non-null int64\n",
      "INSULIN                           699 non-null int64\n",
      "ACEI                              699 non-null int64\n",
      "ARB                               699 non-null int64\n",
      "ANTIALDOSTERONONICDRUGS           699 non-null int64\n",
      "BETABLOCKERS                      699 non-null int64\n",
      "DIURETICS                         699 non-null int64\n",
      "NEWCANCER                         699 non-null int64\n",
      "ORGANAFFECTEDBYCANCER             699 non-null int64\n",
      "Timetocancerdeathorendfollowup    699 non-null int64\n",
      "Death                             699 non-null int64\n",
      "TimetoDeathorFinalVisit           699 non-null int64\n",
      "HForDeath                         699 non-null int64\n",
      "TimetoHForDeath                   699 non-null int64\n",
      "CancerHForDeath                   699 non-null int64\n",
      "TimetocancerorHForDeath           699 non-null int64\n",
      "LDL                               699 non-null int64\n",
      "HDL                               699 non-null int64\n",
      "NonHDL                            699 non-null int64\n",
      "TG                                699 non-null int64\n",
      "Glycemia                          699 non-null int64\n",
      "CKD_EPI                           699 non-null float64\n",
      "hsCRP                             699 non-null float64\n",
      "NTProBNP                          698 non-null object\n",
      "NTProBNPgreater218                698 non-null object\n",
      "NTproBNP100                       698 non-null object\n",
      "MCP1                              699 non-null float64\n",
      "Gal3                              699 non-null float64\n",
      "hsTroponinI                       698 non-null object\n",
      "TWEAK                             699 non-null float64\n",
      "dtypes: float64(5), int64(41), object(6)\n",
      "memory usage: 284.0+ KB\n"
     ]
    }
   ],
   "source": [
    "bad_rows = find_bad_rows(df,3)\n",
    "df.info()"
   ]
  },
  {
   "cell_type": "code",
   "execution_count": 14,
   "metadata": {},
   "outputs": [
    {
     "name": "stdout",
     "output_type": "stream",
     "text": [
      "number of rows need to delete: 1\n"
     ]
    }
   ],
   "source": [
    "del_rows = np.union1d(missing_target_rows,bad_rows)\n",
    "print('number of rows need to delete:',len(del_rows))\n",
    "\n",
    "df = df.drop(del_rows)"
   ]
  },
  {
   "cell_type": "markdown",
   "metadata": {},
   "source": [
    "### Separate target and attributes"
   ]
  },
  {
   "cell_type": "code",
   "execution_count": 15,
   "metadata": {},
   "outputs": [],
   "source": [
    "dfx = df.drop(target,axis=1)\n",
    "dfy = df[target]"
   ]
  },
  {
   "cell_type": "markdown",
   "metadata": {},
   "source": [
    "### Find variable type"
   ]
  },
  {
   "cell_type": "code",
   "execution_count": 16,
   "metadata": {
    "scrolled": false
   },
   "outputs": [
    {
     "name": "stdout",
     "output_type": "stream",
     "text": [
      "number of uniques of each variable:\n",
      "[ 58   2   2   2   2   2   2   2   2   2   2   2   2   2   2   2   2   2\n",
      "   2   2   2   2   2   2   2   2   2   2   2   2  12 506 508   2 510   2\n",
      " 508 124  59 132 218 134 388 656 516   2 516 626 503  68 669]\n"
     ]
    }
   ],
   "source": [
    "# number of uniques of each column (excluding NaN)\n",
    "nu = np.array([len(pd.unique(dfx[col].dropna())) for col in dfx.columns])\n",
    "print('number of uniques of each variable:')\n",
    "print(nu)"
   ]
  },
  {
   "cell_type": "code",
   "execution_count": 17,
   "metadata": {
    "scrolled": true
   },
   "outputs": [],
   "source": [
    "def define_variable_type(df,nu):\n",
    "    i_binary = [] ; i_category = [] ; i_continuous = []\n",
    "    for i in range(len(nu)):\n",
    "        if nu[i] == 2: # binary \n",
    "            i_binary.append(i)\n",
    "        elif nu[i] < 5: # !!!! NOTE: this is not always correct, depending on data\n",
    "            i_category.append(i)\n",
    "        else:\n",
    "            i_continuous.append(i)\n",
    "\n",
    "    print('i_binary:',i_binary)\n",
    "    print('i_category:',i_category)   \n",
    "    #i_binary, i_category, i_continuous\n",
    "    \n",
    "    variable_type  = np.ones(len(nu))  # binary\n",
    "    variable_type[i_category] = 2   # categorical\n",
    "    variable_type[i_continuous] = 3 # continuous\n",
    "\n",
    "    return variable_type #,i_binary,i_category,i_continuous"
   ]
  },
  {
   "cell_type": "code",
   "execution_count": 18,
   "metadata": {
    "scrolled": true
   },
   "outputs": [
    {
     "name": "stdout",
     "output_type": "stream",
     "text": [
      "i_binary: [1, 2, 3, 4, 5, 6, 7, 8, 9, 10, 11, 12, 13, 14, 15, 16, 17, 18, 19, 20, 21, 22, 23, 24, 25, 26, 27, 28, 29, 33, 35, 45]\n",
      "i_category: []\n",
      "variable type: [3. 1. 1. 1. 1. 1. 1. 1. 1. 1. 1. 1. 1. 1. 1. 1. 1. 1. 1. 1. 1. 1. 1. 1.\n",
      " 1. 1. 1. 1. 1. 1. 3. 3. 3. 1. 3. 1. 3. 3. 3. 3. 3. 3. 3. 3. 3. 1. 3. 3.\n",
      " 3. 3. 3.]\n"
     ]
    }
   ],
   "source": [
    "variable_type = define_variable_type(dfx,nu)\n",
    "print('variable type:',variable_type)"
   ]
  },
  {
   "cell_type": "markdown",
   "metadata": {},
   "source": [
    "### Impute missing values of attributes"
   ]
  },
  {
   "cell_type": "code",
   "execution_count": 19,
   "metadata": {},
   "outputs": [],
   "source": [
    "def impute_missing(df,variable_type):\n",
    "    # impute binary and categorical variables by the most frequency (in each column)\n",
    "    # continuous variable by median\n",
    "    # input: df: pandas data frame, variable_type: list\n",
    "    # output: df2: pandas data frame\n",
    "    df2 = df.copy()\n",
    "    for i,col in enumerate(df.columns):\n",
    "        if variable_type[i] < 3: # binary or caterogy\n",
    "            df2[col] = df[col].fillna(df[col].mode().iloc[0])\n",
    "        else: # continuous\n",
    "            df2[col] = df[col].fillna(df[col].median())    \n",
    "    return df2       "
   ]
  },
  {
   "cell_type": "code",
   "execution_count": 20,
   "metadata": {
    "scrolled": false
   },
   "outputs": [
    {
     "name": "stdout",
     "output_type": "stream",
     "text": [
      "<class 'pandas.core.frame.DataFrame'>\n",
      "Int64Index: 698 entries, 0 to 697\n",
      "Data columns (total 51 columns):\n",
      "Age                               698 non-null int64\n",
      "Sex                               698 non-null int64\n",
      "Caucasianeth                      698 non-null object\n",
      "Smokerever                        698 non-null object\n",
      "Smokerpresent                     698 non-null int64\n",
      "DM                                698 non-null int64\n",
      "Hypertension                      698 non-null int64\n",
      "Cerebrovasceventprevious          698 non-null int64\n",
      "PAD                               698 non-null int64\n",
      "HFprevious                        698 non-null int64\n",
      "EFlower40                         698 non-null int64\n",
      "AF                                698 non-null int64\n",
      "TypelastACS                       698 non-null int64\n",
      "PCIlastevent                      698 non-null int64\n",
      "DESatlastevent                    698 non-null int64\n",
      "CABGatlastevent                   698 non-null int64\n",
      "ASA                               698 non-null int64\n",
      "CLOPIDOGREL                       698 non-null int64\n",
      "ACENOCUMAROL                      698 non-null int64\n",
      "STATINS                           698 non-null int64\n",
      "EZETIMIBE                         698 non-null int64\n",
      "FIBRATES                          698 non-null int64\n",
      "ANTIDIABETICORAL                  698 non-null int64\n",
      "INSULIN                           698 non-null int64\n",
      "ACEI                              698 non-null int64\n",
      "ARB                               698 non-null int64\n",
      "ANTIALDOSTERONONICDRUGS           698 non-null int64\n",
      "BETABLOCKERS                      698 non-null int64\n",
      "DIURETICS                         698 non-null int64\n",
      "NEWCANCER                         698 non-null int64\n",
      "ORGANAFFECTEDBYCANCER             698 non-null int64\n",
      "Timetocancerdeathorendfollowup    698 non-null int64\n",
      "TimetoDeathorFinalVisit           698 non-null int64\n",
      "HForDeath                         698 non-null int64\n",
      "TimetoHForDeath                   698 non-null int64\n",
      "CancerHForDeath                   698 non-null int64\n",
      "TimetocancerorHForDeath           698 non-null int64\n",
      "LDL                               698 non-null int64\n",
      "HDL                               698 non-null int64\n",
      "NonHDL                            698 non-null int64\n",
      "TG                                698 non-null int64\n",
      "Glycemia                          698 non-null int64\n",
      "CKD_EPI                           698 non-null float64\n",
      "hsCRP                             698 non-null float64\n",
      "NTProBNP                          698 non-null object\n",
      "NTProBNPgreater218                698 non-null object\n",
      "NTproBNP100                       698 non-null object\n",
      "MCP1                              698 non-null float64\n",
      "Gal3                              698 non-null float64\n",
      "hsTroponinI                       698 non-null object\n",
      "TWEAK                             698 non-null float64\n",
      "dtypes: float64(5), int64(40), object(6)\n",
      "memory usage: 283.6+ KB\n"
     ]
    }
   ],
   "source": [
    "dfx_imputed = impute_missing(dfx,variable_type)\n",
    "dfx_imputed.info()"
   ]
  },
  {
   "cell_type": "markdown",
   "metadata": {},
   "source": [
    "## Data Processing"
   ]
  },
  {
   "cell_type": "markdown",
   "metadata": {},
   "source": [
    "### Attributes"
   ]
  },
  {
   "cell_type": "code",
   "execution_count": 21,
   "metadata": {},
   "outputs": [],
   "source": [
    "def convert_binary_and_category(x,variable_type):\n",
    "    \"\"\"\n",
    "    convert binary to +-1, category to one hot; remain continuous.\n",
    "    \"\"\"    \n",
    "    onehot_encoder = OneHotEncoder(sparse=False,categories='auto')\n",
    "\n",
    "    # create 2 initial columns\n",
    "    x_new = np.zeros((x.shape[0],2))\n",
    "\n",
    "    for i,i_type in enumerate(variable_type):\n",
    "        if i_type == 1: # binary\n",
    "            unique_value = np.unique(x[:,i])\n",
    "            x1 = np.array([-1. if value == unique_value[0] else 1. for value in x[:,i]])        \n",
    "            x_new = np.hstack((x_new,x1[:,np.newaxis]))\n",
    "\n",
    "        elif i_type == 2: # category\n",
    "            x1 = onehot_encoder.fit_transform(x[:,i].reshape(-1,1))\n",
    "            x_new = np.hstack((x_new,x1))\n",
    "            \n",
    "        else: # continuous      \n",
    "            x_new = np.hstack((x_new,x[:,i][:,np.newaxis]))      \n",
    "\n",
    "    # drop the 2 initial column\n",
    "    x_new = x_new[:,2:]\n",
    "    \n",
    "    return x_new.astype(float)"
   ]
  },
  {
   "cell_type": "code",
   "execution_count": 22,
   "metadata": {},
   "outputs": [
    {
     "name": "stdout",
     "output_type": "stream",
     "text": [
      "(698, 51)\n",
      "[[ 6.3000e+01  1.0000e+00  1.0000e+00 ...  9.8600e+00  0.0000e+00\n",
      "   1.2348e+02]\n",
      " [ 5.1000e+01 -1.0000e+00  1.0000e+00 ...  1.8450e+01  0.0000e+00\n",
      "   2.3896e+02]\n",
      " [ 8.3000e+01  1.0000e+00  1.0000e+00 ...  3.7900e+00  2.3000e-02\n",
      "   6.1884e+02]\n",
      " ...\n",
      " [ 5.1000e+01  1.0000e+00  1.0000e+00 ...  8.9200e+00  0.0000e+00\n",
      "   1.9940e+02]\n",
      " [ 4.7000e+01  1.0000e+00 -1.0000e+00 ...  1.8400e+00  0.0000e+00\n",
      "   2.0718e+02]\n",
      " [ 5.9000e+01  1.0000e+00 -1.0000e+00 ...  5.4600e+00  5.0000e-03\n",
      "   1.9600e+02]]\n"
     ]
    }
   ],
   "source": [
    "# convert x\n",
    "x = np.array(dfx_imputed)\n",
    "x_new = convert_binary_and_category(x,variable_type)\n",
    "\n",
    "print(x_new.shape)\n",
    "print(x_new)"
   ]
  },
  {
   "cell_type": "markdown",
   "metadata": {},
   "source": [
    "### Target"
   ]
  },
  {
   "cell_type": "code",
   "execution_count": 23,
   "metadata": {},
   "outputs": [
    {
     "name": "stdout",
     "output_type": "stream",
     "text": [
      "(array([0, 1]), array([675,  23]))\n"
     ]
    }
   ],
   "source": [
    "y = np.array(dfy)\n",
    "#print(np.unique(y,return_counts=True))\n",
    "\n",
    "# convert taget to 0 and 1\n",
    "y_new = y\n",
    "#y_new = np.ones(y.shape[0])\n",
    "#y_new[y =='No'] = 0\n",
    "\n",
    "print(np.unique(y_new,return_counts=True))"
   ]
  },
  {
   "cell_type": "code",
   "execution_count": 24,
   "metadata": {},
   "outputs": [],
   "source": [
    "# combine X and y and save to a file\n",
    "xy_new = np.hstack((x_new,y_new[:,np.newaxis]))\n",
    "np.savetxt('data_processed.dat',xy_new,fmt='%f')"
   ]
  },
  {
   "cell_type": "code",
   "execution_count": null,
   "metadata": {},
   "outputs": [],
   "source": []
  }
 ],
 "metadata": {
  "kernelspec": {
   "display_name": "Python 3",
   "language": "python",
   "name": "python3"
  },
  "language_info": {
   "codemirror_mode": {
    "name": "ipython",
    "version": 3
   },
   "file_extension": ".py",
   "mimetype": "text/x-python",
   "name": "python",
   "nbconvert_exporter": "python",
   "pygments_lexer": "ipython3",
   "version": "3.7.3"
  }
 },
 "nbformat": 4,
 "nbformat_minor": 2
}
