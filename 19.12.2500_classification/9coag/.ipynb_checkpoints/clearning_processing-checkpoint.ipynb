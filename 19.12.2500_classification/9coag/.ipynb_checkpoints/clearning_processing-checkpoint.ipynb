{
 "cells": [
  {
   "cell_type": "code",
   "execution_count": 1,
   "metadata": {},
   "outputs": [],
   "source": [
    "import numpy as np\n",
    "import pandas as pd\n",
    "from sklearn.preprocessing import OneHotEncoder"
   ]
  },
  {
   "cell_type": "code",
   "execution_count": 2,
   "metadata": {},
   "outputs": [],
   "source": [
    "np.random.seed(1)"
   ]
  },
  {
   "cell_type": "code",
   "execution_count": 3,
   "metadata": {
    "scrolled": false
   },
   "outputs": [
    {
     "data": {
      "text/html": [
       "<div>\n",
       "<style scoped>\n",
       "    .dataframe tbody tr th:only-of-type {\n",
       "        vertical-align: middle;\n",
       "    }\n",
       "\n",
       "    .dataframe tbody tr th {\n",
       "        vertical-align: top;\n",
       "    }\n",
       "\n",
       "    .dataframe thead th {\n",
       "        text-align: right;\n",
       "    }\n",
       "</style>\n",
       "<table border=\"1\" class=\"dataframe\">\n",
       "  <thead>\n",
       "    <tr style=\"text-align: right;\">\n",
       "      <th></th>\n",
       "      <th>NO</th>\n",
       "      <th>Y</th>\n",
       "      <th>Sex\n",
       "1.Male\n",
       "2.Female</th>\n",
       "      <th>Age</th>\n",
       "      <th>Before\n",
       "treatment</th>\n",
       "      <th>Severity\n",
       "1.mild/moderate\n",
       "2.severe</th>\n",
       "      <th>PT</th>\n",
       "      <th>Platelet</th>\n",
       "      <th>FDP</th>\n",
       "      <th>SIRS_t1</th>\n",
       "      <th>...</th>\n",
       "      <th>SOFA\n",
       "cardiovascular\n",
       "0-1-2</th>\n",
       "      <th>SOFA\n",
       "CNS</th>\n",
       "      <th>SOFA\n",
       "renal</th>\n",
       "      <th>SOFA\n",
       "renal\n",
       "0-1-2</th>\n",
       "      <th>Total SOFA\n",
       "(4 items)</th>\n",
       "      <th>SIC score\n",
       "(PT+PLT)</th>\n",
       "      <th>SIC score（PT+PLT+\n",
       " Total SOFA）</th>\n",
       "      <th>SIC\n",
       "1.positive\n",
       "2.negative</th>\n",
       "      <th>Unnamed: 27</th>\n",
       "      <th>Unnamed: 28</th>\n",
       "    </tr>\n",
       "  </thead>\n",
       "  <tbody>\n",
       "    <tr>\n",
       "      <th>0</th>\n",
       "      <td>1</td>\n",
       "      <td>1</td>\n",
       "      <td>1</td>\n",
       "      <td>72.0</td>\n",
       "      <td>1</td>\n",
       "      <td>2</td>\n",
       "      <td>1.17</td>\n",
       "      <td>41.0</td>\n",
       "      <td>17.0</td>\n",
       "      <td>2</td>\n",
       "      <td>...</td>\n",
       "      <td>2.0</td>\n",
       "      <td>NaN</td>\n",
       "      <td>0</td>\n",
       "      <td>NaN</td>\n",
       "      <td>5</td>\n",
       "      <td>2</td>\n",
       "      <td>4</td>\n",
       "      <td>2</td>\n",
       "      <td>NaN</td>\n",
       "      <td>NaN</td>\n",
       "    </tr>\n",
       "    <tr>\n",
       "      <th>1</th>\n",
       "      <td>2</td>\n",
       "      <td>1</td>\n",
       "      <td>2</td>\n",
       "      <td>76.0</td>\n",
       "      <td>1</td>\n",
       "      <td>2</td>\n",
       "      <td>1.95</td>\n",
       "      <td>23.0</td>\n",
       "      <td>18.7</td>\n",
       "      <td>3</td>\n",
       "      <td>...</td>\n",
       "      <td>2.0</td>\n",
       "      <td>3.0</td>\n",
       "      <td>2</td>\n",
       "      <td>2.0</td>\n",
       "      <td>8</td>\n",
       "      <td>4</td>\n",
       "      <td>6</td>\n",
       "      <td>1</td>\n",
       "      <td>NaN</td>\n",
       "      <td>NaN</td>\n",
       "    </tr>\n",
       "    <tr>\n",
       "      <th>2</th>\n",
       "      <td>3</td>\n",
       "      <td>2</td>\n",
       "      <td>1</td>\n",
       "      <td>93.0</td>\n",
       "      <td>2</td>\n",
       "      <td>2</td>\n",
       "      <td>1.83</td>\n",
       "      <td>57.0</td>\n",
       "      <td>22.9</td>\n",
       "      <td>3</td>\n",
       "      <td>...</td>\n",
       "      <td>NaN</td>\n",
       "      <td>3.0</td>\n",
       "      <td>0</td>\n",
       "      <td>NaN</td>\n",
       "      <td>2</td>\n",
       "      <td>4</td>\n",
       "      <td>6</td>\n",
       "      <td>1</td>\n",
       "      <td>NaN</td>\n",
       "      <td>NaN</td>\n",
       "    </tr>\n",
       "    <tr>\n",
       "      <th>3</th>\n",
       "      <td>4</td>\n",
       "      <td>1</td>\n",
       "      <td>2</td>\n",
       "      <td>76.0</td>\n",
       "      <td>2</td>\n",
       "      <td>2</td>\n",
       "      <td>1.23</td>\n",
       "      <td>66.0</td>\n",
       "      <td>23.4</td>\n",
       "      <td>2</td>\n",
       "      <td>...</td>\n",
       "      <td>2.0</td>\n",
       "      <td>4.0</td>\n",
       "      <td>4</td>\n",
       "      <td>2.0</td>\n",
       "      <td>8</td>\n",
       "      <td>3</td>\n",
       "      <td>5</td>\n",
       "      <td>1</td>\n",
       "      <td>NaN</td>\n",
       "      <td>NaN</td>\n",
       "    </tr>\n",
       "    <tr>\n",
       "      <th>4</th>\n",
       "      <td>5</td>\n",
       "      <td>1</td>\n",
       "      <td>1</td>\n",
       "      <td>76.0</td>\n",
       "      <td>2</td>\n",
       "      <td>2</td>\n",
       "      <td>1.08</td>\n",
       "      <td>44.0</td>\n",
       "      <td>3.9</td>\n",
       "      <td>4</td>\n",
       "      <td>...</td>\n",
       "      <td>1.0</td>\n",
       "      <td>2.0</td>\n",
       "      <td>3</td>\n",
       "      <td>2.0</td>\n",
       "      <td>3</td>\n",
       "      <td>2</td>\n",
       "      <td>4</td>\n",
       "      <td>2</td>\n",
       "      <td>NaN</td>\n",
       "      <td>NaN</td>\n",
       "    </tr>\n",
       "  </tbody>\n",
       "</table>\n",
       "<p>5 rows × 29 columns</p>\n",
       "</div>"
      ],
      "text/plain": [
       "   NO  Y  Sex\\n1.Male\\n2.Female   Age  Before\\ntreatment  \\\n",
       "0   1  1                      1  72.0                  1   \n",
       "1   2  1                      2  76.0                  1   \n",
       "2   3  2                      1  93.0                  2   \n",
       "3   4  1                      2  76.0                  2   \n",
       "4   5  1                      1  76.0                  2   \n",
       "\n",
       "   Severity\\n1.mild/moderate\\n2.severe    PT  Platelet   FDP  SIRS_t1  ...  \\\n",
       "0                                    2  1.17      41.0  17.0        2  ...   \n",
       "1                                    2  1.95      23.0  18.7        3  ...   \n",
       "2                                    2  1.83      57.0  22.9        3  ...   \n",
       "3                                    2  1.23      66.0  23.4        2  ...   \n",
       "4                                    2  1.08      44.0   3.9        4  ...   \n",
       "\n",
       "   SOFA\\ncardiovascular\\n0-1-2  SOFA\\nCNS  SOFA\\nrenal  SOFA\\nrenal\\n0-1-2  \\\n",
       "0                          2.0        NaN            0                 NaN   \n",
       "1                          2.0        3.0            2                 2.0   \n",
       "2                          NaN        3.0            0                 NaN   \n",
       "3                          2.0        4.0            4                 2.0   \n",
       "4                          1.0        2.0            3                 2.0   \n",
       "\n",
       "   Total SOFA\\n(4 items)  SIC score\\n(PT+PLT)  \\\n",
       "0                      5                    2   \n",
       "1                      8                    4   \n",
       "2                      2                    4   \n",
       "3                      8                    3   \n",
       "4                      3                    2   \n",
       "\n",
       "   SIC score（PT+PLT+\\n Total SOFA）  SIC\\n1.positive\\n2.negative  Unnamed: 27  \\\n",
       "0                                4                            2          NaN   \n",
       "1                                6                            1          NaN   \n",
       "2                                6                            1          NaN   \n",
       "3                                5                            1          NaN   \n",
       "4                                4                            2          NaN   \n",
       "\n",
       "   Unnamed: 28  \n",
       "0          NaN  \n",
       "1          NaN  \n",
       "2          NaN  \n",
       "3          NaN  \n",
       "4          NaN  \n",
       "\n",
       "[5 rows x 29 columns]"
      ]
     },
     "execution_count": 3,
     "metadata": {},
     "output_type": "execute_result"
    }
   ],
   "source": [
    "df = pd.read_csv(\"coag.csv\")\n",
    "df.head()"
   ]
  },
  {
   "cell_type": "code",
   "execution_count": 4,
   "metadata": {
    "scrolled": true
   },
   "outputs": [
    {
     "name": "stdout",
     "output_type": "stream",
     "text": [
      "<class 'pandas.core.frame.DataFrame'>\n",
      "RangeIndex: 1498 entries, 0 to 1497\n",
      "Data columns (total 29 columns):\n",
      "NO                                        1498 non-null int64\n",
      "Y                                         1498 non-null int64\n",
      "Sex\n",
      "1.Male\n",
      "2.Female                       1498 non-null int64\n",
      "Age                                       1494 non-null float64\n",
      "Before\n",
      "treatment                          1498 non-null int64\n",
      "Severity\n",
      "1.mild/moderate\n",
      "2.severe         1498 non-null int64\n",
      "PT                                        1498 non-null object\n",
      "Platelet                                  1498 non-null float64\n",
      "FDP                                       1303 non-null float64\n",
      "SIRS_t1                                   1498 non-null int64\n",
      "SIRS\n",
      "3 or more\n",
      "1. positive\n",
      "2. negative    1498 non-null int64\n",
      "JAAM DIC\n",
      "score                            1498 non-null int64\n",
      "JAAM\n",
      "DIC\n",
      "1.positive\n",
      "2.negative            1498 non-null int64\n",
      "SOFA\n",
      "respiratory                          1498 non-null int64\n",
      "SOFA\n",
      "respiratory\n",
      "0-1-2                    1262 non-null float64\n",
      "SOFA\n",
      "coagulation                          1498 non-null int64\n",
      "SOFA\n",
      "hepatic                              1498 non-null int64\n",
      "SOFA\n",
      "hepatic\n",
      "0-1-2                        783 non-null float64\n",
      "SOFA\n",
      "cardiovascular                       1498 non-null int64\n",
      "SOFA\n",
      "cardiovascular\n",
      "0-1-2                 1128 non-null float64\n",
      "SOFA\n",
      "CNS                                  1160 non-null float64\n",
      "SOFA\n",
      "renal                                1498 non-null int64\n",
      "SOFA\n",
      "renal\n",
      "0-1-2                          894 non-null float64\n",
      "Total SOFA\n",
      "(4 items)                      1498 non-null int64\n",
      "SIC score\n",
      "(PT+PLT)                        1498 non-null int64\n",
      "SIC score（PT+PLT+\n",
      " Total SOFA）            1498 non-null int64\n",
      "SIC\n",
      "1.positive\n",
      "2.negative                 1498 non-null int64\n",
      "Unnamed: 27                               0 non-null float64\n",
      "Unnamed: 28                               0 non-null float64\n",
      "dtypes: float64(10), int64(18), object(1)\n",
      "memory usage: 339.5+ KB\n"
     ]
    }
   ],
   "source": [
    "df.info()"
   ]
  },
  {
   "cell_type": "markdown",
   "metadata": {},
   "source": [
    "## Data Cleaning"
   ]
  },
  {
   "cell_type": "code",
   "execution_count": 5,
   "metadata": {},
   "outputs": [],
   "source": [
    "target = 'Y'"
   ]
  },
  {
   "cell_type": "markdown",
   "metadata": {},
   "source": [
    "### Replace empty or errors by np.nan"
   ]
  },
  {
   "cell_type": "code",
   "execution_count": 6,
   "metadata": {},
   "outputs": [],
   "source": [
    "# replace empty/erros by np.nan\n",
    "df = df.replace(r'^\\s+$', np.nan, regex=True)\n",
    "df = df.replace('\\t','',regex=True)\n",
    "df = df.replace(' ','',regex=True)\n",
    "df = df.replace('\\?',np.nan,regex=True)\n",
    "df = df.replace('\\<',np.nan,regex=True)\n",
    "df = df.replace('#NULL!',np.nan,regex=True)\n",
    "#df = df.replace('99',np.nan,regex=True)\n",
    "#df = df.replace(99,np.nan,regex=True)\n",
    "#df"
   ]
  },
  {
   "cell_type": "markdown",
   "metadata": {},
   "source": [
    "### Remove outliers"
   ]
  },
  {
   "cell_type": "code",
   "execution_count": 7,
   "metadata": {
    "scrolled": true
   },
   "outputs": [
    {
     "data": {
      "text/html": [
       "<div>\n",
       "<style scoped>\n",
       "    .dataframe tbody tr th:only-of-type {\n",
       "        vertical-align: middle;\n",
       "    }\n",
       "\n",
       "    .dataframe tbody tr th {\n",
       "        vertical-align: top;\n",
       "    }\n",
       "\n",
       "    .dataframe thead th {\n",
       "        text-align: right;\n",
       "    }\n",
       "</style>\n",
       "<table border=\"1\" class=\"dataframe\">\n",
       "  <thead>\n",
       "    <tr style=\"text-align: right;\">\n",
       "      <th></th>\n",
       "      <th>Y</th>\n",
       "      <th>Sex\n",
       "1.Male\n",
       "2.Female</th>\n",
       "      <th>Age</th>\n",
       "      <th>Before\n",
       "treatment</th>\n",
       "      <th>Severity\n",
       "1.mild/moderate\n",
       "2.severe</th>\n",
       "      <th>Platelet</th>\n",
       "      <th>FDP</th>\n",
       "      <th>SIRS_t1</th>\n",
       "      <th>SIRS\n",
       "3 or more\n",
       "1. positive\n",
       "2. negative</th>\n",
       "      <th>JAAM DIC\n",
       "score</th>\n",
       "      <th>...</th>\n",
       "      <th>SOFA\n",
       "cardiovascular\n",
       "0-1-2</th>\n",
       "      <th>SOFA\n",
       "CNS</th>\n",
       "      <th>SOFA\n",
       "renal</th>\n",
       "      <th>SOFA\n",
       "renal\n",
       "0-1-2</th>\n",
       "      <th>Total SOFA\n",
       "(4 items)</th>\n",
       "      <th>SIC score\n",
       "(PT+PLT)</th>\n",
       "      <th>SIC score（PT+PLT+\n",
       " Total SOFA）</th>\n",
       "      <th>SIC\n",
       "1.positive\n",
       "2.negative</th>\n",
       "      <th>Unnamed: 27</th>\n",
       "      <th>Unnamed: 28</th>\n",
       "    </tr>\n",
       "  </thead>\n",
       "  <tbody>\n",
       "    <tr>\n",
       "      <th>0</th>\n",
       "      <td>1</td>\n",
       "      <td>1</td>\n",
       "      <td>72.0</td>\n",
       "      <td>1</td>\n",
       "      <td>2</td>\n",
       "      <td>41.0</td>\n",
       "      <td>17.0</td>\n",
       "      <td>2</td>\n",
       "      <td>2</td>\n",
       "      <td>4</td>\n",
       "      <td>...</td>\n",
       "      <td>2.0</td>\n",
       "      <td>NaN</td>\n",
       "      <td>0</td>\n",
       "      <td>NaN</td>\n",
       "      <td>5</td>\n",
       "      <td>2</td>\n",
       "      <td>4</td>\n",
       "      <td>2</td>\n",
       "      <td>NaN</td>\n",
       "      <td>NaN</td>\n",
       "    </tr>\n",
       "    <tr>\n",
       "      <th>1</th>\n",
       "      <td>1</td>\n",
       "      <td>2</td>\n",
       "      <td>76.0</td>\n",
       "      <td>1</td>\n",
       "      <td>2</td>\n",
       "      <td>23.0</td>\n",
       "      <td>18.7</td>\n",
       "      <td>3</td>\n",
       "      <td>1</td>\n",
       "      <td>6</td>\n",
       "      <td>...</td>\n",
       "      <td>2.0</td>\n",
       "      <td>3.0</td>\n",
       "      <td>2</td>\n",
       "      <td>2.0</td>\n",
       "      <td>8</td>\n",
       "      <td>4</td>\n",
       "      <td>6</td>\n",
       "      <td>1</td>\n",
       "      <td>NaN</td>\n",
       "      <td>NaN</td>\n",
       "    </tr>\n",
       "    <tr>\n",
       "      <th>2</th>\n",
       "      <td>2</td>\n",
       "      <td>1</td>\n",
       "      <td>93.0</td>\n",
       "      <td>2</td>\n",
       "      <td>2</td>\n",
       "      <td>57.0</td>\n",
       "      <td>22.9</td>\n",
       "      <td>3</td>\n",
       "      <td>1</td>\n",
       "      <td>6</td>\n",
       "      <td>...</td>\n",
       "      <td>NaN</td>\n",
       "      <td>3.0</td>\n",
       "      <td>0</td>\n",
       "      <td>NaN</td>\n",
       "      <td>2</td>\n",
       "      <td>4</td>\n",
       "      <td>6</td>\n",
       "      <td>1</td>\n",
       "      <td>NaN</td>\n",
       "      <td>NaN</td>\n",
       "    </tr>\n",
       "    <tr>\n",
       "      <th>3</th>\n",
       "      <td>1</td>\n",
       "      <td>2</td>\n",
       "      <td>76.0</td>\n",
       "      <td>2</td>\n",
       "      <td>2</td>\n",
       "      <td>66.0</td>\n",
       "      <td>23.4</td>\n",
       "      <td>2</td>\n",
       "      <td>2</td>\n",
       "      <td>5</td>\n",
       "      <td>...</td>\n",
       "      <td>2.0</td>\n",
       "      <td>4.0</td>\n",
       "      <td>4</td>\n",
       "      <td>2.0</td>\n",
       "      <td>8</td>\n",
       "      <td>3</td>\n",
       "      <td>5</td>\n",
       "      <td>1</td>\n",
       "      <td>NaN</td>\n",
       "      <td>NaN</td>\n",
       "    </tr>\n",
       "    <tr>\n",
       "      <th>4</th>\n",
       "      <td>1</td>\n",
       "      <td>1</td>\n",
       "      <td>76.0</td>\n",
       "      <td>2</td>\n",
       "      <td>2</td>\n",
       "      <td>44.0</td>\n",
       "      <td>3.9</td>\n",
       "      <td>4</td>\n",
       "      <td>1</td>\n",
       "      <td>4</td>\n",
       "      <td>...</td>\n",
       "      <td>1.0</td>\n",
       "      <td>2.0</td>\n",
       "      <td>3</td>\n",
       "      <td>2.0</td>\n",
       "      <td>3</td>\n",
       "      <td>2</td>\n",
       "      <td>4</td>\n",
       "      <td>2</td>\n",
       "      <td>NaN</td>\n",
       "      <td>NaN</td>\n",
       "    </tr>\n",
       "  </tbody>\n",
       "</table>\n",
       "<p>5 rows × 27 columns</p>\n",
       "</div>"
      ],
      "text/plain": [
       "   Y  Sex\\n1.Male\\n2.Female   Age  Before\\ntreatment  \\\n",
       "0  1                      1  72.0                  1   \n",
       "1  1                      2  76.0                  1   \n",
       "2  2                      1  93.0                  2   \n",
       "3  1                      2  76.0                  2   \n",
       "4  1                      1  76.0                  2   \n",
       "\n",
       "   Severity\\n1.mild/moderate\\n2.severe  Platelet   FDP  SIRS_t1  \\\n",
       "0                                    2      41.0  17.0        2   \n",
       "1                                    2      23.0  18.7        3   \n",
       "2                                    2      57.0  22.9        3   \n",
       "3                                    2      66.0  23.4        2   \n",
       "4                                    2      44.0   3.9        4   \n",
       "\n",
       "   SIRS\\n3 or more\\n1. positive\\n2. negative  JAAM DIC\\nscore  ...  \\\n",
       "0                                          2                4  ...   \n",
       "1                                          1                6  ...   \n",
       "2                                          1                6  ...   \n",
       "3                                          2                5  ...   \n",
       "4                                          1                4  ...   \n",
       "\n",
       "   SOFA\\ncardiovascular\\n0-1-2  SOFA\\nCNS  SOFA\\nrenal  SOFA\\nrenal\\n0-1-2  \\\n",
       "0                          2.0        NaN            0                 NaN   \n",
       "1                          2.0        3.0            2                 2.0   \n",
       "2                          NaN        3.0            0                 NaN   \n",
       "3                          2.0        4.0            4                 2.0   \n",
       "4                          1.0        2.0            3                 2.0   \n",
       "\n",
       "   Total SOFA\\n(4 items)  SIC score\\n(PT+PLT)  \\\n",
       "0                      5                    2   \n",
       "1                      8                    4   \n",
       "2                      2                    4   \n",
       "3                      8                    3   \n",
       "4                      3                    2   \n",
       "\n",
       "   SIC score（PT+PLT+\\n Total SOFA）  SIC\\n1.positive\\n2.negative  Unnamed: 27  \\\n",
       "0                                4                            2          NaN   \n",
       "1                                6                            1          NaN   \n",
       "2                                6                            1          NaN   \n",
       "3                                5                            1          NaN   \n",
       "4                                4                            2          NaN   \n",
       "\n",
       "   Unnamed: 28  \n",
       "0          NaN  \n",
       "1          NaN  \n",
       "2          NaN  \n",
       "3          NaN  \n",
       "4          NaN  \n",
       "\n",
       "[5 rows x 27 columns]"
      ]
     },
     "execution_count": 7,
     "metadata": {},
     "output_type": "execute_result"
    }
   ],
   "source": [
    "# Drop the column outliers as it is unrelated to the dependent variable\n",
    "outliers = ['NO','PT']\n",
    "df = df.drop(outliers,axis=1)\n",
    "df.head()"
   ]
  },
  {
   "cell_type": "markdown",
   "metadata": {},
   "source": [
    "### Remove bad columns"
   ]
  },
  {
   "cell_type": "code",
   "execution_count": 8,
   "metadata": {},
   "outputs": [],
   "source": [
    "def remove_bad_columns(df,bad_column_threshold):\n",
    "    # find bad columns having too many missing values\n",
    "    n_null = np.array(df.isnull().sum(axis=0))\n",
    "    bad_col = np.array([]).astype(int)\n",
    "    for i in range(len(n_null)):\n",
    "        if n_null[i] >= bad_column_threshold:\n",
    "            bad_col = np.append(bad_col,i)\n",
    "\n",
    "    #print(bad_col)\n",
    "    print('number of bad columns:',len(bad_col))\n",
    "\n",
    "    # delete bad columns\n",
    "    df = df.drop(df.columns[bad_col],axis=1)\n",
    "    #df.info()\n",
    "    return df  "
   ]
  },
  {
   "cell_type": "code",
   "execution_count": 9,
   "metadata": {},
   "outputs": [
    {
     "name": "stdout",
     "output_type": "stream",
     "text": [
      "number of bad columns: 7\n",
      "<class 'pandas.core.frame.DataFrame'>\n",
      "RangeIndex: 1498 entries, 0 to 1497\n",
      "Data columns (total 20 columns):\n",
      "Y                                         1498 non-null int64\n",
      "Sex\n",
      "1.Male\n",
      "2.Female                       1498 non-null int64\n",
      "Age                                       1494 non-null float64\n",
      "Before\n",
      "treatment                          1498 non-null int64\n",
      "Severity\n",
      "1.mild/moderate\n",
      "2.severe         1498 non-null int64\n",
      "Platelet                                  1498 non-null float64\n",
      "FDP                                       1303 non-null float64\n",
      "SIRS_t1                                   1498 non-null int64\n",
      "SIRS\n",
      "3 or more\n",
      "1. positive\n",
      "2. negative    1498 non-null int64\n",
      "JAAM DIC\n",
      "score                            1498 non-null int64\n",
      "JAAM\n",
      "DIC\n",
      "1.positive\n",
      "2.negative            1498 non-null int64\n",
      "SOFA\n",
      "respiratory                          1498 non-null int64\n",
      "SOFA\n",
      "coagulation                          1498 non-null int64\n",
      "SOFA\n",
      "hepatic                              1498 non-null int64\n",
      "SOFA\n",
      "cardiovascular                       1498 non-null int64\n",
      "SOFA\n",
      "renal                                1498 non-null int64\n",
      "Total SOFA\n",
      "(4 items)                      1498 non-null int64\n",
      "SIC score\n",
      "(PT+PLT)                        1498 non-null int64\n",
      "SIC score（PT+PLT+\n",
      " Total SOFA）            1498 non-null int64\n",
      "SIC\n",
      "1.positive\n",
      "2.negative                 1498 non-null int64\n",
      "dtypes: float64(3), int64(17)\n",
      "memory usage: 234.1 KB\n"
     ]
    }
   ],
   "source": [
    "df = remove_bad_columns(df,200)\n",
    "df.info()"
   ]
  },
  {
   "cell_type": "markdown",
   "metadata": {},
   "source": [
    "### Remove bad rows"
   ]
  },
  {
   "cell_type": "code",
   "execution_count": 10,
   "metadata": {},
   "outputs": [],
   "source": [
    " # Find rows where target is missing\n",
    "def find_missing_target_rows(df,target):\n",
    "    # find rows where target is missing\n",
    "    missing_row = df[target].isnull()\n",
    "    print('Number of rows where target are missing:')\n",
    "    print(sum(missing_row))\n",
    "\n",
    "    #df = df[~missing_row]\n",
    "    missing_row_indices = np.array([t for t in range(df.shape[0]) if missing_row[t]])\n",
    "    \n",
    "    return missing_row_indices"
   ]
  },
  {
   "cell_type": "code",
   "execution_count": 11,
   "metadata": {},
   "outputs": [
    {
     "name": "stdout",
     "output_type": "stream",
     "text": [
      "Number of rows where target are missing:\n",
      "0\n"
     ]
    }
   ],
   "source": [
    "missing_target_rows = find_missing_target_rows(df,target)"
   ]
  },
  {
   "cell_type": "markdown",
   "metadata": {},
   "source": [
    "We find bad rows which contain too many missing values, then remove them."
   ]
  },
  {
   "cell_type": "code",
   "execution_count": 12,
   "metadata": {},
   "outputs": [],
   "source": [
    "def find_bad_rows(df,bad_row_threshold):   \n",
    "    # find bad rows having too many missing values\n",
    "    n_null = np.array(df.isnull().sum(axis=1))\n",
    "    bad_row = np.array([]).astype(int)\n",
    "    for t in range(len(n_null)):\n",
    "        if n_null[t] >= bad_row_threshold:\n",
    "            bad_row = np.append(bad_row,t)\n",
    "\n",
    "    #print(bad_row)\n",
    "    print('number of bad rows:',len(bad_row))\n",
    "\n",
    "    # delete bad rows\n",
    "    #df = df.drop(bad_row)\n",
    "    #df.info()\n",
    "    return bad_row"
   ]
  },
  {
   "cell_type": "code",
   "execution_count": 13,
   "metadata": {},
   "outputs": [
    {
     "name": "stdout",
     "output_type": "stream",
     "text": [
      "number of bad rows: 0\n",
      "<class 'pandas.core.frame.DataFrame'>\n",
      "RangeIndex: 1498 entries, 0 to 1497\n",
      "Data columns (total 20 columns):\n",
      "Y                                         1498 non-null int64\n",
      "Sex\n",
      "1.Male\n",
      "2.Female                       1498 non-null int64\n",
      "Age                                       1494 non-null float64\n",
      "Before\n",
      "treatment                          1498 non-null int64\n",
      "Severity\n",
      "1.mild/moderate\n",
      "2.severe         1498 non-null int64\n",
      "Platelet                                  1498 non-null float64\n",
      "FDP                                       1303 non-null float64\n",
      "SIRS_t1                                   1498 non-null int64\n",
      "SIRS\n",
      "3 or more\n",
      "1. positive\n",
      "2. negative    1498 non-null int64\n",
      "JAAM DIC\n",
      "score                            1498 non-null int64\n",
      "JAAM\n",
      "DIC\n",
      "1.positive\n",
      "2.negative            1498 non-null int64\n",
      "SOFA\n",
      "respiratory                          1498 non-null int64\n",
      "SOFA\n",
      "coagulation                          1498 non-null int64\n",
      "SOFA\n",
      "hepatic                              1498 non-null int64\n",
      "SOFA\n",
      "cardiovascular                       1498 non-null int64\n",
      "SOFA\n",
      "renal                                1498 non-null int64\n",
      "Total SOFA\n",
      "(4 items)                      1498 non-null int64\n",
      "SIC score\n",
      "(PT+PLT)                        1498 non-null int64\n",
      "SIC score（PT+PLT+\n",
      " Total SOFA）            1498 non-null int64\n",
      "SIC\n",
      "1.positive\n",
      "2.negative                 1498 non-null int64\n",
      "dtypes: float64(3), int64(17)\n",
      "memory usage: 234.1 KB\n"
     ]
    }
   ],
   "source": [
    "bad_rows = find_bad_rows(df,5)\n",
    "df.info()"
   ]
  },
  {
   "cell_type": "code",
   "execution_count": 14,
   "metadata": {},
   "outputs": [
    {
     "name": "stdout",
     "output_type": "stream",
     "text": [
      "number of rows need to delete: 0\n"
     ]
    }
   ],
   "source": [
    "del_rows = np.union1d(missing_target_rows,bad_rows)\n",
    "print('number of rows need to delete:',len(del_rows))\n",
    "\n",
    "df = df.drop(del_rows)"
   ]
  },
  {
   "cell_type": "markdown",
   "metadata": {},
   "source": [
    "### Separate target and attributes"
   ]
  },
  {
   "cell_type": "code",
   "execution_count": 15,
   "metadata": {},
   "outputs": [],
   "source": [
    "dfx = df.drop(target,axis=1)\n",
    "dfy = df[target]"
   ]
  },
  {
   "cell_type": "markdown",
   "metadata": {},
   "source": [
    "### Find variable type"
   ]
  },
  {
   "cell_type": "code",
   "execution_count": 16,
   "metadata": {
    "scrolled": false
   },
   "outputs": [
    {
     "name": "stdout",
     "output_type": "stream",
     "text": [
      "number of uniques of each variable:\n",
      "[  2  97   2   2 236 688   5   2   9   2   5   5   5   5   5   9   5   7\n",
      "   2]\n"
     ]
    }
   ],
   "source": [
    "# number of uniques of each column (excluding NaN)\n",
    "nu = np.array([len(pd.unique(dfx[col].dropna())) for col in dfx.columns])\n",
    "print('number of uniques of each variable:')\n",
    "print(nu)"
   ]
  },
  {
   "cell_type": "code",
   "execution_count": 17,
   "metadata": {
    "scrolled": true
   },
   "outputs": [],
   "source": [
    "def define_variable_type(df,nu):\n",
    "    i_binary = [] ; i_category = [] ; i_continuous = []\n",
    "    for i in range(len(nu)):\n",
    "        if nu[i] == 2: # binary \n",
    "            i_binary.append(i)\n",
    "        elif nu[i] < 5: # !!!! NOTE: this is not always correct, depending on data\n",
    "            i_category.append(i)\n",
    "        else:\n",
    "            i_continuous.append(i)\n",
    "\n",
    "    print('i_binary:',i_binary)\n",
    "    print('i_category:',i_category)   \n",
    "    #i_binary, i_category, i_continuous\n",
    "    \n",
    "    variable_type  = np.ones(len(nu))  # binary\n",
    "    variable_type[i_category] = 2   # categorical\n",
    "    variable_type[i_continuous] = 3 # continuous\n",
    "\n",
    "    return variable_type #,i_binary,i_category,i_continuous"
   ]
  },
  {
   "cell_type": "code",
   "execution_count": 18,
   "metadata": {
    "scrolled": true
   },
   "outputs": [
    {
     "name": "stdout",
     "output_type": "stream",
     "text": [
      "i_binary: [0, 2, 3, 7, 9, 18]\n",
      "i_category: []\n",
      "variable type: [1. 3. 1. 1. 3. 3. 3. 1. 3. 1. 3. 3. 3. 3. 3. 3. 3. 3. 1.]\n"
     ]
    }
   ],
   "source": [
    "variable_type = define_variable_type(dfx,nu)\n",
    "print('variable type:',variable_type)"
   ]
  },
  {
   "cell_type": "markdown",
   "metadata": {},
   "source": [
    "### Impute missing values of attributes"
   ]
  },
  {
   "cell_type": "code",
   "execution_count": 19,
   "metadata": {},
   "outputs": [],
   "source": [
    "def impute_missing(df,variable_type):\n",
    "    # impute binary and categorical variables by the most frequency (in each column)\n",
    "    # continuous variable by median\n",
    "    # input: df: pandas data frame, variable_type: list\n",
    "    # output: df2: pandas data frame\n",
    "    df2 = df.copy()\n",
    "    for i,col in enumerate(df.columns):\n",
    "        if variable_type[i] < 3: # binary or caterogy\n",
    "            df2[col] = df[col].fillna(df[col].mode().iloc[0])\n",
    "        else: # continuous\n",
    "            df2[col] = df[col].fillna(df[col].median())    \n",
    "    return df2       "
   ]
  },
  {
   "cell_type": "code",
   "execution_count": 20,
   "metadata": {
    "scrolled": false
   },
   "outputs": [
    {
     "name": "stdout",
     "output_type": "stream",
     "text": [
      "<class 'pandas.core.frame.DataFrame'>\n",
      "Int64Index: 1498 entries, 0 to 1497\n",
      "Data columns (total 19 columns):\n",
      "Sex\n",
      "1.Male\n",
      "2.Female                       1498 non-null int64\n",
      "Age                                       1498 non-null float64\n",
      "Before\n",
      "treatment                          1498 non-null int64\n",
      "Severity\n",
      "1.mild/moderate\n",
      "2.severe         1498 non-null int64\n",
      "Platelet                                  1498 non-null float64\n",
      "FDP                                       1498 non-null float64\n",
      "SIRS_t1                                   1498 non-null int64\n",
      "SIRS\n",
      "3 or more\n",
      "1. positive\n",
      "2. negative    1498 non-null int64\n",
      "JAAM DIC\n",
      "score                            1498 non-null int64\n",
      "JAAM\n",
      "DIC\n",
      "1.positive\n",
      "2.negative            1498 non-null int64\n",
      "SOFA\n",
      "respiratory                          1498 non-null int64\n",
      "SOFA\n",
      "coagulation                          1498 non-null int64\n",
      "SOFA\n",
      "hepatic                              1498 non-null int64\n",
      "SOFA\n",
      "cardiovascular                       1498 non-null int64\n",
      "SOFA\n",
      "renal                                1498 non-null int64\n",
      "Total SOFA\n",
      "(4 items)                      1498 non-null int64\n",
      "SIC score\n",
      "(PT+PLT)                        1498 non-null int64\n",
      "SIC score（PT+PLT+\n",
      " Total SOFA）            1498 non-null int64\n",
      "SIC\n",
      "1.positive\n",
      "2.negative                 1498 non-null int64\n",
      "dtypes: float64(3), int64(16)\n",
      "memory usage: 234.1 KB\n"
     ]
    }
   ],
   "source": [
    "dfx_imputed = impute_missing(dfx,variable_type)\n",
    "dfx_imputed.info()"
   ]
  },
  {
   "cell_type": "markdown",
   "metadata": {},
   "source": [
    "## Data Processing"
   ]
  },
  {
   "cell_type": "markdown",
   "metadata": {},
   "source": [
    "### Attributes"
   ]
  },
  {
   "cell_type": "code",
   "execution_count": 21,
   "metadata": {},
   "outputs": [],
   "source": [
    "def convert_binary_and_category(x,variable_type):\n",
    "    \"\"\"\n",
    "    convert binary to +-1, category to one hot; remain continuous.\n",
    "    \"\"\"    \n",
    "    onehot_encoder = OneHotEncoder(sparse=False,categories='auto')\n",
    "\n",
    "    # create 2 initial columns\n",
    "    x_new = np.zeros((x.shape[0],2))\n",
    "\n",
    "    for i,i_type in enumerate(variable_type):\n",
    "        if i_type == 1: # binary\n",
    "            unique_value = np.unique(x[:,i])\n",
    "            x1 = np.array([-1. if value == unique_value[0] else 1. for value in x[:,i]])        \n",
    "            x_new = np.hstack((x_new,x1[:,np.newaxis]))\n",
    "\n",
    "        elif i_type == 2: # category\n",
    "            x1 = onehot_encoder.fit_transform(x[:,i].reshape(-1,1))\n",
    "            x_new = np.hstack((x_new,x1))\n",
    "            \n",
    "        else: # continuous      \n",
    "            x_new = np.hstack((x_new,x[:,i][:,np.newaxis]))      \n",
    "\n",
    "    # drop the 2 initial column\n",
    "    x_new = x_new[:,2:]\n",
    "    \n",
    "    return x_new.astype(float)"
   ]
  },
  {
   "cell_type": "code",
   "execution_count": 22,
   "metadata": {},
   "outputs": [
    {
     "name": "stdout",
     "output_type": "stream",
     "text": [
      "(1498, 19)\n",
      "[[-1. 72. -1. ...  2.  4.  1.]\n",
      " [ 1. 76. -1. ...  4.  6. -1.]\n",
      " [-1. 93.  1. ...  4.  6. -1.]\n",
      " ...\n",
      " [-1. 65. -1. ...  2.  4.  1.]\n",
      " [-1. 80. -1. ...  4.  6. -1.]\n",
      " [-1. 82. -1. ...  4.  6. -1.]]\n"
     ]
    }
   ],
   "source": [
    "# convert x\n",
    "x = np.array(dfx_imputed)\n",
    "x_new = convert_binary_and_category(x,variable_type)\n",
    "\n",
    "print(x_new.shape)\n",
    "print(x_new)"
   ]
  },
  {
   "cell_type": "markdown",
   "metadata": {},
   "source": [
    "### Target"
   ]
  },
  {
   "cell_type": "code",
   "execution_count": 23,
   "metadata": {},
   "outputs": [
    {
     "name": "stdout",
     "output_type": "stream",
     "text": [
      "(array([0., 1.]), array([504, 994]))\n"
     ]
    }
   ],
   "source": [
    "y = np.array(dfy)\n",
    "#print(np.unique(y,return_counts=True))\n",
    "\n",
    "# convert taget to 0 and 1\n",
    "#y_new = y\n",
    "\n",
    "y_new = np.ones(y.shape[0])\n",
    "y_new[y == 2] = 0\n",
    "\n",
    "print(np.unique(y_new,return_counts=True))"
   ]
  },
  {
   "cell_type": "code",
   "execution_count": 24,
   "metadata": {},
   "outputs": [],
   "source": [
    "# combine X and y and save to a file\n",
    "xy_new = np.hstack((x_new,y_new[:,np.newaxis]))\n",
    "np.savetxt('data_processed.dat',xy_new,fmt='%f')"
   ]
  },
  {
   "cell_type": "code",
   "execution_count": null,
   "metadata": {},
   "outputs": [],
   "source": []
  }
 ],
 "metadata": {
  "kernelspec": {
   "display_name": "Python 3",
   "language": "python",
   "name": "python3"
  },
  "language_info": {
   "codemirror_mode": {
    "name": "ipython",
    "version": 3
   },
   "file_extension": ".py",
   "mimetype": "text/x-python",
   "name": "python",
   "nbconvert_exporter": "python",
   "pygments_lexer": "ipython3",
   "version": "3.7.3"
  }
 },
 "nbformat": 4,
 "nbformat_minor": 2
}
