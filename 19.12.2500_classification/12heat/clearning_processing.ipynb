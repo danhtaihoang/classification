{
 "cells": [
  {
   "cell_type": "code",
   "execution_count": 1,
   "metadata": {},
   "outputs": [],
   "source": [
    "import numpy as np\n",
    "import pandas as pd\n",
    "from sklearn.preprocessing import OneHotEncoder"
   ]
  },
  {
   "cell_type": "code",
   "execution_count": 2,
   "metadata": {},
   "outputs": [],
   "source": [
    "np.random.seed(1)"
   ]
  },
  {
   "cell_type": "code",
   "execution_count": 3,
   "metadata": {
    "scrolled": false
   },
   "outputs": [
    {
     "data": {
      "text/html": [
       "<div>\n",
       "<style scoped>\n",
       "    .dataframe tbody tr th:only-of-type {\n",
       "        vertical-align: middle;\n",
       "    }\n",
       "\n",
       "    .dataframe tbody tr th {\n",
       "        vertical-align: top;\n",
       "    }\n",
       "\n",
       "    .dataframe thead th {\n",
       "        text-align: right;\n",
       "    }\n",
       "</style>\n",
       "<table border=\"1\" class=\"dataframe\">\n",
       "  <thead>\n",
       "    <tr style=\"text-align: right;\">\n",
       "      <th></th>\n",
       "      <th>Sex_1male_2female</th>\n",
       "      <th>Age</th>\n",
       "      <th>Weather_1sunny_2cloudy_3rainy_4missing</th>\n",
       "      <th>Location_1outdoor_indoor</th>\n",
       "      <th>Functionaldependency_1notdisable_2disable</th>\n",
       "      <th>HT</th>\n",
       "      <th>HeartDisease</th>\n",
       "      <th>Pscyco</th>\n",
       "      <th>DM</th>\n",
       "      <th>CerevD</th>\n",
       "      <th>...</th>\n",
       "      <th>Plt</th>\n",
       "      <th>BUN</th>\n",
       "      <th>Cre</th>\n",
       "      <th>AST</th>\n",
       "      <th>ALT</th>\n",
       "      <th>CK</th>\n",
       "      <th>CRP</th>\n",
       "      <th>Admission1</th>\n",
       "      <th>ICU</th>\n",
       "      <th>Deadtodischarge</th>\n",
       "    </tr>\n",
       "  </thead>\n",
       "  <tbody>\n",
       "    <tr>\n",
       "      <th>0</th>\n",
       "      <td>1.0</td>\n",
       "      <td>24.0</td>\n",
       "      <td>3.0</td>\n",
       "      <td>NaN</td>\n",
       "      <td>1.0</td>\n",
       "      <td>0.0</td>\n",
       "      <td>0.0</td>\n",
       "      <td>0.0</td>\n",
       "      <td>0.0</td>\n",
       "      <td>0.0</td>\n",
       "      <td>...</td>\n",
       "      <td>23.2</td>\n",
       "      <td>17.0</td>\n",
       "      <td>1.69</td>\n",
       "      <td>29.0</td>\n",
       "      <td>48.0</td>\n",
       "      <td>506.0</td>\n",
       "      <td>17.4</td>\n",
       "      <td>1.0</td>\n",
       "      <td>NaN</td>\n",
       "      <td>NaN</td>\n",
       "    </tr>\n",
       "    <tr>\n",
       "      <th>1</th>\n",
       "      <td>NaN</td>\n",
       "      <td>43.0</td>\n",
       "      <td>NaN</td>\n",
       "      <td>1.0</td>\n",
       "      <td>NaN</td>\n",
       "      <td>0.0</td>\n",
       "      <td>0.0</td>\n",
       "      <td>0.0</td>\n",
       "      <td>0.0</td>\n",
       "      <td>0.0</td>\n",
       "      <td>...</td>\n",
       "      <td>24.3</td>\n",
       "      <td>23.1</td>\n",
       "      <td>3.08</td>\n",
       "      <td>36.0</td>\n",
       "      <td>35.0</td>\n",
       "      <td>883.0</td>\n",
       "      <td>0.46</td>\n",
       "      <td>1.0</td>\n",
       "      <td>NaN</td>\n",
       "      <td>NaN</td>\n",
       "    </tr>\n",
       "    <tr>\n",
       "      <th>2</th>\n",
       "      <td>1.0</td>\n",
       "      <td>58.0</td>\n",
       "      <td>NaN</td>\n",
       "      <td>1.0</td>\n",
       "      <td>1.0</td>\n",
       "      <td>0.0</td>\n",
       "      <td>0.0</td>\n",
       "      <td>0.0</td>\n",
       "      <td>0.0</td>\n",
       "      <td>0.0</td>\n",
       "      <td>...</td>\n",
       "      <td>31.2</td>\n",
       "      <td>19.4</td>\n",
       "      <td>1.42</td>\n",
       "      <td>33.0</td>\n",
       "      <td>16.0</td>\n",
       "      <td>815.0</td>\n",
       "      <td>0.16</td>\n",
       "      <td>1.0</td>\n",
       "      <td>NaN</td>\n",
       "      <td>NaN</td>\n",
       "    </tr>\n",
       "    <tr>\n",
       "      <th>3</th>\n",
       "      <td>1.0</td>\n",
       "      <td>46.0</td>\n",
       "      <td>1.0</td>\n",
       "      <td>1.0</td>\n",
       "      <td>1.0</td>\n",
       "      <td>0.0</td>\n",
       "      <td>0.0</td>\n",
       "      <td>0.0</td>\n",
       "      <td>0.0</td>\n",
       "      <td>0.0</td>\n",
       "      <td>...</td>\n",
       "      <td>33.3</td>\n",
       "      <td>32.9</td>\n",
       "      <td>4.20</td>\n",
       "      <td>33.0</td>\n",
       "      <td>54.0</td>\n",
       "      <td>173.0</td>\n",
       "      <td>1</td>\n",
       "      <td>1.0</td>\n",
       "      <td>NaN</td>\n",
       "      <td>NaN</td>\n",
       "    </tr>\n",
       "    <tr>\n",
       "      <th>4</th>\n",
       "      <td>1.0</td>\n",
       "      <td>57.0</td>\n",
       "      <td>1.0</td>\n",
       "      <td>1.0</td>\n",
       "      <td>1.0</td>\n",
       "      <td>0.0</td>\n",
       "      <td>0.0</td>\n",
       "      <td>0.0</td>\n",
       "      <td>0.0</td>\n",
       "      <td>0.0</td>\n",
       "      <td>...</td>\n",
       "      <td>14.1</td>\n",
       "      <td>21.0</td>\n",
       "      <td>1.33</td>\n",
       "      <td>77.0</td>\n",
       "      <td>36.0</td>\n",
       "      <td>386.0</td>\n",
       "      <td>0.103</td>\n",
       "      <td>1.0</td>\n",
       "      <td>1.0</td>\n",
       "      <td>NaN</td>\n",
       "    </tr>\n",
       "  </tbody>\n",
       "</table>\n",
       "<p>5 rows × 36 columns</p>\n",
       "</div>"
      ],
      "text/plain": [
       "   Sex_1male_2female   Age  Weather_1sunny_2cloudy_3rainy_4missing  \\\n",
       "0                1.0  24.0                                     3.0   \n",
       "1                NaN  43.0                                     NaN   \n",
       "2                1.0  58.0                                     NaN   \n",
       "3                1.0  46.0                                     1.0   \n",
       "4                1.0  57.0                                     1.0   \n",
       "\n",
       "   Location_1outdoor_indoor  Functionaldependency_1notdisable_2disable   HT  \\\n",
       "0                       NaN                                        1.0  0.0   \n",
       "1                       1.0                                        NaN  0.0   \n",
       "2                       1.0                                        1.0  0.0   \n",
       "3                       1.0                                        1.0  0.0   \n",
       "4                       1.0                                        1.0  0.0   \n",
       "\n",
       "   HeartDisease  Pscyco   DM  CerevD  ...   Plt   BUN   Cre   AST   ALT  \\\n",
       "0           0.0     0.0  0.0     0.0  ...  23.2  17.0  1.69  29.0  48.0   \n",
       "1           0.0     0.0  0.0     0.0  ...  24.3  23.1  3.08  36.0  35.0   \n",
       "2           0.0     0.0  0.0     0.0  ...  31.2  19.4  1.42  33.0  16.0   \n",
       "3           0.0     0.0  0.0     0.0  ...  33.3  32.9  4.20  33.0  54.0   \n",
       "4           0.0     0.0  0.0     0.0  ...  14.1  21.0  1.33  77.0  36.0   \n",
       "\n",
       "      CK    CRP  Admission1  ICU  Deadtodischarge  \n",
       "0  506.0   17.4         1.0  NaN              NaN  \n",
       "1  883.0   0.46         1.0  NaN              NaN  \n",
       "2  815.0   0.16         1.0  NaN              NaN  \n",
       "3  173.0      1         1.0  NaN              NaN  \n",
       "4  386.0  0.103         1.0  1.0              NaN  \n",
       "\n",
       "[5 rows x 36 columns]"
      ]
     },
     "execution_count": 3,
     "metadata": {},
     "output_type": "execute_result"
    }
   ],
   "source": [
    "df = pd.read_csv(\"heat.csv\")\n",
    "df.head()"
   ]
  },
  {
   "cell_type": "code",
   "execution_count": 4,
   "metadata": {
    "scrolled": true
   },
   "outputs": [
    {
     "name": "stdout",
     "output_type": "stream",
     "text": [
      "<class 'pandas.core.frame.DataFrame'>\n",
      "RangeIndex: 3177 entries, 0 to 3176\n",
      "Data columns (total 36 columns):\n",
      "Sex_1male_2female                            3110 non-null float64\n",
      "Age                                          3135 non-null float64\n",
      "Weather_1sunny_2cloudy_3rainy_4missing       2567 non-null float64\n",
      "Location_1outdoor_indoor                     1831 non-null float64\n",
      "Functionaldependency_1notdisable_2disable    2797 non-null float64\n",
      "HT                                           3175 non-null float64\n",
      "HeartDisease                                 3175 non-null float64\n",
      "Pscyco                                       3175 non-null float64\n",
      "DM                                           3175 non-null float64\n",
      "CerevD                                       3175 non-null float64\n",
      "ParkinD                                      3175 non-null float64\n",
      "CKD                                          3175 non-null float64\n",
      "Dementia                                     3175 non-null float64\n",
      "PreSBP                                       1882 non-null float64\n",
      "PreRR                                        1552 non-null float64\n",
      "PreGCSlessthan15                             2011 non-null float64\n",
      "PreBT                                        1766 non-null float64\n",
      "PreHR                                        1859 non-null float64\n",
      "Abdminal                                     1819 non-null float64\n",
      "Muscular                                     1573 non-null float64\n",
      "GCS                                          3080 non-null float64\n",
      "SBP                                          2942 non-null float64\n",
      "BT                                           2700 non-null float64\n",
      "HR                                           2834 non-null float64\n",
      "WBC                                          2850 non-null float64\n",
      "Ht                                           2787 non-null float64\n",
      "Plt                                          2797 non-null float64\n",
      "BUN                                          2822 non-null float64\n",
      "Cre                                          2837 non-null float64\n",
      "AST                                          2805 non-null float64\n",
      "ALT                                          2801 non-null float64\n",
      "CK                                           2620 non-null float64\n",
      "CRP                                          2639 non-null object\n",
      "Admission1                                   3001 non-null float64\n",
      "ICU                                          2502 non-null float64\n",
      "Deadtodischarge                              2810 non-null float64\n",
      "dtypes: float64(35), object(1)\n",
      "memory usage: 893.6+ KB\n"
     ]
    }
   ],
   "source": [
    "df.info()"
   ]
  },
  {
   "cell_type": "markdown",
   "metadata": {},
   "source": [
    "## Data Cleaning"
   ]
  },
  {
   "cell_type": "code",
   "execution_count": 5,
   "metadata": {},
   "outputs": [],
   "source": [
    "target = 'Deadtodischarge'"
   ]
  },
  {
   "cell_type": "markdown",
   "metadata": {},
   "source": [
    "### Replace empty or errors by np.nan"
   ]
  },
  {
   "cell_type": "code",
   "execution_count": 6,
   "metadata": {},
   "outputs": [],
   "source": [
    "# replace empty/erros by np.nan\n",
    "df = df.replace(r'^\\s+$', np.nan, regex=True)\n",
    "df = df.replace('\\t','',regex=True)\n",
    "df = df.replace(' ','',regex=True)\n",
    "df = df.replace('\\?',np.nan,regex=True)\n",
    "df = df.replace('\\<',np.nan,regex=True)\n",
    "df = df.replace('#NULL!',np.nan,regex=True)\n",
    "#df = df.replace('99',np.nan,regex=True)\n",
    "#df = df.replace(99,np.nan,regex=True)\n",
    "#df"
   ]
  },
  {
   "cell_type": "markdown",
   "metadata": {},
   "source": [
    "### Remove outliers"
   ]
  },
  {
   "cell_type": "code",
   "execution_count": 7,
   "metadata": {
    "scrolled": true
   },
   "outputs": [
    {
     "data": {
      "text/html": [
       "<div>\n",
       "<style scoped>\n",
       "    .dataframe tbody tr th:only-of-type {\n",
       "        vertical-align: middle;\n",
       "    }\n",
       "\n",
       "    .dataframe tbody tr th {\n",
       "        vertical-align: top;\n",
       "    }\n",
       "\n",
       "    .dataframe thead th {\n",
       "        text-align: right;\n",
       "    }\n",
       "</style>\n",
       "<table border=\"1\" class=\"dataframe\">\n",
       "  <thead>\n",
       "    <tr style=\"text-align: right;\">\n",
       "      <th></th>\n",
       "      <th>Sex_1male_2female</th>\n",
       "      <th>Age</th>\n",
       "      <th>Weather_1sunny_2cloudy_3rainy_4missing</th>\n",
       "      <th>Functionaldependency_1notdisable_2disable</th>\n",
       "      <th>HT</th>\n",
       "      <th>HeartDisease</th>\n",
       "      <th>Pscyco</th>\n",
       "      <th>DM</th>\n",
       "      <th>CerevD</th>\n",
       "      <th>ParkinD</th>\n",
       "      <th>...</th>\n",
       "      <th>Ht</th>\n",
       "      <th>Plt</th>\n",
       "      <th>BUN</th>\n",
       "      <th>Cre</th>\n",
       "      <th>AST</th>\n",
       "      <th>ALT</th>\n",
       "      <th>CK</th>\n",
       "      <th>Admission1</th>\n",
       "      <th>ICU</th>\n",
       "      <th>Deadtodischarge</th>\n",
       "    </tr>\n",
       "  </thead>\n",
       "  <tbody>\n",
       "    <tr>\n",
       "      <th>0</th>\n",
       "      <td>1.0</td>\n",
       "      <td>24.0</td>\n",
       "      <td>3.0</td>\n",
       "      <td>1.0</td>\n",
       "      <td>0.0</td>\n",
       "      <td>0.0</td>\n",
       "      <td>0.0</td>\n",
       "      <td>0.0</td>\n",
       "      <td>0.0</td>\n",
       "      <td>0.0</td>\n",
       "      <td>...</td>\n",
       "      <td>40.7</td>\n",
       "      <td>23.2</td>\n",
       "      <td>17.0</td>\n",
       "      <td>1.69</td>\n",
       "      <td>29.0</td>\n",
       "      <td>48.0</td>\n",
       "      <td>506.0</td>\n",
       "      <td>1.0</td>\n",
       "      <td>NaN</td>\n",
       "      <td>NaN</td>\n",
       "    </tr>\n",
       "    <tr>\n",
       "      <th>1</th>\n",
       "      <td>NaN</td>\n",
       "      <td>43.0</td>\n",
       "      <td>NaN</td>\n",
       "      <td>NaN</td>\n",
       "      <td>0.0</td>\n",
       "      <td>0.0</td>\n",
       "      <td>0.0</td>\n",
       "      <td>0.0</td>\n",
       "      <td>0.0</td>\n",
       "      <td>0.0</td>\n",
       "      <td>...</td>\n",
       "      <td>42.1</td>\n",
       "      <td>24.3</td>\n",
       "      <td>23.1</td>\n",
       "      <td>3.08</td>\n",
       "      <td>36.0</td>\n",
       "      <td>35.0</td>\n",
       "      <td>883.0</td>\n",
       "      <td>1.0</td>\n",
       "      <td>NaN</td>\n",
       "      <td>NaN</td>\n",
       "    </tr>\n",
       "    <tr>\n",
       "      <th>2</th>\n",
       "      <td>1.0</td>\n",
       "      <td>58.0</td>\n",
       "      <td>NaN</td>\n",
       "      <td>1.0</td>\n",
       "      <td>0.0</td>\n",
       "      <td>0.0</td>\n",
       "      <td>0.0</td>\n",
       "      <td>0.0</td>\n",
       "      <td>0.0</td>\n",
       "      <td>0.0</td>\n",
       "      <td>...</td>\n",
       "      <td>51.4</td>\n",
       "      <td>31.2</td>\n",
       "      <td>19.4</td>\n",
       "      <td>1.42</td>\n",
       "      <td>33.0</td>\n",
       "      <td>16.0</td>\n",
       "      <td>815.0</td>\n",
       "      <td>1.0</td>\n",
       "      <td>NaN</td>\n",
       "      <td>NaN</td>\n",
       "    </tr>\n",
       "    <tr>\n",
       "      <th>3</th>\n",
       "      <td>1.0</td>\n",
       "      <td>46.0</td>\n",
       "      <td>1.0</td>\n",
       "      <td>1.0</td>\n",
       "      <td>0.0</td>\n",
       "      <td>0.0</td>\n",
       "      <td>0.0</td>\n",
       "      <td>0.0</td>\n",
       "      <td>0.0</td>\n",
       "      <td>0.0</td>\n",
       "      <td>...</td>\n",
       "      <td>60.4</td>\n",
       "      <td>33.3</td>\n",
       "      <td>32.9</td>\n",
       "      <td>4.20</td>\n",
       "      <td>33.0</td>\n",
       "      <td>54.0</td>\n",
       "      <td>173.0</td>\n",
       "      <td>1.0</td>\n",
       "      <td>NaN</td>\n",
       "      <td>NaN</td>\n",
       "    </tr>\n",
       "    <tr>\n",
       "      <th>4</th>\n",
       "      <td>1.0</td>\n",
       "      <td>57.0</td>\n",
       "      <td>1.0</td>\n",
       "      <td>1.0</td>\n",
       "      <td>0.0</td>\n",
       "      <td>0.0</td>\n",
       "      <td>0.0</td>\n",
       "      <td>0.0</td>\n",
       "      <td>0.0</td>\n",
       "      <td>0.0</td>\n",
       "      <td>...</td>\n",
       "      <td>36.3</td>\n",
       "      <td>14.1</td>\n",
       "      <td>21.0</td>\n",
       "      <td>1.33</td>\n",
       "      <td>77.0</td>\n",
       "      <td>36.0</td>\n",
       "      <td>386.0</td>\n",
       "      <td>1.0</td>\n",
       "      <td>1.0</td>\n",
       "      <td>NaN</td>\n",
       "    </tr>\n",
       "  </tbody>\n",
       "</table>\n",
       "<p>5 rows × 28 columns</p>\n",
       "</div>"
      ],
      "text/plain": [
       "   Sex_1male_2female   Age  Weather_1sunny_2cloudy_3rainy_4missing  \\\n",
       "0                1.0  24.0                                     3.0   \n",
       "1                NaN  43.0                                     NaN   \n",
       "2                1.0  58.0                                     NaN   \n",
       "3                1.0  46.0                                     1.0   \n",
       "4                1.0  57.0                                     1.0   \n",
       "\n",
       "   Functionaldependency_1notdisable_2disable   HT  HeartDisease  Pscyco   DM  \\\n",
       "0                                        1.0  0.0           0.0     0.0  0.0   \n",
       "1                                        NaN  0.0           0.0     0.0  0.0   \n",
       "2                                        1.0  0.0           0.0     0.0  0.0   \n",
       "3                                        1.0  0.0           0.0     0.0  0.0   \n",
       "4                                        1.0  0.0           0.0     0.0  0.0   \n",
       "\n",
       "   CerevD  ParkinD  ...    Ht   Plt   BUN   Cre   AST   ALT     CK  \\\n",
       "0     0.0      0.0  ...  40.7  23.2  17.0  1.69  29.0  48.0  506.0   \n",
       "1     0.0      0.0  ...  42.1  24.3  23.1  3.08  36.0  35.0  883.0   \n",
       "2     0.0      0.0  ...  51.4  31.2  19.4  1.42  33.0  16.0  815.0   \n",
       "3     0.0      0.0  ...  60.4  33.3  32.9  4.20  33.0  54.0  173.0   \n",
       "4     0.0      0.0  ...  36.3  14.1  21.0  1.33  77.0  36.0  386.0   \n",
       "\n",
       "   Admission1  ICU  Deadtodischarge  \n",
       "0         1.0  NaN              NaN  \n",
       "1         1.0  NaN              NaN  \n",
       "2         1.0  NaN              NaN  \n",
       "3         1.0  NaN              NaN  \n",
       "4         1.0  1.0              NaN  \n",
       "\n",
       "[5 rows x 28 columns]"
      ]
     },
     "execution_count": 7,
     "metadata": {},
     "output_type": "execute_result"
    }
   ],
   "source": [
    "# Drop the column outliers as it is unrelated to the dependent variable\n",
    "outliers = ['Location_1outdoor_indoor', 'PreSBP', 'PreRR','PreBT','PreHR','Abdminal','Muscular','CRP']\n",
    "df = df.drop(outliers,axis=1)\n",
    "df.head()"
   ]
  },
  {
   "cell_type": "markdown",
   "metadata": {},
   "source": [
    "### Remove bad columns"
   ]
  },
  {
   "cell_type": "code",
   "execution_count": 8,
   "metadata": {},
   "outputs": [],
   "source": [
    "def remove_bad_columns(df,bad_column_threshold):\n",
    "    # find bad columns having too many missing values\n",
    "    n_null = np.array(df.isnull().sum(axis=0))\n",
    "    bad_col = np.array([]).astype(int)\n",
    "    for i in range(len(n_null)):\n",
    "        if n_null[i] >= bad_column_threshold:\n",
    "            bad_col = np.append(bad_col,i)\n",
    "\n",
    "    #print(bad_col)\n",
    "    print('number of bad columns:',len(bad_col))\n",
    "\n",
    "    # delete bad columns\n",
    "    df = df.drop(df.columns[bad_col],axis=1)\n",
    "    #df.info()\n",
    "    return df  "
   ]
  },
  {
   "cell_type": "code",
   "execution_count": 9,
   "metadata": {},
   "outputs": [
    {
     "name": "stdout",
     "output_type": "stream",
     "text": [
      "number of bad columns: 5\n",
      "<class 'pandas.core.frame.DataFrame'>\n",
      "RangeIndex: 3177 entries, 0 to 3176\n",
      "Data columns (total 23 columns):\n",
      "Sex_1male_2female                            3110 non-null float64\n",
      "Age                                          3135 non-null float64\n",
      "Functionaldependency_1notdisable_2disable    2797 non-null float64\n",
      "HT                                           3175 non-null float64\n",
      "HeartDisease                                 3175 non-null float64\n",
      "Pscyco                                       3175 non-null float64\n",
      "DM                                           3175 non-null float64\n",
      "CerevD                                       3175 non-null float64\n",
      "ParkinD                                      3175 non-null float64\n",
      "CKD                                          3175 non-null float64\n",
      "Dementia                                     3175 non-null float64\n",
      "GCS                                          3080 non-null float64\n",
      "SBP                                          2942 non-null float64\n",
      "HR                                           2834 non-null float64\n",
      "WBC                                          2850 non-null float64\n",
      "Ht                                           2787 non-null float64\n",
      "Plt                                          2797 non-null float64\n",
      "BUN                                          2822 non-null float64\n",
      "Cre                                          2837 non-null float64\n",
      "AST                                          2805 non-null float64\n",
      "ALT                                          2801 non-null float64\n",
      "Admission1                                   3001 non-null float64\n",
      "Deadtodischarge                              2810 non-null float64\n",
      "dtypes: float64(23)\n",
      "memory usage: 570.9 KB\n"
     ]
    }
   ],
   "source": [
    "df = remove_bad_columns(df,400)\n",
    "df.info()"
   ]
  },
  {
   "cell_type": "markdown",
   "metadata": {},
   "source": [
    "### Remove bad rows"
   ]
  },
  {
   "cell_type": "code",
   "execution_count": 10,
   "metadata": {},
   "outputs": [],
   "source": [
    " # Find rows where target is missing\n",
    "def find_missing_target_rows(df,target):\n",
    "    # find rows where target is missing\n",
    "    missing_row = df[target].isnull()\n",
    "    print('Number of rows where target are missing:')\n",
    "    print(sum(missing_row))\n",
    "\n",
    "    #df = df[~missing_row]\n",
    "    missing_row_indices = np.array([t for t in range(df.shape[0]) if missing_row[t]])\n",
    "    \n",
    "    return missing_row_indices"
   ]
  },
  {
   "cell_type": "code",
   "execution_count": 11,
   "metadata": {},
   "outputs": [
    {
     "name": "stdout",
     "output_type": "stream",
     "text": [
      "Number of rows where target are missing:\n",
      "367\n"
     ]
    }
   ],
   "source": [
    "missing_target_rows = find_missing_target_rows(df,target)"
   ]
  },
  {
   "cell_type": "markdown",
   "metadata": {},
   "source": [
    "We find bad rows which contain too many missing values, then remove them."
   ]
  },
  {
   "cell_type": "code",
   "execution_count": 12,
   "metadata": {},
   "outputs": [],
   "source": [
    "def find_bad_rows(df,bad_row_threshold):   \n",
    "    # find bad rows having too many missing values\n",
    "    n_null = np.array(df.isnull().sum(axis=1))\n",
    "    bad_row = np.array([]).astype(int)\n",
    "    for t in range(len(n_null)):\n",
    "        if n_null[t] >= bad_row_threshold:\n",
    "            bad_row = np.append(bad_row,t)\n",
    "\n",
    "    #print(bad_row)\n",
    "    print('number of bad rows:',len(bad_row))\n",
    "\n",
    "    # delete bad rows\n",
    "    #df = df.drop(bad_row)\n",
    "    #df.info()\n",
    "    return bad_row"
   ]
  },
  {
   "cell_type": "code",
   "execution_count": 13,
   "metadata": {},
   "outputs": [
    {
     "name": "stdout",
     "output_type": "stream",
     "text": [
      "number of bad rows: 319\n",
      "<class 'pandas.core.frame.DataFrame'>\n",
      "RangeIndex: 3177 entries, 0 to 3176\n",
      "Data columns (total 23 columns):\n",
      "Sex_1male_2female                            3110 non-null float64\n",
      "Age                                          3135 non-null float64\n",
      "Functionaldependency_1notdisable_2disable    2797 non-null float64\n",
      "HT                                           3175 non-null float64\n",
      "HeartDisease                                 3175 non-null float64\n",
      "Pscyco                                       3175 non-null float64\n",
      "DM                                           3175 non-null float64\n",
      "CerevD                                       3175 non-null float64\n",
      "ParkinD                                      3175 non-null float64\n",
      "CKD                                          3175 non-null float64\n",
      "Dementia                                     3175 non-null float64\n",
      "GCS                                          3080 non-null float64\n",
      "SBP                                          2942 non-null float64\n",
      "HR                                           2834 non-null float64\n",
      "WBC                                          2850 non-null float64\n",
      "Ht                                           2787 non-null float64\n",
      "Plt                                          2797 non-null float64\n",
      "BUN                                          2822 non-null float64\n",
      "Cre                                          2837 non-null float64\n",
      "AST                                          2805 non-null float64\n",
      "ALT                                          2801 non-null float64\n",
      "Admission1                                   3001 non-null float64\n",
      "Deadtodischarge                              2810 non-null float64\n",
      "dtypes: float64(23)\n",
      "memory usage: 570.9 KB\n"
     ]
    }
   ],
   "source": [
    "bad_rows = find_bad_rows(df,5)\n",
    "df.info()"
   ]
  },
  {
   "cell_type": "code",
   "execution_count": 14,
   "metadata": {},
   "outputs": [
    {
     "name": "stdout",
     "output_type": "stream",
     "text": [
      "number of rows need to delete: 602\n"
     ]
    }
   ],
   "source": [
    "del_rows = np.union1d(missing_target_rows,bad_rows)\n",
    "print('number of rows need to delete:',len(del_rows))\n",
    "\n",
    "df = df.drop(del_rows)"
   ]
  },
  {
   "cell_type": "markdown",
   "metadata": {},
   "source": [
    "### Separate target and attributes"
   ]
  },
  {
   "cell_type": "code",
   "execution_count": 15,
   "metadata": {},
   "outputs": [],
   "source": [
    "dfx = df.drop(target,axis=1)\n",
    "dfy = df[target]"
   ]
  },
  {
   "cell_type": "markdown",
   "metadata": {},
   "source": [
    "### Find variable type"
   ]
  },
  {
   "cell_type": "code",
   "execution_count": 16,
   "metadata": {
    "scrolled": false
   },
   "outputs": [
    {
     "name": "stdout",
     "output_type": "stream",
     "text": [
      "number of uniques of each variable:\n",
      "[  2  83   2   2   2   2   2   2   2   2   2  19 168 151 691 346 479 427\n",
      " 352 226 173   2]\n"
     ]
    }
   ],
   "source": [
    "# number of uniques of each column (excluding NaN)\n",
    "nu = np.array([len(pd.unique(dfx[col].dropna())) for col in dfx.columns])\n",
    "print('number of uniques of each variable:')\n",
    "print(nu)"
   ]
  },
  {
   "cell_type": "code",
   "execution_count": 17,
   "metadata": {
    "scrolled": true
   },
   "outputs": [],
   "source": [
    "def define_variable_type(df,nu):\n",
    "    i_binary = [] ; i_category = [] ; i_continuous = []\n",
    "    for i in range(len(nu)):\n",
    "        if nu[i] == 2: # binary \n",
    "            i_binary.append(i)\n",
    "        elif nu[i] < 5: # !!!! NOTE: this is not always correct, depending on data\n",
    "            i_category.append(i)\n",
    "        else:\n",
    "            i_continuous.append(i)\n",
    "\n",
    "    print('i_binary:',i_binary)\n",
    "    print('i_category:',i_category)   \n",
    "    #i_binary, i_category, i_continuous\n",
    "    \n",
    "    variable_type  = np.ones(len(nu))  # binary\n",
    "    variable_type[i_category] = 2   # categorical\n",
    "    variable_type[i_continuous] = 3 # continuous\n",
    "\n",
    "    return variable_type #,i_binary,i_category,i_continuous"
   ]
  },
  {
   "cell_type": "code",
   "execution_count": 18,
   "metadata": {
    "scrolled": true
   },
   "outputs": [
    {
     "name": "stdout",
     "output_type": "stream",
     "text": [
      "i_binary: [0, 2, 3, 4, 5, 6, 7, 8, 9, 10, 21]\n",
      "i_category: []\n",
      "variable type: [1. 3. 1. 1. 1. 1. 1. 1. 1. 1. 1. 3. 3. 3. 3. 3. 3. 3. 3. 3. 3. 1.]\n"
     ]
    }
   ],
   "source": [
    "variable_type = define_variable_type(dfx,nu)\n",
    "print('variable type:',variable_type)"
   ]
  },
  {
   "cell_type": "markdown",
   "metadata": {},
   "source": [
    "### Impute missing values of attributes"
   ]
  },
  {
   "cell_type": "code",
   "execution_count": 19,
   "metadata": {},
   "outputs": [],
   "source": [
    "def impute_missing(df,variable_type):\n",
    "    # impute binary and categorical variables by the most frequency (in each column)\n",
    "    # continuous variable by median\n",
    "    # input: df: pandas data frame, variable_type: list\n",
    "    # output: df2: pandas data frame\n",
    "    df2 = df.copy()\n",
    "    for i,col in enumerate(df.columns):\n",
    "        if variable_type[i] < 3: # binary or caterogy\n",
    "            df2[col] = df[col].fillna(df[col].mode().iloc[0])\n",
    "        else: # continuous\n",
    "            df2[col] = df[col].fillna(df[col].median())    \n",
    "    return df2       "
   ]
  },
  {
   "cell_type": "code",
   "execution_count": 20,
   "metadata": {
    "scrolled": false
   },
   "outputs": [
    {
     "name": "stdout",
     "output_type": "stream",
     "text": [
      "<class 'pandas.core.frame.DataFrame'>\n",
      "Int64Index: 2575 entries, 5 to 3174\n",
      "Data columns (total 22 columns):\n",
      "Sex_1male_2female                            2575 non-null float64\n",
      "Age                                          2575 non-null float64\n",
      "Functionaldependency_1notdisable_2disable    2575 non-null float64\n",
      "HT                                           2575 non-null float64\n",
      "HeartDisease                                 2575 non-null float64\n",
      "Pscyco                                       2575 non-null float64\n",
      "DM                                           2575 non-null float64\n",
      "CerevD                                       2575 non-null float64\n",
      "ParkinD                                      2575 non-null float64\n",
      "CKD                                          2575 non-null float64\n",
      "Dementia                                     2575 non-null float64\n",
      "GCS                                          2575 non-null float64\n",
      "SBP                                          2575 non-null float64\n",
      "HR                                           2575 non-null float64\n",
      "WBC                                          2575 non-null float64\n",
      "Ht                                           2575 non-null float64\n",
      "Plt                                          2575 non-null float64\n",
      "BUN                                          2575 non-null float64\n",
      "Cre                                          2575 non-null float64\n",
      "AST                                          2575 non-null float64\n",
      "ALT                                          2575 non-null float64\n",
      "Admission1                                   2575 non-null float64\n",
      "dtypes: float64(22)\n",
      "memory usage: 462.7 KB\n"
     ]
    }
   ],
   "source": [
    "dfx_imputed = impute_missing(dfx,variable_type)\n",
    "dfx_imputed.info()"
   ]
  },
  {
   "cell_type": "markdown",
   "metadata": {},
   "source": [
    "## Data Processing"
   ]
  },
  {
   "cell_type": "markdown",
   "metadata": {},
   "source": [
    "### Attributes"
   ]
  },
  {
   "cell_type": "code",
   "execution_count": 21,
   "metadata": {},
   "outputs": [],
   "source": [
    "def convert_binary_and_category(x,variable_type):\n",
    "    \"\"\"\n",
    "    convert binary to +-1, category to one hot; remain continuous.\n",
    "    \"\"\"    \n",
    "    onehot_encoder = OneHotEncoder(sparse=False,categories='auto')\n",
    "\n",
    "    # create 2 initial columns\n",
    "    x_new = np.zeros((x.shape[0],2))\n",
    "\n",
    "    for i,i_type in enumerate(variable_type):\n",
    "        if i_type == 1: # binary\n",
    "            unique_value = np.unique(x[:,i])\n",
    "            x1 = np.array([-1. if value == unique_value[0] else 1. for value in x[:,i]])        \n",
    "            x_new = np.hstack((x_new,x1[:,np.newaxis]))\n",
    "\n",
    "        elif i_type == 2: # category\n",
    "            x1 = onehot_encoder.fit_transform(x[:,i].reshape(-1,1))\n",
    "            x_new = np.hstack((x_new,x1))\n",
    "            \n",
    "        else: # continuous      \n",
    "            x_new = np.hstack((x_new,x[:,i][:,np.newaxis]))      \n",
    "\n",
    "    # drop the 2 initial column\n",
    "    x_new = x_new[:,2:]\n",
    "    \n",
    "    return x_new.astype(float)"
   ]
  },
  {
   "cell_type": "code",
   "execution_count": 22,
   "metadata": {},
   "outputs": [
    {
     "name": "stdout",
     "output_type": "stream",
     "text": [
      "(2575, 22)\n",
      "[[  1.  29.  -1. ...  16.  18.  -1.]\n",
      " [  1.  49.  -1. ... 100.  56.  -1.]\n",
      " [  1.  59.  -1. ...  40.  58.  -1.]\n",
      " ...\n",
      " [ -1.  80.  -1. ... 140.  53.   1.]\n",
      " [  1.  84.   1. ...  20.  11.   1.]\n",
      " [  1.  82.  -1. ...  26.  19.   1.]]\n"
     ]
    }
   ],
   "source": [
    "# convert x\n",
    "x = np.array(dfx_imputed)\n",
    "x_new = convert_binary_and_category(x,variable_type)\n",
    "\n",
    "print(x_new.shape)\n",
    "print(x_new)"
   ]
  },
  {
   "cell_type": "markdown",
   "metadata": {},
   "source": [
    "### Target"
   ]
  },
  {
   "cell_type": "code",
   "execution_count": 23,
   "metadata": {},
   "outputs": [
    {
     "name": "stdout",
     "output_type": "stream",
     "text": [
      "(array([0., 1.]), array([2492,   83]))\n"
     ]
    }
   ],
   "source": [
    "y = np.array(dfy)\n",
    "#print(np.unique(y,return_counts=True))\n",
    "\n",
    "# convert taget to 0 and 1\n",
    "y_new = y\n",
    "#y_new = np.ones(y.shape[0])\n",
    "#y_new[y =='No'] = 0\n",
    "\n",
    "print(np.unique(y_new,return_counts=True))"
   ]
  },
  {
   "cell_type": "code",
   "execution_count": 24,
   "metadata": {},
   "outputs": [],
   "source": [
    "# combine X and y and save to a file\n",
    "xy_new = np.hstack((x_new,y_new[:,np.newaxis]))\n",
    "np.savetxt('data_processed.dat',xy_new,fmt='%f')"
   ]
  },
  {
   "cell_type": "code",
   "execution_count": null,
   "metadata": {},
   "outputs": [],
   "source": []
  }
 ],
 "metadata": {
  "kernelspec": {
   "display_name": "Python 3",
   "language": "python",
   "name": "python3"
  },
  "language_info": {
   "codemirror_mode": {
    "name": "ipython",
    "version": 3
   },
   "file_extension": ".py",
   "mimetype": "text/x-python",
   "name": "python",
   "nbconvert_exporter": "python",
   "pygments_lexer": "ipython3",
   "version": "3.7.3"
  }
 },
 "nbformat": 4,
 "nbformat_minor": 2
}
