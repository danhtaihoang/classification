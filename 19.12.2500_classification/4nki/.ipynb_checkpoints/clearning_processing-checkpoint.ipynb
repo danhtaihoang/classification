{
 "cells": [
  {
   "cell_type": "code",
   "execution_count": 1,
   "metadata": {},
   "outputs": [],
   "source": [
    "import numpy as np\n",
    "import pandas as pd\n",
    "from sklearn.preprocessing import OneHotEncoder"
   ]
  },
  {
   "cell_type": "code",
   "execution_count": 2,
   "metadata": {},
   "outputs": [],
   "source": [
    "np.random.seed(1)"
   ]
  },
  {
   "cell_type": "code",
   "execution_count": 3,
   "metadata": {
    "scrolled": true
   },
   "outputs": [
    {
     "data": {
      "text/html": [
       "<div>\n",
       "<style scoped>\n",
       "    .dataframe tbody tr th:only-of-type {\n",
       "        vertical-align: middle;\n",
       "    }\n",
       "\n",
       "    .dataframe tbody tr th {\n",
       "        vertical-align: top;\n",
       "    }\n",
       "\n",
       "    .dataframe thead th {\n",
       "        text-align: right;\n",
       "    }\n",
       "</style>\n",
       "<table border=\"1\" class=\"dataframe\">\n",
       "  <thead>\n",
       "    <tr style=\"text-align: right;\">\n",
       "      <th></th>\n",
       "      <th>Patient</th>\n",
       "      <th>ID</th>\n",
       "      <th>age</th>\n",
       "      <th>eventdeath</th>\n",
       "      <th>survival</th>\n",
       "      <th>timerecurrence</th>\n",
       "      <th>chemo</th>\n",
       "      <th>hormonal</th>\n",
       "      <th>amputation</th>\n",
       "      <th>histtype</th>\n",
       "      <th>...</th>\n",
       "      <th>Contig36312_RC</th>\n",
       "      <th>Contig38980_RC</th>\n",
       "      <th>NM_000853</th>\n",
       "      <th>NM_000854</th>\n",
       "      <th>NM_000860</th>\n",
       "      <th>Contig29014_RC</th>\n",
       "      <th>Contig46616_RC</th>\n",
       "      <th>NM_000888</th>\n",
       "      <th>NM_000898</th>\n",
       "      <th>AF067420</th>\n",
       "    </tr>\n",
       "  </thead>\n",
       "  <tbody>\n",
       "    <tr>\n",
       "      <th>0</th>\n",
       "      <td>s122</td>\n",
       "      <td>18</td>\n",
       "      <td>43</td>\n",
       "      <td>0</td>\n",
       "      <td>14.817248</td>\n",
       "      <td>14.817248</td>\n",
       "      <td>0</td>\n",
       "      <td>0</td>\n",
       "      <td>1</td>\n",
       "      <td>1</td>\n",
       "      <td>...</td>\n",
       "      <td>0.591103</td>\n",
       "      <td>-0.355018</td>\n",
       "      <td>0.373644</td>\n",
       "      <td>-0.760690</td>\n",
       "      <td>-0.164025</td>\n",
       "      <td>-0.038726</td>\n",
       "      <td>0.237856</td>\n",
       "      <td>-0.087631</td>\n",
       "      <td>-0.369153</td>\n",
       "      <td>0.153795</td>\n",
       "    </tr>\n",
       "    <tr>\n",
       "      <th>1</th>\n",
       "      <td>s123</td>\n",
       "      <td>19</td>\n",
       "      <td>48</td>\n",
       "      <td>0</td>\n",
       "      <td>14.261465</td>\n",
       "      <td>14.261465</td>\n",
       "      <td>0</td>\n",
       "      <td>0</td>\n",
       "      <td>0</td>\n",
       "      <td>1</td>\n",
       "      <td>...</td>\n",
       "      <td>-0.199829</td>\n",
       "      <td>-0.001635</td>\n",
       "      <td>-0.062922</td>\n",
       "      <td>-0.682204</td>\n",
       "      <td>-0.220934</td>\n",
       "      <td>-0.100088</td>\n",
       "      <td>-0.466537</td>\n",
       "      <td>-0.231547</td>\n",
       "      <td>-0.643019</td>\n",
       "      <td>-0.014098</td>\n",
       "    </tr>\n",
       "    <tr>\n",
       "      <th>2</th>\n",
       "      <td>s124</td>\n",
       "      <td>20</td>\n",
       "      <td>38</td>\n",
       "      <td>0</td>\n",
       "      <td>6.644764</td>\n",
       "      <td>6.644764</td>\n",
       "      <td>0</td>\n",
       "      <td>0</td>\n",
       "      <td>0</td>\n",
       "      <td>1</td>\n",
       "      <td>...</td>\n",
       "      <td>0.328736</td>\n",
       "      <td>-0.047571</td>\n",
       "      <td>0.084228</td>\n",
       "      <td>-0.695950</td>\n",
       "      <td>-0.402840</td>\n",
       "      <td>-0.099965</td>\n",
       "      <td>0.110155</td>\n",
       "      <td>-0.114298</td>\n",
       "      <td>0.258495</td>\n",
       "      <td>-0.198911</td>\n",
       "    </tr>\n",
       "    <tr>\n",
       "      <th>3</th>\n",
       "      <td>s125</td>\n",
       "      <td>21</td>\n",
       "      <td>50</td>\n",
       "      <td>0</td>\n",
       "      <td>7.748118</td>\n",
       "      <td>7.748118</td>\n",
       "      <td>0</td>\n",
       "      <td>1</td>\n",
       "      <td>0</td>\n",
       "      <td>1</td>\n",
       "      <td>...</td>\n",
       "      <td>0.648861</td>\n",
       "      <td>-0.039088</td>\n",
       "      <td>0.182182</td>\n",
       "      <td>-0.524640</td>\n",
       "      <td>0.037320</td>\n",
       "      <td>-0.167688</td>\n",
       "      <td>-0.016790</td>\n",
       "      <td>-0.285344</td>\n",
       "      <td>-0.251188</td>\n",
       "      <td>0.862710</td>\n",
       "    </tr>\n",
       "    <tr>\n",
       "      <th>4</th>\n",
       "      <td>s126</td>\n",
       "      <td>22</td>\n",
       "      <td>38</td>\n",
       "      <td>0</td>\n",
       "      <td>6.436687</td>\n",
       "      <td>6.318960</td>\n",
       "      <td>0</td>\n",
       "      <td>0</td>\n",
       "      <td>1</td>\n",
       "      <td>1</td>\n",
       "      <td>...</td>\n",
       "      <td>-0.287538</td>\n",
       "      <td>-0.286893</td>\n",
       "      <td>0.057082</td>\n",
       "      <td>-0.565021</td>\n",
       "      <td>-0.105632</td>\n",
       "      <td>-0.108148</td>\n",
       "      <td>-0.405853</td>\n",
       "      <td>-0.053601</td>\n",
       "      <td>-0.677072</td>\n",
       "      <td>0.134160</td>\n",
       "    </tr>\n",
       "  </tbody>\n",
       "</table>\n",
       "<p>5 rows × 1570 columns</p>\n",
       "</div>"
      ],
      "text/plain": [
       "  Patient  ID  age  eventdeath   survival  timerecurrence  chemo  hormonal  \\\n",
       "0    s122  18   43           0  14.817248       14.817248      0         0   \n",
       "1    s123  19   48           0  14.261465       14.261465      0         0   \n",
       "2    s124  20   38           0   6.644764        6.644764      0         0   \n",
       "3    s125  21   50           0   7.748118        7.748118      0         1   \n",
       "4    s126  22   38           0   6.436687        6.318960      0         0   \n",
       "\n",
       "   amputation  histtype  ...  Contig36312_RC  Contig38980_RC  NM_000853  \\\n",
       "0           1         1  ...        0.591103       -0.355018   0.373644   \n",
       "1           0         1  ...       -0.199829       -0.001635  -0.062922   \n",
       "2           0         1  ...        0.328736       -0.047571   0.084228   \n",
       "3           0         1  ...        0.648861       -0.039088   0.182182   \n",
       "4           1         1  ...       -0.287538       -0.286893   0.057082   \n",
       "\n",
       "   NM_000854  NM_000860  Contig29014_RC  Contig46616_RC  NM_000888  NM_000898  \\\n",
       "0  -0.760690  -0.164025       -0.038726        0.237856  -0.087631  -0.369153   \n",
       "1  -0.682204  -0.220934       -0.100088       -0.466537  -0.231547  -0.643019   \n",
       "2  -0.695950  -0.402840       -0.099965        0.110155  -0.114298   0.258495   \n",
       "3  -0.524640   0.037320       -0.167688       -0.016790  -0.285344  -0.251188   \n",
       "4  -0.565021  -0.105632       -0.108148       -0.405853  -0.053601  -0.677072   \n",
       "\n",
       "   AF067420  \n",
       "0  0.153795  \n",
       "1 -0.014098  \n",
       "2 -0.198911  \n",
       "3  0.862710  \n",
       "4  0.134160  \n",
       "\n",
       "[5 rows x 1570 columns]"
      ]
     },
     "execution_count": 3,
     "metadata": {},
     "output_type": "execute_result"
    }
   ],
   "source": [
    "df = pd.read_csv(\"NKI_cleaned.csv\")\n",
    "df.head()"
   ]
  },
  {
   "cell_type": "code",
   "execution_count": 4,
   "metadata": {
    "scrolled": true
   },
   "outputs": [
    {
     "name": "stdout",
     "output_type": "stream",
     "text": [
      "<class 'pandas.core.frame.DataFrame'>\n",
      "RangeIndex: 272 entries, 0 to 271\n",
      "Columns: 1570 entries, Patient to AF067420\n",
      "dtypes: float64(1556), int64(13), object(1)\n",
      "memory usage: 3.3+ MB\n"
     ]
    }
   ],
   "source": [
    "df.info()"
   ]
  },
  {
   "cell_type": "markdown",
   "metadata": {},
   "source": [
    "## Data Cleaning"
   ]
  },
  {
   "cell_type": "code",
   "execution_count": 5,
   "metadata": {},
   "outputs": [],
   "source": [
    "target = 'eventdeath'"
   ]
  },
  {
   "cell_type": "markdown",
   "metadata": {},
   "source": [
    "### Replace empty or errors by np.nan"
   ]
  },
  {
   "cell_type": "code",
   "execution_count": 6,
   "metadata": {},
   "outputs": [],
   "source": [
    "# replace empty/erros by np.nan\n",
    "df = df.replace(r'^\\s+$', np.nan, regex=True)\n",
    "df = df.replace('\\t','',regex=True)\n",
    "df = df.replace(' ','',regex=True)\n",
    "df = df.replace('\\?',np.nan,regex=True)\n",
    "df = df.replace('\\<',np.nan,regex=True)\n",
    "df = df.replace('#NULL!',np.nan,regex=True)\n",
    "\n",
    "#df"
   ]
  },
  {
   "cell_type": "markdown",
   "metadata": {},
   "source": [
    "### Remove outliers"
   ]
  },
  {
   "cell_type": "code",
   "execution_count": 7,
   "metadata": {
    "scrolled": true
   },
   "outputs": [
    {
     "data": {
      "text/html": [
       "<div>\n",
       "<style scoped>\n",
       "    .dataframe tbody tr th:only-of-type {\n",
       "        vertical-align: middle;\n",
       "    }\n",
       "\n",
       "    .dataframe tbody tr th {\n",
       "        vertical-align: top;\n",
       "    }\n",
       "\n",
       "    .dataframe thead th {\n",
       "        text-align: right;\n",
       "    }\n",
       "</style>\n",
       "<table border=\"1\" class=\"dataframe\">\n",
       "  <thead>\n",
       "    <tr style=\"text-align: right;\">\n",
       "      <th></th>\n",
       "      <th>age</th>\n",
       "      <th>eventdeath</th>\n",
       "      <th>survival</th>\n",
       "      <th>timerecurrence</th>\n",
       "      <th>chemo</th>\n",
       "      <th>hormonal</th>\n",
       "      <th>amputation</th>\n",
       "      <th>histtype</th>\n",
       "      <th>diam</th>\n",
       "      <th>posnodes</th>\n",
       "      <th>...</th>\n",
       "      <th>Contig36312_RC</th>\n",
       "      <th>Contig38980_RC</th>\n",
       "      <th>NM_000853</th>\n",
       "      <th>NM_000854</th>\n",
       "      <th>NM_000860</th>\n",
       "      <th>Contig29014_RC</th>\n",
       "      <th>Contig46616_RC</th>\n",
       "      <th>NM_000888</th>\n",
       "      <th>NM_000898</th>\n",
       "      <th>AF067420</th>\n",
       "    </tr>\n",
       "  </thead>\n",
       "  <tbody>\n",
       "    <tr>\n",
       "      <th>0</th>\n",
       "      <td>43</td>\n",
       "      <td>0</td>\n",
       "      <td>14.817248</td>\n",
       "      <td>14.817248</td>\n",
       "      <td>0</td>\n",
       "      <td>0</td>\n",
       "      <td>1</td>\n",
       "      <td>1</td>\n",
       "      <td>25</td>\n",
       "      <td>0</td>\n",
       "      <td>...</td>\n",
       "      <td>0.591103</td>\n",
       "      <td>-0.355018</td>\n",
       "      <td>0.373644</td>\n",
       "      <td>-0.760690</td>\n",
       "      <td>-0.164025</td>\n",
       "      <td>-0.038726</td>\n",
       "      <td>0.237856</td>\n",
       "      <td>-0.087631</td>\n",
       "      <td>-0.369153</td>\n",
       "      <td>0.153795</td>\n",
       "    </tr>\n",
       "    <tr>\n",
       "      <th>1</th>\n",
       "      <td>48</td>\n",
       "      <td>0</td>\n",
       "      <td>14.261465</td>\n",
       "      <td>14.261465</td>\n",
       "      <td>0</td>\n",
       "      <td>0</td>\n",
       "      <td>0</td>\n",
       "      <td>1</td>\n",
       "      <td>20</td>\n",
       "      <td>0</td>\n",
       "      <td>...</td>\n",
       "      <td>-0.199829</td>\n",
       "      <td>-0.001635</td>\n",
       "      <td>-0.062922</td>\n",
       "      <td>-0.682204</td>\n",
       "      <td>-0.220934</td>\n",
       "      <td>-0.100088</td>\n",
       "      <td>-0.466537</td>\n",
       "      <td>-0.231547</td>\n",
       "      <td>-0.643019</td>\n",
       "      <td>-0.014098</td>\n",
       "    </tr>\n",
       "    <tr>\n",
       "      <th>2</th>\n",
       "      <td>38</td>\n",
       "      <td>0</td>\n",
       "      <td>6.644764</td>\n",
       "      <td>6.644764</td>\n",
       "      <td>0</td>\n",
       "      <td>0</td>\n",
       "      <td>0</td>\n",
       "      <td>1</td>\n",
       "      <td>15</td>\n",
       "      <td>0</td>\n",
       "      <td>...</td>\n",
       "      <td>0.328736</td>\n",
       "      <td>-0.047571</td>\n",
       "      <td>0.084228</td>\n",
       "      <td>-0.695950</td>\n",
       "      <td>-0.402840</td>\n",
       "      <td>-0.099965</td>\n",
       "      <td>0.110155</td>\n",
       "      <td>-0.114298</td>\n",
       "      <td>0.258495</td>\n",
       "      <td>-0.198911</td>\n",
       "    </tr>\n",
       "    <tr>\n",
       "      <th>3</th>\n",
       "      <td>50</td>\n",
       "      <td>0</td>\n",
       "      <td>7.748118</td>\n",
       "      <td>7.748118</td>\n",
       "      <td>0</td>\n",
       "      <td>1</td>\n",
       "      <td>0</td>\n",
       "      <td>1</td>\n",
       "      <td>15</td>\n",
       "      <td>1</td>\n",
       "      <td>...</td>\n",
       "      <td>0.648861</td>\n",
       "      <td>-0.039088</td>\n",
       "      <td>0.182182</td>\n",
       "      <td>-0.524640</td>\n",
       "      <td>0.037320</td>\n",
       "      <td>-0.167688</td>\n",
       "      <td>-0.016790</td>\n",
       "      <td>-0.285344</td>\n",
       "      <td>-0.251188</td>\n",
       "      <td>0.862710</td>\n",
       "    </tr>\n",
       "    <tr>\n",
       "      <th>4</th>\n",
       "      <td>38</td>\n",
       "      <td>0</td>\n",
       "      <td>6.436687</td>\n",
       "      <td>6.318960</td>\n",
       "      <td>0</td>\n",
       "      <td>0</td>\n",
       "      <td>1</td>\n",
       "      <td>1</td>\n",
       "      <td>15</td>\n",
       "      <td>0</td>\n",
       "      <td>...</td>\n",
       "      <td>-0.287538</td>\n",
       "      <td>-0.286893</td>\n",
       "      <td>0.057082</td>\n",
       "      <td>-0.565021</td>\n",
       "      <td>-0.105632</td>\n",
       "      <td>-0.108148</td>\n",
       "      <td>-0.405853</td>\n",
       "      <td>-0.053601</td>\n",
       "      <td>-0.677072</td>\n",
       "      <td>0.134160</td>\n",
       "    </tr>\n",
       "  </tbody>\n",
       "</table>\n",
       "<p>5 rows × 1567 columns</p>\n",
       "</div>"
      ],
      "text/plain": [
       "   age  eventdeath   survival  timerecurrence  chemo  hormonal  amputation  \\\n",
       "0   43           0  14.817248       14.817248      0         0           1   \n",
       "1   48           0  14.261465       14.261465      0         0           0   \n",
       "2   38           0   6.644764        6.644764      0         0           0   \n",
       "3   50           0   7.748118        7.748118      0         1           0   \n",
       "4   38           0   6.436687        6.318960      0         0           1   \n",
       "\n",
       "   histtype  diam  posnodes  ...  Contig36312_RC  Contig38980_RC  NM_000853  \\\n",
       "0         1    25         0  ...        0.591103       -0.355018   0.373644   \n",
       "1         1    20         0  ...       -0.199829       -0.001635  -0.062922   \n",
       "2         1    15         0  ...        0.328736       -0.047571   0.084228   \n",
       "3         1    15         1  ...        0.648861       -0.039088   0.182182   \n",
       "4         1    15         0  ...       -0.287538       -0.286893   0.057082   \n",
       "\n",
       "   NM_000854  NM_000860  Contig29014_RC  Contig46616_RC  NM_000888  NM_000898  \\\n",
       "0  -0.760690  -0.164025       -0.038726        0.237856  -0.087631  -0.369153   \n",
       "1  -0.682204  -0.220934       -0.100088       -0.466537  -0.231547  -0.643019   \n",
       "2  -0.695950  -0.402840       -0.099965        0.110155  -0.114298   0.258495   \n",
       "3  -0.524640   0.037320       -0.167688       -0.016790  -0.285344  -0.251188   \n",
       "4  -0.565021  -0.105632       -0.108148       -0.405853  -0.053601  -0.677072   \n",
       "\n",
       "   AF067420  \n",
       "0  0.153795  \n",
       "1 -0.014098  \n",
       "2 -0.198911  \n",
       "3  0.862710  \n",
       "4  0.134160  \n",
       "\n",
       "[5 rows x 1567 columns]"
      ]
     },
     "execution_count": 7,
     "metadata": {},
     "output_type": "execute_result"
    }
   ],
   "source": [
    "# Drop the column outliers as it is unrelated to the dependent variable\n",
    "outliers = ['ID','Patient','barcode']\n",
    "df = df.drop(outliers,axis=1)\n",
    "df.head()"
   ]
  },
  {
   "cell_type": "markdown",
   "metadata": {},
   "source": [
    "### Remove bad columns"
   ]
  },
  {
   "cell_type": "code",
   "execution_count": 8,
   "metadata": {},
   "outputs": [],
   "source": [
    "def remove_bad_columns(df,bad_column_threshold):\n",
    "    # find bad columns having too many missing values\n",
    "    n_null = np.array(df.isnull().sum(axis=0))\n",
    "    bad_col = np.array([]).astype(int)\n",
    "    for i in range(len(n_null)):\n",
    "        if n_null[i] >= bad_column_threshold:\n",
    "            bad_col = np.append(bad_col,i)\n",
    "\n",
    "    #print(bad_col)\n",
    "    print('number of bad columns:',len(bad_col))\n",
    "\n",
    "    # delete bad columns\n",
    "    df = df.drop(df.columns[bad_col],axis=1)\n",
    "    #df.info()\n",
    "    return df  "
   ]
  },
  {
   "cell_type": "code",
   "execution_count": 9,
   "metadata": {},
   "outputs": [
    {
     "name": "stdout",
     "output_type": "stream",
     "text": [
      "number of bad columns: 0\n",
      "<class 'pandas.core.frame.DataFrame'>\n",
      "RangeIndex: 272 entries, 0 to 271\n",
      "Columns: 1567 entries, age to AF067420\n",
      "dtypes: float64(1556), int64(11)\n",
      "memory usage: 3.3 MB\n"
     ]
    }
   ],
   "source": [
    "df = remove_bad_columns(df,10)\n",
    "df.info()"
   ]
  },
  {
   "cell_type": "markdown",
   "metadata": {},
   "source": [
    "### Remove bad rows"
   ]
  },
  {
   "cell_type": "code",
   "execution_count": 10,
   "metadata": {},
   "outputs": [],
   "source": [
    " # Find rows where target is missing\n",
    "def find_missing_target_rows(df,target):\n",
    "    # find rows where target is missing\n",
    "    missing_row = df[target].isnull()\n",
    "    print('Number of rows where target are missing:')\n",
    "    print(sum(missing_row))\n",
    "\n",
    "    #df = df[~missing_row]\n",
    "    missing_row_indices = np.array([t for t in range(df.shape[0]) if missing_row[t]])\n",
    "    \n",
    "    return missing_row_indices"
   ]
  },
  {
   "cell_type": "code",
   "execution_count": 11,
   "metadata": {},
   "outputs": [
    {
     "name": "stdout",
     "output_type": "stream",
     "text": [
      "Number of rows where target are missing:\n",
      "0\n"
     ]
    }
   ],
   "source": [
    "missing_target_rows = find_missing_target_rows(df,target)"
   ]
  },
  {
   "cell_type": "markdown",
   "metadata": {},
   "source": [
    "We find bad rows which contain too many missing values, then remove them."
   ]
  },
  {
   "cell_type": "code",
   "execution_count": 12,
   "metadata": {},
   "outputs": [],
   "source": [
    "def find_bad_rows(df,bad_row_threshold):   \n",
    "    # find bad rows having too many missing values\n",
    "    n_null = np.array(df.isnull().sum(axis=1))\n",
    "    bad_row = np.array([]).astype(int)\n",
    "    for t in range(len(n_null)):\n",
    "        if n_null[t] >= bad_row_threshold:\n",
    "            bad_row = np.append(bad_row,t)\n",
    "\n",
    "    #print(bad_row)\n",
    "    print('number of bad rows:',len(bad_row))\n",
    "\n",
    "    # delete bad rows\n",
    "    #df = df.drop(bad_row)\n",
    "    #df.info()\n",
    "    return bad_row"
   ]
  },
  {
   "cell_type": "code",
   "execution_count": 13,
   "metadata": {},
   "outputs": [
    {
     "name": "stdout",
     "output_type": "stream",
     "text": [
      "number of bad rows: 0\n",
      "<class 'pandas.core.frame.DataFrame'>\n",
      "RangeIndex: 272 entries, 0 to 271\n",
      "Columns: 1567 entries, age to AF067420\n",
      "dtypes: float64(1556), int64(11)\n",
      "memory usage: 3.3 MB\n"
     ]
    }
   ],
   "source": [
    "bad_rows = find_bad_rows(df,10)\n",
    "df.info()"
   ]
  },
  {
   "cell_type": "code",
   "execution_count": 14,
   "metadata": {},
   "outputs": [
    {
     "name": "stdout",
     "output_type": "stream",
     "text": [
      "number of rows need to delete: 0\n"
     ]
    }
   ],
   "source": [
    "del_rows = np.union1d(missing_target_rows,bad_rows)\n",
    "print('number of rows need to delete:',len(del_rows))\n",
    "\n",
    "df = df.drop(del_rows)"
   ]
  },
  {
   "cell_type": "markdown",
   "metadata": {},
   "source": [
    "### Separate target and attributes"
   ]
  },
  {
   "cell_type": "code",
   "execution_count": 15,
   "metadata": {},
   "outputs": [],
   "source": [
    "dfx = df.drop(target,axis=1)\n",
    "dfy = df[target]"
   ]
  },
  {
   "cell_type": "markdown",
   "metadata": {},
   "source": [
    "### Find variable type"
   ]
  },
  {
   "cell_type": "code",
   "execution_count": 16,
   "metadata": {
    "scrolled": false
   },
   "outputs": [
    {
     "name": "stdout",
     "output_type": "stream",
     "text": [
      "number of uniques of each variable:\n",
      "[ 27 261 262 ... 272 272 272]\n"
     ]
    }
   ],
   "source": [
    "# number of uniques of each column (excluding NaN)\n",
    "nu = np.array([len(pd.unique(dfx[col].dropna())) for col in dfx.columns])\n",
    "print('number of uniques of each variable:')\n",
    "print(nu)"
   ]
  },
  {
   "cell_type": "code",
   "execution_count": 17,
   "metadata": {
    "scrolled": true
   },
   "outputs": [],
   "source": [
    "def define_variable_type(df,nu):\n",
    "    i_binary = [] ; i_category = [] ; i_continuous = []\n",
    "    for i in range(len(nu)):\n",
    "        if nu[i] == 2: # binary \n",
    "            i_binary.append(i)\n",
    "        elif nu[i] < 5: # !!!! NOTE: this is not always correct, depending on data\n",
    "            i_category.append(i)\n",
    "        else:\n",
    "            i_continuous.append(i)\n",
    "\n",
    "    print('i_binary:',i_binary)\n",
    "    print('i_category:',i_category)   \n",
    "    #i_binary, i_category, i_continuous\n",
    "    \n",
    "    variable_type  = np.ones(len(nu))  # binary\n",
    "    variable_type[i_category] = 2   # categorical\n",
    "    variable_type[i_continuous] = 3 # continuous\n",
    "\n",
    "    return variable_type #,i_binary,i_category,i_continuous"
   ]
  },
  {
   "cell_type": "code",
   "execution_count": 18,
   "metadata": {
    "scrolled": true
   },
   "outputs": [
    {
     "name": "stdout",
     "output_type": "stream",
     "text": [
      "i_binary: [3, 4, 5]\n",
      "i_category: [9, 10, 11]\n",
      "variable type: [3. 3. 3. ... 3. 3. 3.]\n"
     ]
    }
   ],
   "source": [
    "variable_type = define_variable_type(dfx,nu)\n",
    "print('variable type:',variable_type)"
   ]
  },
  {
   "cell_type": "markdown",
   "metadata": {},
   "source": [
    "### Impute missing values of attributes"
   ]
  },
  {
   "cell_type": "code",
   "execution_count": 19,
   "metadata": {},
   "outputs": [],
   "source": [
    "def impute_missing(df,variable_type):\n",
    "    # impute binary and categorical variables by the most frequency (in each column)\n",
    "    # continuous variable by median\n",
    "    # input: df: pandas data frame, variable_type: list\n",
    "    # output: df2: pandas data frame\n",
    "    df2 = df.copy()\n",
    "    for i,col in enumerate(df.columns):\n",
    "        if variable_type[i] < 3: # binary or caterogy\n",
    "            df2[col] = df[col].fillna(df[col].mode().iloc[0])\n",
    "        else: # continuous\n",
    "            df2[col] = df[col].fillna(df[col].median())    \n",
    "    return df2       "
   ]
  },
  {
   "cell_type": "code",
   "execution_count": 20,
   "metadata": {
    "scrolled": false
   },
   "outputs": [
    {
     "name": "stdout",
     "output_type": "stream",
     "text": [
      "<class 'pandas.core.frame.DataFrame'>\n",
      "Int64Index: 272 entries, 0 to 271\n",
      "Columns: 1566 entries, age to AF067420\n",
      "dtypes: float64(1556), int64(10)\n",
      "memory usage: 3.3 MB\n"
     ]
    }
   ],
   "source": [
    "dfx_imputed = impute_missing(dfx,variable_type)\n",
    "dfx_imputed.info()"
   ]
  },
  {
   "cell_type": "markdown",
   "metadata": {},
   "source": [
    "## Data Processing"
   ]
  },
  {
   "cell_type": "markdown",
   "metadata": {},
   "source": [
    "### Attributes"
   ]
  },
  {
   "cell_type": "code",
   "execution_count": 21,
   "metadata": {},
   "outputs": [],
   "source": [
    "def convert_binary_and_category(x,variable_type):\n",
    "    \"\"\"\n",
    "    convert binary to +-1, category to one hot; remain continuous.\n",
    "    \"\"\"    \n",
    "    onehot_encoder = OneHotEncoder(sparse=False,categories='auto')\n",
    "\n",
    "    # create 2 initial columns\n",
    "    x_new = np.zeros((x.shape[0],2))\n",
    "\n",
    "    for i,i_type in enumerate(variable_type):\n",
    "        if i_type == 1: # binary\n",
    "            unique_value = np.unique(x[:,i])\n",
    "            x1 = np.array([-1. if value == unique_value[0] else 1. for value in x[:,i]])        \n",
    "            x_new = np.hstack((x_new,x1[:,np.newaxis]))\n",
    "\n",
    "        elif i_type == 2: # category\n",
    "            x1 = onehot_encoder.fit_transform(x[:,i].reshape(-1,1))\n",
    "            x_new = np.hstack((x_new,x1))\n",
    "            \n",
    "        else: # continuous      \n",
    "            x_new = np.hstack((x_new,x[:,i][:,np.newaxis]))      \n",
    "\n",
    "    # drop the 2 initial column\n",
    "    x_new = x_new[:,2:]\n",
    "    \n",
    "    return x_new.astype(float)"
   ]
  },
  {
   "cell_type": "code",
   "execution_count": 22,
   "metadata": {},
   "outputs": [
    {
     "name": "stdout",
     "output_type": "stream",
     "text": [
      "(272, 1572)\n",
      "[[ 4.3000000e+01  1.4817248e+01  1.4817248e+01 ... -8.7631000e-02\n",
      "  -3.6915300e-01  1.5379500e-01]\n",
      " [ 4.8000000e+01  1.4261465e+01  1.4261465e+01 ... -2.3154700e-01\n",
      "  -6.4301900e-01 -1.4098000e-02]\n",
      " [ 3.8000000e+01  6.6447640e+00  6.6447640e+00 ... -1.1429800e-01\n",
      "   2.5849500e-01 -1.9891100e-01]\n",
      " ...\n",
      " [ 5.0000000e+01  2.6192000e+00  2.1492130e+00 ... -5.1088400e-01\n",
      "   2.5190300e-01 -8.2279200e-01]\n",
      " [ 5.2000000e+01  2.2905000e+00  2.2094460e+00 ... -3.9653100e-01\n",
      "   3.5681600e-01  3.4508800e-01]\n",
      " [ 5.2000000e+01  3.7370000e+00  2.1273100e+00 ...  7.9495200e-01\n",
      "  -1.0893030e+00 -3.2619300e-01]]\n"
     ]
    }
   ],
   "source": [
    "# convert x\n",
    "x = np.array(dfx_imputed)\n",
    "x_new = convert_binary_and_category(x,variable_type)\n",
    "\n",
    "print(x_new.shape)\n",
    "print(x_new)"
   ]
  },
  {
   "cell_type": "markdown",
   "metadata": {},
   "source": [
    "### Target"
   ]
  },
  {
   "cell_type": "code",
   "execution_count": 23,
   "metadata": {},
   "outputs": [
    {
     "name": "stdout",
     "output_type": "stream",
     "text": [
      "(array([0, 1]), array([195,  77]))\n"
     ]
    }
   ],
   "source": [
    "y = np.array(dfy)\n",
    "#print(np.unique(y,return_counts=True))\n",
    "\n",
    "# convert taget to 0 and 1\n",
    "y_new = y\n",
    "#y_new = np.ones(y.shape[0])\n",
    "#y_new[y =='No'] = 0\n",
    "\n",
    "print(np.unique(y_new,return_counts=True))"
   ]
  },
  {
   "cell_type": "code",
   "execution_count": 24,
   "metadata": {},
   "outputs": [],
   "source": [
    "# combine X and y and save to a file\n",
    "xy_new = np.hstack((x_new,y_new[:,np.newaxis]))\n",
    "np.savetxt('data_processed.dat',xy_new,fmt='%f')"
   ]
  },
  {
   "cell_type": "code",
   "execution_count": null,
   "metadata": {},
   "outputs": [],
   "source": []
  }
 ],
 "metadata": {
  "kernelspec": {
   "display_name": "Python 3",
   "language": "python",
   "name": "python3"
  },
  "language_info": {
   "codemirror_mode": {
    "name": "ipython",
    "version": 3
   },
   "file_extension": ".py",
   "mimetype": "text/x-python",
   "name": "python",
   "nbconvert_exporter": "python",
   "pygments_lexer": "ipython3",
   "version": "3.7.3"
  }
 },
 "nbformat": 4,
 "nbformat_minor": 2
}
